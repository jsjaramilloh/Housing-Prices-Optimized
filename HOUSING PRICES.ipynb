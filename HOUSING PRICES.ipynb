{
 "cells": [
  {
   "cell_type": "markdown",
   "metadata": {},
   "source": [
    "![rmotr](https://user-images.githubusercontent.com/7065401/52071918-bda15380-2562-11e9-828c-7f95297e4a82.png)\n",
    "<hr style=\"margin-bottom: 40px;\">\n",
    "\n",
    "<img src=\"https://www.marbellaforsale.com/blog/wp-content/uploads/2018/07/used-property-prices-up-q2-2018.jpg\"\n",
    "    style=\"width:400px; float: right; margin: 0 40px 40px 40px;\"></img>\n",
    "\n",
    "# HOUSING PRICES\n",
    "\n",
    "In this project, we will do an exploratory data analysis (EDA) and a model validation using the Mean Absolute Error (MAE) for several packs of Features selected by correlation, intuition, and field-knowledge.\n",
    "\n",
    "\n",
    "The dataset was taken from Kaggle's Housing Prices Competition (Visit [Kaggle](https://www.kaggle.com)). It has 79 explanatory variables describing (almost) every aspect of residential homes in Ames, Iowa. The objective is to predict the final price of each home."
   ]
  },
  {
   "cell_type": "markdown",
   "metadata": {},
   "source": [
    "![purple-divider](https://user-images.githubusercontent.com/7065401/52071927-c1cd7100-2562-11e9-908a-dde91ba14e59.png)\n",
    "\n",
    "## 1- Exploratory Data Analysis (EDA)"
   ]
  },
  {
   "cell_type": "markdown",
   "metadata": {},
   "source": [
    "### A- Loading libraries. Hands on!"
   ]
  },
  {
   "cell_type": "code",
   "execution_count": 4,
   "metadata": {},
   "outputs": [],
   "source": [
    "import numpy as np\n",
    "import pandas as pd\n",
    "import matplotlib.pyplot as plt\n",
    "import seaborn as sns\n",
    "\n",
    "%matplotlib inline"
   ]
  },
  {
   "cell_type": "markdown",
   "metadata": {},
   "source": [
    "![green-divider](https://user-images.githubusercontent.com/7065401/52071924-c003ad80-2562-11e9-8297-1c6595f8a7ff.png)\n",
    "\n",
    "### B- Loading our data:\n",
    "\n",
    "As we saw on previous courses we can read data simply using Python."
   ]
  },
  {
   "cell_type": "code",
   "execution_count": 5,
   "metadata": {},
   "outputs": [],
   "source": [
    "home_data = pd.read_csv('train.csv')"
   ]
  },
  {
   "cell_type": "markdown",
   "metadata": {},
   "source": [
    "![green-divider](https://user-images.githubusercontent.com/7065401/52071924-c003ad80-2562-11e9-8297-1c6595f8a7ff.png)\n",
    "\n",
    "### C- A glance at the data:"
   ]
  },
  {
   "cell_type": "code",
   "execution_count": 6,
   "metadata": {},
   "outputs": [
    {
     "data": {
      "text/html": [
       "<div>\n",
       "<style scoped>\n",
       "    .dataframe tbody tr th:only-of-type {\n",
       "        vertical-align: middle;\n",
       "    }\n",
       "\n",
       "    .dataframe tbody tr th {\n",
       "        vertical-align: top;\n",
       "    }\n",
       "\n",
       "    .dataframe thead th {\n",
       "        text-align: right;\n",
       "    }\n",
       "</style>\n",
       "<table border=\"1\" class=\"dataframe\">\n",
       "  <thead>\n",
       "    <tr style=\"text-align: right;\">\n",
       "      <th></th>\n",
       "      <th>Id</th>\n",
       "      <th>MSSubClass</th>\n",
       "      <th>MSZoning</th>\n",
       "      <th>LotFrontage</th>\n",
       "      <th>LotArea</th>\n",
       "      <th>Street</th>\n",
       "      <th>Alley</th>\n",
       "      <th>LotShape</th>\n",
       "      <th>LandContour</th>\n",
       "      <th>Utilities</th>\n",
       "      <th>...</th>\n",
       "      <th>PoolArea</th>\n",
       "      <th>PoolQC</th>\n",
       "      <th>Fence</th>\n",
       "      <th>MiscFeature</th>\n",
       "      <th>MiscVal</th>\n",
       "      <th>MoSold</th>\n",
       "      <th>YrSold</th>\n",
       "      <th>SaleType</th>\n",
       "      <th>SaleCondition</th>\n",
       "      <th>SalePrice</th>\n",
       "    </tr>\n",
       "  </thead>\n",
       "  <tbody>\n",
       "    <tr>\n",
       "      <th>0</th>\n",
       "      <td>1</td>\n",
       "      <td>60</td>\n",
       "      <td>RL</td>\n",
       "      <td>65.0</td>\n",
       "      <td>8450</td>\n",
       "      <td>Pave</td>\n",
       "      <td>NaN</td>\n",
       "      <td>Reg</td>\n",
       "      <td>Lvl</td>\n",
       "      <td>AllPub</td>\n",
       "      <td>...</td>\n",
       "      <td>0</td>\n",
       "      <td>NaN</td>\n",
       "      <td>NaN</td>\n",
       "      <td>NaN</td>\n",
       "      <td>0</td>\n",
       "      <td>2</td>\n",
       "      <td>2008</td>\n",
       "      <td>WD</td>\n",
       "      <td>Normal</td>\n",
       "      <td>208500</td>\n",
       "    </tr>\n",
       "    <tr>\n",
       "      <th>1</th>\n",
       "      <td>2</td>\n",
       "      <td>20</td>\n",
       "      <td>RL</td>\n",
       "      <td>80.0</td>\n",
       "      <td>9600</td>\n",
       "      <td>Pave</td>\n",
       "      <td>NaN</td>\n",
       "      <td>Reg</td>\n",
       "      <td>Lvl</td>\n",
       "      <td>AllPub</td>\n",
       "      <td>...</td>\n",
       "      <td>0</td>\n",
       "      <td>NaN</td>\n",
       "      <td>NaN</td>\n",
       "      <td>NaN</td>\n",
       "      <td>0</td>\n",
       "      <td>5</td>\n",
       "      <td>2007</td>\n",
       "      <td>WD</td>\n",
       "      <td>Normal</td>\n",
       "      <td>181500</td>\n",
       "    </tr>\n",
       "    <tr>\n",
       "      <th>2</th>\n",
       "      <td>3</td>\n",
       "      <td>60</td>\n",
       "      <td>RL</td>\n",
       "      <td>68.0</td>\n",
       "      <td>11250</td>\n",
       "      <td>Pave</td>\n",
       "      <td>NaN</td>\n",
       "      <td>IR1</td>\n",
       "      <td>Lvl</td>\n",
       "      <td>AllPub</td>\n",
       "      <td>...</td>\n",
       "      <td>0</td>\n",
       "      <td>NaN</td>\n",
       "      <td>NaN</td>\n",
       "      <td>NaN</td>\n",
       "      <td>0</td>\n",
       "      <td>9</td>\n",
       "      <td>2008</td>\n",
       "      <td>WD</td>\n",
       "      <td>Normal</td>\n",
       "      <td>223500</td>\n",
       "    </tr>\n",
       "    <tr>\n",
       "      <th>3</th>\n",
       "      <td>4</td>\n",
       "      <td>70</td>\n",
       "      <td>RL</td>\n",
       "      <td>60.0</td>\n",
       "      <td>9550</td>\n",
       "      <td>Pave</td>\n",
       "      <td>NaN</td>\n",
       "      <td>IR1</td>\n",
       "      <td>Lvl</td>\n",
       "      <td>AllPub</td>\n",
       "      <td>...</td>\n",
       "      <td>0</td>\n",
       "      <td>NaN</td>\n",
       "      <td>NaN</td>\n",
       "      <td>NaN</td>\n",
       "      <td>0</td>\n",
       "      <td>2</td>\n",
       "      <td>2006</td>\n",
       "      <td>WD</td>\n",
       "      <td>Abnorml</td>\n",
       "      <td>140000</td>\n",
       "    </tr>\n",
       "    <tr>\n",
       "      <th>4</th>\n",
       "      <td>5</td>\n",
       "      <td>60</td>\n",
       "      <td>RL</td>\n",
       "      <td>84.0</td>\n",
       "      <td>14260</td>\n",
       "      <td>Pave</td>\n",
       "      <td>NaN</td>\n",
       "      <td>IR1</td>\n",
       "      <td>Lvl</td>\n",
       "      <td>AllPub</td>\n",
       "      <td>...</td>\n",
       "      <td>0</td>\n",
       "      <td>NaN</td>\n",
       "      <td>NaN</td>\n",
       "      <td>NaN</td>\n",
       "      <td>0</td>\n",
       "      <td>12</td>\n",
       "      <td>2008</td>\n",
       "      <td>WD</td>\n",
       "      <td>Normal</td>\n",
       "      <td>250000</td>\n",
       "    </tr>\n",
       "  </tbody>\n",
       "</table>\n",
       "<p>5 rows × 81 columns</p>\n",
       "</div>"
      ],
      "text/plain": [
       "   Id  MSSubClass MSZoning  LotFrontage  LotArea Street Alley LotShape  \\\n",
       "0   1          60       RL         65.0     8450   Pave   NaN      Reg   \n",
       "1   2          20       RL         80.0     9600   Pave   NaN      Reg   \n",
       "2   3          60       RL         68.0    11250   Pave   NaN      IR1   \n",
       "3   4          70       RL         60.0     9550   Pave   NaN      IR1   \n",
       "4   5          60       RL         84.0    14260   Pave   NaN      IR1   \n",
       "\n",
       "  LandContour Utilities  ... PoolArea PoolQC Fence MiscFeature MiscVal MoSold  \\\n",
       "0         Lvl    AllPub  ...        0    NaN   NaN         NaN       0      2   \n",
       "1         Lvl    AllPub  ...        0    NaN   NaN         NaN       0      5   \n",
       "2         Lvl    AllPub  ...        0    NaN   NaN         NaN       0      9   \n",
       "3         Lvl    AllPub  ...        0    NaN   NaN         NaN       0      2   \n",
       "4         Lvl    AllPub  ...        0    NaN   NaN         NaN       0     12   \n",
       "\n",
       "  YrSold  SaleType  SaleCondition  SalePrice  \n",
       "0   2008        WD         Normal     208500  \n",
       "1   2007        WD         Normal     181500  \n",
       "2   2008        WD         Normal     223500  \n",
       "3   2006        WD        Abnorml     140000  \n",
       "4   2008        WD         Normal     250000  \n",
       "\n",
       "[5 rows x 81 columns]"
      ]
     },
     "execution_count": 6,
     "metadata": {},
     "output_type": "execute_result"
    }
   ],
   "source": [
    "home_data.head()"
   ]
  },
  {
   "cell_type": "code",
   "execution_count": 7,
   "metadata": {},
   "outputs": [
    {
     "data": {
      "text/html": [
       "<div>\n",
       "<style scoped>\n",
       "    .dataframe tbody tr th:only-of-type {\n",
       "        vertical-align: middle;\n",
       "    }\n",
       "\n",
       "    .dataframe tbody tr th {\n",
       "        vertical-align: top;\n",
       "    }\n",
       "\n",
       "    .dataframe thead th {\n",
       "        text-align: right;\n",
       "    }\n",
       "</style>\n",
       "<table border=\"1\" class=\"dataframe\">\n",
       "  <thead>\n",
       "    <tr style=\"text-align: right;\">\n",
       "      <th></th>\n",
       "      <th>Id</th>\n",
       "      <th>MSSubClass</th>\n",
       "      <th>MSZoning</th>\n",
       "      <th>LotFrontage</th>\n",
       "      <th>LotArea</th>\n",
       "      <th>Street</th>\n",
       "      <th>Alley</th>\n",
       "      <th>LotShape</th>\n",
       "      <th>LandContour</th>\n",
       "      <th>Utilities</th>\n",
       "      <th>...</th>\n",
       "      <th>PoolArea</th>\n",
       "      <th>PoolQC</th>\n",
       "      <th>Fence</th>\n",
       "      <th>MiscFeature</th>\n",
       "      <th>MiscVal</th>\n",
       "      <th>MoSold</th>\n",
       "      <th>YrSold</th>\n",
       "      <th>SaleType</th>\n",
       "      <th>SaleCondition</th>\n",
       "      <th>SalePrice</th>\n",
       "    </tr>\n",
       "  </thead>\n",
       "  <tbody>\n",
       "    <tr>\n",
       "      <th>1455</th>\n",
       "      <td>1456</td>\n",
       "      <td>60</td>\n",
       "      <td>RL</td>\n",
       "      <td>62.0</td>\n",
       "      <td>7917</td>\n",
       "      <td>Pave</td>\n",
       "      <td>NaN</td>\n",
       "      <td>Reg</td>\n",
       "      <td>Lvl</td>\n",
       "      <td>AllPub</td>\n",
       "      <td>...</td>\n",
       "      <td>0</td>\n",
       "      <td>NaN</td>\n",
       "      <td>NaN</td>\n",
       "      <td>NaN</td>\n",
       "      <td>0</td>\n",
       "      <td>8</td>\n",
       "      <td>2007</td>\n",
       "      <td>WD</td>\n",
       "      <td>Normal</td>\n",
       "      <td>175000</td>\n",
       "    </tr>\n",
       "    <tr>\n",
       "      <th>1456</th>\n",
       "      <td>1457</td>\n",
       "      <td>20</td>\n",
       "      <td>RL</td>\n",
       "      <td>85.0</td>\n",
       "      <td>13175</td>\n",
       "      <td>Pave</td>\n",
       "      <td>NaN</td>\n",
       "      <td>Reg</td>\n",
       "      <td>Lvl</td>\n",
       "      <td>AllPub</td>\n",
       "      <td>...</td>\n",
       "      <td>0</td>\n",
       "      <td>NaN</td>\n",
       "      <td>MnPrv</td>\n",
       "      <td>NaN</td>\n",
       "      <td>0</td>\n",
       "      <td>2</td>\n",
       "      <td>2010</td>\n",
       "      <td>WD</td>\n",
       "      <td>Normal</td>\n",
       "      <td>210000</td>\n",
       "    </tr>\n",
       "    <tr>\n",
       "      <th>1457</th>\n",
       "      <td>1458</td>\n",
       "      <td>70</td>\n",
       "      <td>RL</td>\n",
       "      <td>66.0</td>\n",
       "      <td>9042</td>\n",
       "      <td>Pave</td>\n",
       "      <td>NaN</td>\n",
       "      <td>Reg</td>\n",
       "      <td>Lvl</td>\n",
       "      <td>AllPub</td>\n",
       "      <td>...</td>\n",
       "      <td>0</td>\n",
       "      <td>NaN</td>\n",
       "      <td>GdPrv</td>\n",
       "      <td>Shed</td>\n",
       "      <td>2500</td>\n",
       "      <td>5</td>\n",
       "      <td>2010</td>\n",
       "      <td>WD</td>\n",
       "      <td>Normal</td>\n",
       "      <td>266500</td>\n",
       "    </tr>\n",
       "    <tr>\n",
       "      <th>1458</th>\n",
       "      <td>1459</td>\n",
       "      <td>20</td>\n",
       "      <td>RL</td>\n",
       "      <td>68.0</td>\n",
       "      <td>9717</td>\n",
       "      <td>Pave</td>\n",
       "      <td>NaN</td>\n",
       "      <td>Reg</td>\n",
       "      <td>Lvl</td>\n",
       "      <td>AllPub</td>\n",
       "      <td>...</td>\n",
       "      <td>0</td>\n",
       "      <td>NaN</td>\n",
       "      <td>NaN</td>\n",
       "      <td>NaN</td>\n",
       "      <td>0</td>\n",
       "      <td>4</td>\n",
       "      <td>2010</td>\n",
       "      <td>WD</td>\n",
       "      <td>Normal</td>\n",
       "      <td>142125</td>\n",
       "    </tr>\n",
       "    <tr>\n",
       "      <th>1459</th>\n",
       "      <td>1460</td>\n",
       "      <td>20</td>\n",
       "      <td>RL</td>\n",
       "      <td>75.0</td>\n",
       "      <td>9937</td>\n",
       "      <td>Pave</td>\n",
       "      <td>NaN</td>\n",
       "      <td>Reg</td>\n",
       "      <td>Lvl</td>\n",
       "      <td>AllPub</td>\n",
       "      <td>...</td>\n",
       "      <td>0</td>\n",
       "      <td>NaN</td>\n",
       "      <td>NaN</td>\n",
       "      <td>NaN</td>\n",
       "      <td>0</td>\n",
       "      <td>6</td>\n",
       "      <td>2008</td>\n",
       "      <td>WD</td>\n",
       "      <td>Normal</td>\n",
       "      <td>147500</td>\n",
       "    </tr>\n",
       "  </tbody>\n",
       "</table>\n",
       "<p>5 rows × 81 columns</p>\n",
       "</div>"
      ],
      "text/plain": [
       "        Id  MSSubClass MSZoning  LotFrontage  LotArea Street Alley LotShape  \\\n",
       "1455  1456          60       RL         62.0     7917   Pave   NaN      Reg   \n",
       "1456  1457          20       RL         85.0    13175   Pave   NaN      Reg   \n",
       "1457  1458          70       RL         66.0     9042   Pave   NaN      Reg   \n",
       "1458  1459          20       RL         68.0     9717   Pave   NaN      Reg   \n",
       "1459  1460          20       RL         75.0     9937   Pave   NaN      Reg   \n",
       "\n",
       "     LandContour Utilities  ... PoolArea PoolQC  Fence MiscFeature MiscVal  \\\n",
       "1455         Lvl    AllPub  ...        0    NaN    NaN         NaN       0   \n",
       "1456         Lvl    AllPub  ...        0    NaN  MnPrv         NaN       0   \n",
       "1457         Lvl    AllPub  ...        0    NaN  GdPrv        Shed    2500   \n",
       "1458         Lvl    AllPub  ...        0    NaN    NaN         NaN       0   \n",
       "1459         Lvl    AllPub  ...        0    NaN    NaN         NaN       0   \n",
       "\n",
       "     MoSold YrSold  SaleType  SaleCondition  SalePrice  \n",
       "1455      8   2007        WD         Normal     175000  \n",
       "1456      2   2010        WD         Normal     210000  \n",
       "1457      5   2010        WD         Normal     266500  \n",
       "1458      4   2010        WD         Normal     142125  \n",
       "1459      6   2008        WD         Normal     147500  \n",
       "\n",
       "[5 rows x 81 columns]"
      ]
     },
     "execution_count": 7,
     "metadata": {},
     "output_type": "execute_result"
    }
   ],
   "source": [
    "home_data.tail()"
   ]
  },
  {
   "cell_type": "code",
   "execution_count": 8,
   "metadata": {},
   "outputs": [
    {
     "data": {
      "text/plain": [
       "(1460, 81)"
      ]
     },
     "execution_count": 8,
     "metadata": {},
     "output_type": "execute_result"
    }
   ],
   "source": [
    "home_data.shape"
   ]
  },
  {
   "cell_type": "code",
   "execution_count": 9,
   "metadata": {},
   "outputs": [
    {
     "name": "stdout",
     "output_type": "stream",
     "text": [
      "<class 'pandas.core.frame.DataFrame'>\n",
      "RangeIndex: 1460 entries, 0 to 1459\n",
      "Data columns (total 81 columns):\n",
      " #   Column         Non-Null Count  Dtype  \n",
      "---  ------         --------------  -----  \n",
      " 0   Id             1460 non-null   int64  \n",
      " 1   MSSubClass     1460 non-null   int64  \n",
      " 2   MSZoning       1460 non-null   object \n",
      " 3   LotFrontage    1201 non-null   float64\n",
      " 4   LotArea        1460 non-null   int64  \n",
      " 5   Street         1460 non-null   object \n",
      " 6   Alley          91 non-null     object \n",
      " 7   LotShape       1460 non-null   object \n",
      " 8   LandContour    1460 non-null   object \n",
      " 9   Utilities      1460 non-null   object \n",
      " 10  LotConfig      1460 non-null   object \n",
      " 11  LandSlope      1460 non-null   object \n",
      " 12  Neighborhood   1460 non-null   object \n",
      " 13  Condition1     1460 non-null   object \n",
      " 14  Condition2     1460 non-null   object \n",
      " 15  BldgType       1460 non-null   object \n",
      " 16  HouseStyle     1460 non-null   object \n",
      " 17  OverallQual    1460 non-null   int64  \n",
      " 18  OverallCond    1460 non-null   int64  \n",
      " 19  YearBuilt      1460 non-null   int64  \n",
      " 20  YearRemodAdd   1460 non-null   int64  \n",
      " 21  RoofStyle      1460 non-null   object \n",
      " 22  RoofMatl       1460 non-null   object \n",
      " 23  Exterior1st    1460 non-null   object \n",
      " 24  Exterior2nd    1460 non-null   object \n",
      " 25  MasVnrType     1452 non-null   object \n",
      " 26  MasVnrArea     1452 non-null   float64\n",
      " 27  ExterQual      1460 non-null   object \n",
      " 28  ExterCond      1460 non-null   object \n",
      " 29  Foundation     1460 non-null   object \n",
      " 30  BsmtQual       1423 non-null   object \n",
      " 31  BsmtCond       1423 non-null   object \n",
      " 32  BsmtExposure   1422 non-null   object \n",
      " 33  BsmtFinType1   1423 non-null   object \n",
      " 34  BsmtFinSF1     1460 non-null   int64  \n",
      " 35  BsmtFinType2   1422 non-null   object \n",
      " 36  BsmtFinSF2     1460 non-null   int64  \n",
      " 37  BsmtUnfSF      1460 non-null   int64  \n",
      " 38  TotalBsmtSF    1460 non-null   int64  \n",
      " 39  Heating        1460 non-null   object \n",
      " 40  HeatingQC      1460 non-null   object \n",
      " 41  CentralAir     1460 non-null   object \n",
      " 42  Electrical     1459 non-null   object \n",
      " 43  1stFlrSF       1460 non-null   int64  \n",
      " 44  2ndFlrSF       1460 non-null   int64  \n",
      " 45  LowQualFinSF   1460 non-null   int64  \n",
      " 46  GrLivArea      1460 non-null   int64  \n",
      " 47  BsmtFullBath   1460 non-null   int64  \n",
      " 48  BsmtHalfBath   1460 non-null   int64  \n",
      " 49  FullBath       1460 non-null   int64  \n",
      " 50  HalfBath       1460 non-null   int64  \n",
      " 51  BedroomAbvGr   1460 non-null   int64  \n",
      " 52  KitchenAbvGr   1460 non-null   int64  \n",
      " 53  KitchenQual    1460 non-null   object \n",
      " 54  TotRmsAbvGrd   1460 non-null   int64  \n",
      " 55  Functional     1460 non-null   object \n",
      " 56  Fireplaces     1460 non-null   int64  \n",
      " 57  FireplaceQu    770 non-null    object \n",
      " 58  GarageType     1379 non-null   object \n",
      " 59  GarageYrBlt    1379 non-null   float64\n",
      " 60  GarageFinish   1379 non-null   object \n",
      " 61  GarageCars     1460 non-null   int64  \n",
      " 62  GarageArea     1460 non-null   int64  \n",
      " 63  GarageQual     1379 non-null   object \n",
      " 64  GarageCond     1379 non-null   object \n",
      " 65  PavedDrive     1460 non-null   object \n",
      " 66  WoodDeckSF     1460 non-null   int64  \n",
      " 67  OpenPorchSF    1460 non-null   int64  \n",
      " 68  EnclosedPorch  1460 non-null   int64  \n",
      " 69  3SsnPorch      1460 non-null   int64  \n",
      " 70  ScreenPorch    1460 non-null   int64  \n",
      " 71  PoolArea       1460 non-null   int64  \n",
      " 72  PoolQC         7 non-null      object \n",
      " 73  Fence          281 non-null    object \n",
      " 74  MiscFeature    54 non-null     object \n",
      " 75  MiscVal        1460 non-null   int64  \n",
      " 76  MoSold         1460 non-null   int64  \n",
      " 77  YrSold         1460 non-null   int64  \n",
      " 78  SaleType       1460 non-null   object \n",
      " 79  SaleCondition  1460 non-null   object \n",
      " 80  SalePrice      1460 non-null   int64  \n",
      "dtypes: float64(3), int64(35), object(43)\n",
      "memory usage: 924.0+ KB\n"
     ]
    }
   ],
   "source": [
    "home_data.info()"
   ]
  },
  {
   "cell_type": "code",
   "execution_count": 10,
   "metadata": {},
   "outputs": [
    {
     "data": {
      "text/html": [
       "<div>\n",
       "<style scoped>\n",
       "    .dataframe tbody tr th:only-of-type {\n",
       "        vertical-align: middle;\n",
       "    }\n",
       "\n",
       "    .dataframe tbody tr th {\n",
       "        vertical-align: top;\n",
       "    }\n",
       "\n",
       "    .dataframe thead th {\n",
       "        text-align: right;\n",
       "    }\n",
       "</style>\n",
       "<table border=\"1\" class=\"dataframe\">\n",
       "  <thead>\n",
       "    <tr style=\"text-align: right;\">\n",
       "      <th></th>\n",
       "      <th>Id</th>\n",
       "      <th>MSSubClass</th>\n",
       "      <th>LotFrontage</th>\n",
       "      <th>LotArea</th>\n",
       "      <th>OverallQual</th>\n",
       "      <th>OverallCond</th>\n",
       "      <th>YearBuilt</th>\n",
       "      <th>YearRemodAdd</th>\n",
       "      <th>MasVnrArea</th>\n",
       "      <th>BsmtFinSF1</th>\n",
       "      <th>...</th>\n",
       "      <th>WoodDeckSF</th>\n",
       "      <th>OpenPorchSF</th>\n",
       "      <th>EnclosedPorch</th>\n",
       "      <th>3SsnPorch</th>\n",
       "      <th>ScreenPorch</th>\n",
       "      <th>PoolArea</th>\n",
       "      <th>MiscVal</th>\n",
       "      <th>MoSold</th>\n",
       "      <th>YrSold</th>\n",
       "      <th>SalePrice</th>\n",
       "    </tr>\n",
       "  </thead>\n",
       "  <tbody>\n",
       "    <tr>\n",
       "      <th>count</th>\n",
       "      <td>1460.000000</td>\n",
       "      <td>1460.000000</td>\n",
       "      <td>1201.000000</td>\n",
       "      <td>1460.000000</td>\n",
       "      <td>1460.000000</td>\n",
       "      <td>1460.000000</td>\n",
       "      <td>1460.000000</td>\n",
       "      <td>1460.000000</td>\n",
       "      <td>1452.000000</td>\n",
       "      <td>1460.000000</td>\n",
       "      <td>...</td>\n",
       "      <td>1460.000000</td>\n",
       "      <td>1460.000000</td>\n",
       "      <td>1460.000000</td>\n",
       "      <td>1460.000000</td>\n",
       "      <td>1460.000000</td>\n",
       "      <td>1460.000000</td>\n",
       "      <td>1460.000000</td>\n",
       "      <td>1460.000000</td>\n",
       "      <td>1460.000000</td>\n",
       "      <td>1460.000000</td>\n",
       "    </tr>\n",
       "    <tr>\n",
       "      <th>mean</th>\n",
       "      <td>730.500000</td>\n",
       "      <td>56.897260</td>\n",
       "      <td>70.049958</td>\n",
       "      <td>10516.828082</td>\n",
       "      <td>6.099315</td>\n",
       "      <td>5.575342</td>\n",
       "      <td>1971.267808</td>\n",
       "      <td>1984.865753</td>\n",
       "      <td>103.685262</td>\n",
       "      <td>443.639726</td>\n",
       "      <td>...</td>\n",
       "      <td>94.244521</td>\n",
       "      <td>46.660274</td>\n",
       "      <td>21.954110</td>\n",
       "      <td>3.409589</td>\n",
       "      <td>15.060959</td>\n",
       "      <td>2.758904</td>\n",
       "      <td>43.489041</td>\n",
       "      <td>6.321918</td>\n",
       "      <td>2007.815753</td>\n",
       "      <td>180921.195890</td>\n",
       "    </tr>\n",
       "    <tr>\n",
       "      <th>std</th>\n",
       "      <td>421.610009</td>\n",
       "      <td>42.300571</td>\n",
       "      <td>24.284752</td>\n",
       "      <td>9981.264932</td>\n",
       "      <td>1.382997</td>\n",
       "      <td>1.112799</td>\n",
       "      <td>30.202904</td>\n",
       "      <td>20.645407</td>\n",
       "      <td>181.066207</td>\n",
       "      <td>456.098091</td>\n",
       "      <td>...</td>\n",
       "      <td>125.338794</td>\n",
       "      <td>66.256028</td>\n",
       "      <td>61.119149</td>\n",
       "      <td>29.317331</td>\n",
       "      <td>55.757415</td>\n",
       "      <td>40.177307</td>\n",
       "      <td>496.123024</td>\n",
       "      <td>2.703626</td>\n",
       "      <td>1.328095</td>\n",
       "      <td>79442.502883</td>\n",
       "    </tr>\n",
       "    <tr>\n",
       "      <th>min</th>\n",
       "      <td>1.000000</td>\n",
       "      <td>20.000000</td>\n",
       "      <td>21.000000</td>\n",
       "      <td>1300.000000</td>\n",
       "      <td>1.000000</td>\n",
       "      <td>1.000000</td>\n",
       "      <td>1872.000000</td>\n",
       "      <td>1950.000000</td>\n",
       "      <td>0.000000</td>\n",
       "      <td>0.000000</td>\n",
       "      <td>...</td>\n",
       "      <td>0.000000</td>\n",
       "      <td>0.000000</td>\n",
       "      <td>0.000000</td>\n",
       "      <td>0.000000</td>\n",
       "      <td>0.000000</td>\n",
       "      <td>0.000000</td>\n",
       "      <td>0.000000</td>\n",
       "      <td>1.000000</td>\n",
       "      <td>2006.000000</td>\n",
       "      <td>34900.000000</td>\n",
       "    </tr>\n",
       "    <tr>\n",
       "      <th>25%</th>\n",
       "      <td>365.750000</td>\n",
       "      <td>20.000000</td>\n",
       "      <td>59.000000</td>\n",
       "      <td>7553.500000</td>\n",
       "      <td>5.000000</td>\n",
       "      <td>5.000000</td>\n",
       "      <td>1954.000000</td>\n",
       "      <td>1967.000000</td>\n",
       "      <td>0.000000</td>\n",
       "      <td>0.000000</td>\n",
       "      <td>...</td>\n",
       "      <td>0.000000</td>\n",
       "      <td>0.000000</td>\n",
       "      <td>0.000000</td>\n",
       "      <td>0.000000</td>\n",
       "      <td>0.000000</td>\n",
       "      <td>0.000000</td>\n",
       "      <td>0.000000</td>\n",
       "      <td>5.000000</td>\n",
       "      <td>2007.000000</td>\n",
       "      <td>129975.000000</td>\n",
       "    </tr>\n",
       "    <tr>\n",
       "      <th>50%</th>\n",
       "      <td>730.500000</td>\n",
       "      <td>50.000000</td>\n",
       "      <td>69.000000</td>\n",
       "      <td>9478.500000</td>\n",
       "      <td>6.000000</td>\n",
       "      <td>5.000000</td>\n",
       "      <td>1973.000000</td>\n",
       "      <td>1994.000000</td>\n",
       "      <td>0.000000</td>\n",
       "      <td>383.500000</td>\n",
       "      <td>...</td>\n",
       "      <td>0.000000</td>\n",
       "      <td>25.000000</td>\n",
       "      <td>0.000000</td>\n",
       "      <td>0.000000</td>\n",
       "      <td>0.000000</td>\n",
       "      <td>0.000000</td>\n",
       "      <td>0.000000</td>\n",
       "      <td>6.000000</td>\n",
       "      <td>2008.000000</td>\n",
       "      <td>163000.000000</td>\n",
       "    </tr>\n",
       "    <tr>\n",
       "      <th>75%</th>\n",
       "      <td>1095.250000</td>\n",
       "      <td>70.000000</td>\n",
       "      <td>80.000000</td>\n",
       "      <td>11601.500000</td>\n",
       "      <td>7.000000</td>\n",
       "      <td>6.000000</td>\n",
       "      <td>2000.000000</td>\n",
       "      <td>2004.000000</td>\n",
       "      <td>166.000000</td>\n",
       "      <td>712.250000</td>\n",
       "      <td>...</td>\n",
       "      <td>168.000000</td>\n",
       "      <td>68.000000</td>\n",
       "      <td>0.000000</td>\n",
       "      <td>0.000000</td>\n",
       "      <td>0.000000</td>\n",
       "      <td>0.000000</td>\n",
       "      <td>0.000000</td>\n",
       "      <td>8.000000</td>\n",
       "      <td>2009.000000</td>\n",
       "      <td>214000.000000</td>\n",
       "    </tr>\n",
       "    <tr>\n",
       "      <th>max</th>\n",
       "      <td>1460.000000</td>\n",
       "      <td>190.000000</td>\n",
       "      <td>313.000000</td>\n",
       "      <td>215245.000000</td>\n",
       "      <td>10.000000</td>\n",
       "      <td>9.000000</td>\n",
       "      <td>2010.000000</td>\n",
       "      <td>2010.000000</td>\n",
       "      <td>1600.000000</td>\n",
       "      <td>5644.000000</td>\n",
       "      <td>...</td>\n",
       "      <td>857.000000</td>\n",
       "      <td>547.000000</td>\n",
       "      <td>552.000000</td>\n",
       "      <td>508.000000</td>\n",
       "      <td>480.000000</td>\n",
       "      <td>738.000000</td>\n",
       "      <td>15500.000000</td>\n",
       "      <td>12.000000</td>\n",
       "      <td>2010.000000</td>\n",
       "      <td>755000.000000</td>\n",
       "    </tr>\n",
       "  </tbody>\n",
       "</table>\n",
       "<p>8 rows × 38 columns</p>\n",
       "</div>"
      ],
      "text/plain": [
       "                Id   MSSubClass  LotFrontage        LotArea  OverallQual  \\\n",
       "count  1460.000000  1460.000000  1201.000000    1460.000000  1460.000000   \n",
       "mean    730.500000    56.897260    70.049958   10516.828082     6.099315   \n",
       "std     421.610009    42.300571    24.284752    9981.264932     1.382997   \n",
       "min       1.000000    20.000000    21.000000    1300.000000     1.000000   \n",
       "25%     365.750000    20.000000    59.000000    7553.500000     5.000000   \n",
       "50%     730.500000    50.000000    69.000000    9478.500000     6.000000   \n",
       "75%    1095.250000    70.000000    80.000000   11601.500000     7.000000   \n",
       "max    1460.000000   190.000000   313.000000  215245.000000    10.000000   \n",
       "\n",
       "       OverallCond    YearBuilt  YearRemodAdd   MasVnrArea   BsmtFinSF1  ...  \\\n",
       "count  1460.000000  1460.000000   1460.000000  1452.000000  1460.000000  ...   \n",
       "mean      5.575342  1971.267808   1984.865753   103.685262   443.639726  ...   \n",
       "std       1.112799    30.202904     20.645407   181.066207   456.098091  ...   \n",
       "min       1.000000  1872.000000   1950.000000     0.000000     0.000000  ...   \n",
       "25%       5.000000  1954.000000   1967.000000     0.000000     0.000000  ...   \n",
       "50%       5.000000  1973.000000   1994.000000     0.000000   383.500000  ...   \n",
       "75%       6.000000  2000.000000   2004.000000   166.000000   712.250000  ...   \n",
       "max       9.000000  2010.000000   2010.000000  1600.000000  5644.000000  ...   \n",
       "\n",
       "        WoodDeckSF  OpenPorchSF  EnclosedPorch    3SsnPorch  ScreenPorch  \\\n",
       "count  1460.000000  1460.000000    1460.000000  1460.000000  1460.000000   \n",
       "mean     94.244521    46.660274      21.954110     3.409589    15.060959   \n",
       "std     125.338794    66.256028      61.119149    29.317331    55.757415   \n",
       "min       0.000000     0.000000       0.000000     0.000000     0.000000   \n",
       "25%       0.000000     0.000000       0.000000     0.000000     0.000000   \n",
       "50%       0.000000    25.000000       0.000000     0.000000     0.000000   \n",
       "75%     168.000000    68.000000       0.000000     0.000000     0.000000   \n",
       "max     857.000000   547.000000     552.000000   508.000000   480.000000   \n",
       "\n",
       "          PoolArea       MiscVal       MoSold       YrSold      SalePrice  \n",
       "count  1460.000000   1460.000000  1460.000000  1460.000000    1460.000000  \n",
       "mean      2.758904     43.489041     6.321918  2007.815753  180921.195890  \n",
       "std      40.177307    496.123024     2.703626     1.328095   79442.502883  \n",
       "min       0.000000      0.000000     1.000000  2006.000000   34900.000000  \n",
       "25%       0.000000      0.000000     5.000000  2007.000000  129975.000000  \n",
       "50%       0.000000      0.000000     6.000000  2008.000000  163000.000000  \n",
       "75%       0.000000      0.000000     8.000000  2009.000000  214000.000000  \n",
       "max     738.000000  15500.000000    12.000000  2010.000000  755000.000000  \n",
       "\n",
       "[8 rows x 38 columns]"
      ]
     },
     "execution_count": 10,
     "metadata": {},
     "output_type": "execute_result"
    }
   ],
   "source": [
    "home_data.describe()"
   ]
  },
  {
   "cell_type": "markdown",
   "metadata": {},
   "source": [
    "### Data fields\n",
    "Here's a brief description of what each colum means:"
   ]
  },
  {
   "cell_type": "markdown",
   "metadata": {},
   "source": [
    "* SalePrice - the property's sale price in dollars. This is the target variable that we're trying to predict.\n",
    "* MSSubClass: The building class\n",
    "* MSZoning: The general zoning classification\n",
    "* LotFrontage: Linear feet of street connected to property\n",
    "* LotArea: Lot size in square feet\n",
    "* Street: Type of road access\n",
    "* Alley: Type of alley access\n",
    "* LotShape: General shape of property\n",
    "* LandContour: Flatness of the property\n",
    "* Utilities: Type of utilities available\n",
    "* LotConfig: Lot configuration\n",
    "* LandSlope: Slope of property\n",
    "* Neighborhood: Physical locations within Ames city limits\n",
    "* Condition1: Proximity to main road or railroad\n",
    "* Condition2: Proximity to main road or railroad (if a second is present)\n",
    "* BldgType: Type of dwelling\n",
    "* HouseStyle: Style of dwelling\n",
    "* OverallQual: Overall material and finish quality\n",
    "* OverallCond: Overall condition rating\n",
    "* YearBuilt: Original construction date\n",
    "* YearRemodAdd: Remodel date\n",
    "* RoofStyle: Type of roof\n",
    "* RoofMatl: Roof material\n",
    "* Exterior1st: Exterior covering on house\n",
    "* Exterior2nd: Exterior covering on house (if more than one material)\n",
    "* MasVnrType: Masonry veneer type\n",
    "* MasVnrArea: Masonry veneer area in square feet\n",
    "* ExterQual: Exterior material quality\n",
    "* ExterCond: Present condition of the material on the exterior\n",
    "* Foundation: Type of foundation\n",
    "* BsmtQual: Height of the basement\n",
    "* BsmtCond: General condition of the basement\n",
    "* BsmtExposure: Walkout or garden level basement walls\n",
    "* BsmtFinType1: Quality of basement finished area\n",
    "* BsmtFinSF1: Type 1 finished square feet\n",
    "* BsmtFinType2: Quality of second finished area (if present)\n",
    "* BsmtFinSF2: Type 2 finished square feet\n",
    "* BsmtUnfSF: Unfinished square feet of basement area\n",
    "* TotalBsmtSF: Total square feet of basement area\n",
    "* Heating: Type of heating\n",
    "* HeatingQC: Heating quality and condition\n",
    "* CentralAir: Central air conditioning\n",
    "* Electrical: Electrical system\n",
    "* 1stFlrSF: First Floor square feet\n",
    "* 2ndFlrSF: Second floor square feet\n",
    "* LowQualFinSF: Low quality finished square feet (all floors)\n",
    "* GrLivArea: Above grade (ground) living area square feet\n",
    "* BsmtFullBath: Basement full bathrooms\n",
    "* BsmtHalfBath: Basement half bathrooms\n",
    "* FullBath: Full bathrooms above grade\n",
    "* HalfBath: Half baths above grade\n",
    "* BedroomAbvGr: Number of bedrooms above basement level\n",
    "* Kitchen: Number of kitchens\n",
    "* KitchenQual: Kitchen quality\n",
    "* TotRmsAbvGrd: Total rooms above grade (does not include bathrooms)\n",
    "* Functional: Home functionality rating\n",
    "* Fireplaces: Number of fireplaces\n",
    "* FireplaceQu: Fireplace quality\n",
    "* GarageType: Garage location\n",
    "* GarageYrBlt: Year garage was built\n",
    "* GarageFinish: Interior finish of the garage\n",
    "* GarageCars: Size of garage in car capacity\n",
    "* GarageArea: Size of garage in square feet\n",
    "* GarageQual: Garage quality\n",
    "* GarageCond: Garage condition\n",
    "* PavedDrive: Paved driveway\n",
    "* WoodDeckSF: Wood deck area in square feet\n",
    "* OpenPorchSF: Open porch area in square feet\n",
    "* EnclosedPorch: Enclosed porch area in square feet\n",
    "* 3SsnPorch: Three season porch area in square feet\n",
    "* ScreenPorch: Screen porch area in square feet\n",
    "* PoolArea: Pool area in square feet\n",
    "* PoolQC: Pool quality\n",
    "* Fence: Fence quality\n",
    "* MiscFeature: Miscellaneous feature not covered in other categories\n",
    "* MiscVal: $Value of miscellaneous feature\n",
    "* MoSold: Month Sold\n",
    "* YrSold: Year Sold\n",
    "* SaleType: Type of sale\n",
    "* SaleCondition: Condition of sale"
   ]
  },
  {
   "cell_type": "markdown",
   "metadata": {},
   "source": [
    "### Column organizacion _for home_data.csv:_"
   ]
  },
  {
   "cell_type": "markdown",
   "metadata": {},
   "source": [
    "Due to de number of columns, we have to pick (based on field knowledge and intuition) the ones we consider affect the most **SalePrice**. For that purpuse we can create three gruops of features, from more importance to less. After taking a glance, we can evaluate which features would be better to use to feed the model."
   ]
  },
  {
   "cell_type": "markdown",
   "metadata": {},
   "source": [
    "**1-** the first group of features would be compoused by 5 columns:\n",
    "* 1stFlrSF: First Floor square feet\n",
    "* 2ndFlrSF: Second floor square feet\n",
    "\n",
    "* Neighborhood: Physical locations within Ames city limits\n",
    "* Condition1: Proximity to main road or railroad\n",
    "\n",
    "* YearBuilt: Original construction date"
   ]
  },
  {
   "cell_type": "code",
   "execution_count": 11,
   "metadata": {},
   "outputs": [],
   "source": [
    "feature_names_1 = ['1stFlrSF','2ndFlrSF','Neighborhood','Condition1','YearBuilt']"
   ]
  },
  {
   "cell_type": "code",
   "execution_count": 12,
   "metadata": {},
   "outputs": [
    {
     "data": {
      "text/html": [
       "<div>\n",
       "<style scoped>\n",
       "    .dataframe tbody tr th:only-of-type {\n",
       "        vertical-align: middle;\n",
       "    }\n",
       "\n",
       "    .dataframe tbody tr th {\n",
       "        vertical-align: top;\n",
       "    }\n",
       "\n",
       "    .dataframe thead th {\n",
       "        text-align: right;\n",
       "    }\n",
       "</style>\n",
       "<table border=\"1\" class=\"dataframe\">\n",
       "  <thead>\n",
       "    <tr style=\"text-align: right;\">\n",
       "      <th></th>\n",
       "      <th>1stFlrSF</th>\n",
       "      <th>2ndFlrSF</th>\n",
       "      <th>Neighborhood</th>\n",
       "      <th>Condition1</th>\n",
       "      <th>YearBuilt</th>\n",
       "    </tr>\n",
       "  </thead>\n",
       "  <tbody>\n",
       "    <tr>\n",
       "      <th>0</th>\n",
       "      <td>856</td>\n",
       "      <td>854</td>\n",
       "      <td>CollgCr</td>\n",
       "      <td>Norm</td>\n",
       "      <td>2003</td>\n",
       "    </tr>\n",
       "    <tr>\n",
       "      <th>1</th>\n",
       "      <td>1262</td>\n",
       "      <td>0</td>\n",
       "      <td>Veenker</td>\n",
       "      <td>Feedr</td>\n",
       "      <td>1976</td>\n",
       "    </tr>\n",
       "    <tr>\n",
       "      <th>2</th>\n",
       "      <td>920</td>\n",
       "      <td>866</td>\n",
       "      <td>CollgCr</td>\n",
       "      <td>Norm</td>\n",
       "      <td>2001</td>\n",
       "    </tr>\n",
       "    <tr>\n",
       "      <th>3</th>\n",
       "      <td>961</td>\n",
       "      <td>756</td>\n",
       "      <td>Crawfor</td>\n",
       "      <td>Norm</td>\n",
       "      <td>1915</td>\n",
       "    </tr>\n",
       "    <tr>\n",
       "      <th>4</th>\n",
       "      <td>1145</td>\n",
       "      <td>1053</td>\n",
       "      <td>NoRidge</td>\n",
       "      <td>Norm</td>\n",
       "      <td>2000</td>\n",
       "    </tr>\n",
       "    <tr>\n",
       "      <th>...</th>\n",
       "      <td>...</td>\n",
       "      <td>...</td>\n",
       "      <td>...</td>\n",
       "      <td>...</td>\n",
       "      <td>...</td>\n",
       "    </tr>\n",
       "    <tr>\n",
       "      <th>1455</th>\n",
       "      <td>953</td>\n",
       "      <td>694</td>\n",
       "      <td>Gilbert</td>\n",
       "      <td>Norm</td>\n",
       "      <td>1999</td>\n",
       "    </tr>\n",
       "    <tr>\n",
       "      <th>1456</th>\n",
       "      <td>2073</td>\n",
       "      <td>0</td>\n",
       "      <td>NWAmes</td>\n",
       "      <td>Norm</td>\n",
       "      <td>1978</td>\n",
       "    </tr>\n",
       "    <tr>\n",
       "      <th>1457</th>\n",
       "      <td>1188</td>\n",
       "      <td>1152</td>\n",
       "      <td>Crawfor</td>\n",
       "      <td>Norm</td>\n",
       "      <td>1941</td>\n",
       "    </tr>\n",
       "    <tr>\n",
       "      <th>1458</th>\n",
       "      <td>1078</td>\n",
       "      <td>0</td>\n",
       "      <td>NAmes</td>\n",
       "      <td>Norm</td>\n",
       "      <td>1950</td>\n",
       "    </tr>\n",
       "    <tr>\n",
       "      <th>1459</th>\n",
       "      <td>1256</td>\n",
       "      <td>0</td>\n",
       "      <td>Edwards</td>\n",
       "      <td>Norm</td>\n",
       "      <td>1965</td>\n",
       "    </tr>\n",
       "  </tbody>\n",
       "</table>\n",
       "<p>1460 rows × 5 columns</p>\n",
       "</div>"
      ],
      "text/plain": [
       "      1stFlrSF  2ndFlrSF Neighborhood Condition1  YearBuilt\n",
       "0          856       854      CollgCr       Norm       2003\n",
       "1         1262         0      Veenker      Feedr       1976\n",
       "2          920       866      CollgCr       Norm       2001\n",
       "3          961       756      Crawfor       Norm       1915\n",
       "4         1145      1053      NoRidge       Norm       2000\n",
       "...        ...       ...          ...        ...        ...\n",
       "1455       953       694      Gilbert       Norm       1999\n",
       "1456      2073         0       NWAmes       Norm       1978\n",
       "1457      1188      1152      Crawfor       Norm       1941\n",
       "1458      1078         0        NAmes       Norm       1950\n",
       "1459      1256         0      Edwards       Norm       1965\n",
       "\n",
       "[1460 rows x 5 columns]"
      ]
     },
     "execution_count": 12,
     "metadata": {},
     "output_type": "execute_result"
    }
   ],
   "source": [
    "features1= home_data[feature_names_1]\n",
    "features1"
   ]
  },
  {
   "cell_type": "code",
   "execution_count": 13,
   "metadata": {},
   "outputs": [
    {
     "data": {
      "text/plain": [
       "NAmes      225\n",
       "CollgCr    150\n",
       "OldTown    113\n",
       "Edwards    100\n",
       "Somerst     86\n",
       "Gilbert     79\n",
       "NridgHt     77\n",
       "Sawyer      74\n",
       "NWAmes      73\n",
       "SawyerW     59\n",
       "BrkSide     58\n",
       "Crawfor     51\n",
       "Mitchel     49\n",
       "NoRidge     41\n",
       "Timber      38\n",
       "IDOTRR      37\n",
       "ClearCr     28\n",
       "SWISU       25\n",
       "StoneBr     25\n",
       "MeadowV     17\n",
       "Blmngtn     17\n",
       "BrDale      16\n",
       "Veenker     11\n",
       "NPkVill      9\n",
       "Blueste      2\n",
       "Name: Neighborhood, dtype: int64"
      ]
     },
     "execution_count": 13,
     "metadata": {},
     "output_type": "execute_result"
    }
   ],
   "source": [
    "features1['Neighborhood'].value_counts()"
   ]
  },
  {
   "cell_type": "code",
   "execution_count": 14,
   "metadata": {},
   "outputs": [
    {
     "data": {
      "text/plain": [
       "Norm      1260\n",
       "Feedr       81\n",
       "Artery      48\n",
       "RRAn        26\n",
       "PosN        19\n",
       "RRAe        11\n",
       "PosA         8\n",
       "RRNn         5\n",
       "RRNe         2\n",
       "Name: Condition1, dtype: int64"
      ]
     },
     "execution_count": 14,
     "metadata": {},
     "output_type": "execute_result"
    }
   ],
   "source": [
    "features1['Condition1'].value_counts()"
   ]
  },
  {
   "cell_type": "markdown",
   "metadata": {},
   "source": [
    "We can see this first group of features have two columns with categorital information: Neighborhood and Condition1. Neighborhood columns is compused by 25 categories, which would make it not convinient to encode. "
   ]
  },
  {
   "cell_type": "markdown",
   "metadata": {},
   "source": [
    "**2-** the second group of features would be compoused by 4 columns:\n",
    "* OverallQual: Overall material and finish quality\n",
    "\n",
    "* LotArea: Lot size in square feet\n",
    "* TotalBsmtSF: Total square feet of basement area\n",
    "\n",
    "* Utilities: Type of utilities available"
   ]
  },
  {
   "cell_type": "code",
   "execution_count": 15,
   "metadata": {},
   "outputs": [],
   "source": [
    "feature_names_2 = ['OverallQual','LotArea','TotalBsmtSF','Utilities']"
   ]
  },
  {
   "cell_type": "code",
   "execution_count": 16,
   "metadata": {},
   "outputs": [
    {
     "data": {
      "text/html": [
       "<div>\n",
       "<style scoped>\n",
       "    .dataframe tbody tr th:only-of-type {\n",
       "        vertical-align: middle;\n",
       "    }\n",
       "\n",
       "    .dataframe tbody tr th {\n",
       "        vertical-align: top;\n",
       "    }\n",
       "\n",
       "    .dataframe thead th {\n",
       "        text-align: right;\n",
       "    }\n",
       "</style>\n",
       "<table border=\"1\" class=\"dataframe\">\n",
       "  <thead>\n",
       "    <tr style=\"text-align: right;\">\n",
       "      <th></th>\n",
       "      <th>OverallQual</th>\n",
       "      <th>LotArea</th>\n",
       "      <th>TotalBsmtSF</th>\n",
       "      <th>Utilities</th>\n",
       "    </tr>\n",
       "  </thead>\n",
       "  <tbody>\n",
       "    <tr>\n",
       "      <th>0</th>\n",
       "      <td>7</td>\n",
       "      <td>8450</td>\n",
       "      <td>856</td>\n",
       "      <td>AllPub</td>\n",
       "    </tr>\n",
       "    <tr>\n",
       "      <th>1</th>\n",
       "      <td>6</td>\n",
       "      <td>9600</td>\n",
       "      <td>1262</td>\n",
       "      <td>AllPub</td>\n",
       "    </tr>\n",
       "    <tr>\n",
       "      <th>2</th>\n",
       "      <td>7</td>\n",
       "      <td>11250</td>\n",
       "      <td>920</td>\n",
       "      <td>AllPub</td>\n",
       "    </tr>\n",
       "    <tr>\n",
       "      <th>3</th>\n",
       "      <td>7</td>\n",
       "      <td>9550</td>\n",
       "      <td>756</td>\n",
       "      <td>AllPub</td>\n",
       "    </tr>\n",
       "    <tr>\n",
       "      <th>4</th>\n",
       "      <td>8</td>\n",
       "      <td>14260</td>\n",
       "      <td>1145</td>\n",
       "      <td>AllPub</td>\n",
       "    </tr>\n",
       "    <tr>\n",
       "      <th>...</th>\n",
       "      <td>...</td>\n",
       "      <td>...</td>\n",
       "      <td>...</td>\n",
       "      <td>...</td>\n",
       "    </tr>\n",
       "    <tr>\n",
       "      <th>1455</th>\n",
       "      <td>6</td>\n",
       "      <td>7917</td>\n",
       "      <td>953</td>\n",
       "      <td>AllPub</td>\n",
       "    </tr>\n",
       "    <tr>\n",
       "      <th>1456</th>\n",
       "      <td>6</td>\n",
       "      <td>13175</td>\n",
       "      <td>1542</td>\n",
       "      <td>AllPub</td>\n",
       "    </tr>\n",
       "    <tr>\n",
       "      <th>1457</th>\n",
       "      <td>7</td>\n",
       "      <td>9042</td>\n",
       "      <td>1152</td>\n",
       "      <td>AllPub</td>\n",
       "    </tr>\n",
       "    <tr>\n",
       "      <th>1458</th>\n",
       "      <td>5</td>\n",
       "      <td>9717</td>\n",
       "      <td>1078</td>\n",
       "      <td>AllPub</td>\n",
       "    </tr>\n",
       "    <tr>\n",
       "      <th>1459</th>\n",
       "      <td>5</td>\n",
       "      <td>9937</td>\n",
       "      <td>1256</td>\n",
       "      <td>AllPub</td>\n",
       "    </tr>\n",
       "  </tbody>\n",
       "</table>\n",
       "<p>1460 rows × 4 columns</p>\n",
       "</div>"
      ],
      "text/plain": [
       "      OverallQual  LotArea  TotalBsmtSF Utilities\n",
       "0               7     8450          856    AllPub\n",
       "1               6     9600         1262    AllPub\n",
       "2               7    11250          920    AllPub\n",
       "3               7     9550          756    AllPub\n",
       "4               8    14260         1145    AllPub\n",
       "...           ...      ...          ...       ...\n",
       "1455            6     7917          953    AllPub\n",
       "1456            6    13175         1542    AllPub\n",
       "1457            7     9042         1152    AllPub\n",
       "1458            5     9717         1078    AllPub\n",
       "1459            5     9937         1256    AllPub\n",
       "\n",
       "[1460 rows x 4 columns]"
      ]
     },
     "execution_count": 16,
     "metadata": {},
     "output_type": "execute_result"
    }
   ],
   "source": [
    "features2= home_data[feature_names_2]\n",
    "features2"
   ]
  },
  {
   "cell_type": "markdown",
   "metadata": {},
   "source": [
    "**3-** the thrid group of features would be compoused by 6 columns:\n",
    "* GarageCars: Size of garage in car capacity\n",
    "\n",
    "* BsmtFullBath: Basement full bathrooms\n",
    "* FullBath: Full bathrooms above grade\n",
    "\n",
    "* BedroomAbvGr: Number of bedrooms above basement level\n",
    "* TotRmsAbvGrd: Total rooms above grade (does not include bathrooms)\n",
    "\n",
    "\n",
    "* PoolArea: Pool area in square feet"
   ]
  },
  {
   "cell_type": "code",
   "execution_count": 17,
   "metadata": {},
   "outputs": [],
   "source": [
    "feature_names_3 = ['GarageCars', 'BsmtFullBath', 'FullBath', 'BedroomAbvGr', 'TotRmsAbvGrd', 'PoolArea']"
   ]
  },
  {
   "cell_type": "code",
   "execution_count": 18,
   "metadata": {},
   "outputs": [
    {
     "data": {
      "text/html": [
       "<div>\n",
       "<style scoped>\n",
       "    .dataframe tbody tr th:only-of-type {\n",
       "        vertical-align: middle;\n",
       "    }\n",
       "\n",
       "    .dataframe tbody tr th {\n",
       "        vertical-align: top;\n",
       "    }\n",
       "\n",
       "    .dataframe thead th {\n",
       "        text-align: right;\n",
       "    }\n",
       "</style>\n",
       "<table border=\"1\" class=\"dataframe\">\n",
       "  <thead>\n",
       "    <tr style=\"text-align: right;\">\n",
       "      <th></th>\n",
       "      <th>GarageCars</th>\n",
       "      <th>BsmtFullBath</th>\n",
       "      <th>FullBath</th>\n",
       "      <th>BedroomAbvGr</th>\n",
       "      <th>TotRmsAbvGrd</th>\n",
       "      <th>PoolArea</th>\n",
       "    </tr>\n",
       "  </thead>\n",
       "  <tbody>\n",
       "    <tr>\n",
       "      <th>0</th>\n",
       "      <td>2</td>\n",
       "      <td>1</td>\n",
       "      <td>2</td>\n",
       "      <td>3</td>\n",
       "      <td>8</td>\n",
       "      <td>0</td>\n",
       "    </tr>\n",
       "    <tr>\n",
       "      <th>1</th>\n",
       "      <td>2</td>\n",
       "      <td>0</td>\n",
       "      <td>2</td>\n",
       "      <td>3</td>\n",
       "      <td>6</td>\n",
       "      <td>0</td>\n",
       "    </tr>\n",
       "    <tr>\n",
       "      <th>2</th>\n",
       "      <td>2</td>\n",
       "      <td>1</td>\n",
       "      <td>2</td>\n",
       "      <td>3</td>\n",
       "      <td>6</td>\n",
       "      <td>0</td>\n",
       "    </tr>\n",
       "    <tr>\n",
       "      <th>3</th>\n",
       "      <td>3</td>\n",
       "      <td>1</td>\n",
       "      <td>1</td>\n",
       "      <td>3</td>\n",
       "      <td>7</td>\n",
       "      <td>0</td>\n",
       "    </tr>\n",
       "    <tr>\n",
       "      <th>4</th>\n",
       "      <td>3</td>\n",
       "      <td>1</td>\n",
       "      <td>2</td>\n",
       "      <td>4</td>\n",
       "      <td>9</td>\n",
       "      <td>0</td>\n",
       "    </tr>\n",
       "    <tr>\n",
       "      <th>...</th>\n",
       "      <td>...</td>\n",
       "      <td>...</td>\n",
       "      <td>...</td>\n",
       "      <td>...</td>\n",
       "      <td>...</td>\n",
       "      <td>...</td>\n",
       "    </tr>\n",
       "    <tr>\n",
       "      <th>1455</th>\n",
       "      <td>2</td>\n",
       "      <td>0</td>\n",
       "      <td>2</td>\n",
       "      <td>3</td>\n",
       "      <td>7</td>\n",
       "      <td>0</td>\n",
       "    </tr>\n",
       "    <tr>\n",
       "      <th>1456</th>\n",
       "      <td>2</td>\n",
       "      <td>1</td>\n",
       "      <td>2</td>\n",
       "      <td>3</td>\n",
       "      <td>7</td>\n",
       "      <td>0</td>\n",
       "    </tr>\n",
       "    <tr>\n",
       "      <th>1457</th>\n",
       "      <td>1</td>\n",
       "      <td>0</td>\n",
       "      <td>2</td>\n",
       "      <td>4</td>\n",
       "      <td>9</td>\n",
       "      <td>0</td>\n",
       "    </tr>\n",
       "    <tr>\n",
       "      <th>1458</th>\n",
       "      <td>1</td>\n",
       "      <td>1</td>\n",
       "      <td>1</td>\n",
       "      <td>2</td>\n",
       "      <td>5</td>\n",
       "      <td>0</td>\n",
       "    </tr>\n",
       "    <tr>\n",
       "      <th>1459</th>\n",
       "      <td>1</td>\n",
       "      <td>1</td>\n",
       "      <td>1</td>\n",
       "      <td>3</td>\n",
       "      <td>6</td>\n",
       "      <td>0</td>\n",
       "    </tr>\n",
       "  </tbody>\n",
       "</table>\n",
       "<p>1460 rows × 6 columns</p>\n",
       "</div>"
      ],
      "text/plain": [
       "      GarageCars  BsmtFullBath  FullBath  BedroomAbvGr  TotRmsAbvGrd  PoolArea\n",
       "0              2             1         2             3             8         0\n",
       "1              2             0         2             3             6         0\n",
       "2              2             1         2             3             6         0\n",
       "3              3             1         1             3             7         0\n",
       "4              3             1         2             4             9         0\n",
       "...          ...           ...       ...           ...           ...       ...\n",
       "1455           2             0         2             3             7         0\n",
       "1456           2             1         2             3             7         0\n",
       "1457           1             0         2             4             9         0\n",
       "1458           1             1         1             2             5         0\n",
       "1459           1             1         1             3             6         0\n",
       "\n",
       "[1460 rows x 6 columns]"
      ]
     },
     "execution_count": 18,
     "metadata": {},
     "output_type": "execute_result"
    }
   ],
   "source": [
    "features3 = home_data[feature_names_3]\n",
    "features3"
   ]
  },
  {
   "cell_type": "markdown",
   "metadata": {},
   "source": [
    "After pulling out these three groups of features, we came to define two FINAL groups of features to do the evaluation. The first group will be called:\n",
    "**_Central_features_** (compoused by 5 columns):\n",
    "* 1stFlrSF: First Floor square feet\n",
    "* 2ndFlrSF: Second floor square feet\n",
    "\n",
    "* Condition1: Proximity to main road or railroad (this one requieres ONE HOT ENCODE)\n",
    "* YearBuilt: Original construction date\n",
    "\n",
    "* OverallQual: Overall material and finish quality\n",
    "\n",
    "Then we have a more complete version:\n",
    "**_Combined_features_** (adding 3 additional columns):\n",
    "* LotArea: Lot size in square feet\n",
    "\n",
    "* GarageCars: Size of garage in car capacity\n",
    "* TotalFullbath: which is the sum of **_BsmtFullBath_** and **__FullBath__**"
   ]
  },
  {
   "cell_type": "markdown",
   "metadata": {},
   "source": [
    "![green-divider](https://user-images.githubusercontent.com/7065401/52071924-c003ad80-2562-11e9-8297-1c6595f8a7ff.png)\n",
    "\n",
    "### D- Column wrangling and ordinal encoding:\n",
    "\n",
    "Let's first create the column **TotalFullbath** by doing the sum of _BsmtFullBath_ and _FullBath_"
   ]
  },
  {
   "cell_type": "code",
   "execution_count": 19,
   "metadata": {},
   "outputs": [],
   "source": [
    "home_dataF = home_data"
   ]
  },
  {
   "cell_type": "code",
   "execution_count": 20,
   "metadata": {},
   "outputs": [
    {
     "data": {
      "text/plain": [
       "0       3\n",
       "1       2\n",
       "2       3\n",
       "3       2\n",
       "4       3\n",
       "       ..\n",
       "1455    2\n",
       "1456    3\n",
       "1457    2\n",
       "1458    2\n",
       "1459    2\n",
       "Name: TotalFullbath, Length: 1460, dtype: int64"
      ]
     },
     "execution_count": 20,
     "metadata": {},
     "output_type": "execute_result"
    }
   ],
   "source": [
    "home_dataF['TotalFullbath'] = home_dataF['BsmtFullBath']+home_dataF['FullBath']\n",
    "home_dataF['TotalFullbath']"
   ]
  },
  {
   "cell_type": "markdown",
   "metadata": {},
   "source": [
    "Let's do a quick check:"
   ]
  },
  {
   "cell_type": "code",
   "execution_count": 21,
   "metadata": {},
   "outputs": [
    {
     "data": {
      "text/plain": [
       "0       1\n",
       "1       0\n",
       "2       1\n",
       "3       1\n",
       "4       1\n",
       "       ..\n",
       "1455    0\n",
       "1456    1\n",
       "1457    0\n",
       "1458    1\n",
       "1459    1\n",
       "Name: BsmtFullBath, Length: 1460, dtype: int64"
      ]
     },
     "execution_count": 21,
     "metadata": {},
     "output_type": "execute_result"
    }
   ],
   "source": [
    "home_dataF['BsmtFullBath']"
   ]
  },
  {
   "cell_type": "code",
   "execution_count": 22,
   "metadata": {},
   "outputs": [
    {
     "data": {
      "text/plain": [
       "0       2\n",
       "1       2\n",
       "2       2\n",
       "3       1\n",
       "4       2\n",
       "       ..\n",
       "1455    2\n",
       "1456    2\n",
       "1457    2\n",
       "1458    1\n",
       "1459    1\n",
       "Name: FullBath, Length: 1460, dtype: int64"
      ]
     },
     "execution_count": 22,
     "metadata": {},
     "output_type": "execute_result"
    }
   ],
   "source": [
    "home_dataF['FullBath']"
   ]
  },
  {
   "cell_type": "markdown",
   "metadata": {},
   "source": [
    "ok, we can notice that there is matematical consistency on the column **TotalFullbath**. Now, let's ordinal encode the column Condition1, "
   ]
  },
  {
   "cell_type": "markdown",
   "metadata": {},
   "source": [
    "Now, just as an exercise let's do the list of all of the categorical colums in **home_dataF**"
   ]
  },
  {
   "cell_type": "code",
   "execution_count": 23,
   "metadata": {},
   "outputs": [
    {
     "name": "stdout",
     "output_type": "stream",
     "text": [
      "Categorical variables:\n",
      "['MSZoning', 'Street', 'Alley', 'LotShape', 'LandContour', 'Utilities', 'LotConfig', 'LandSlope', 'Neighborhood', 'Condition1', 'Condition2', 'BldgType', 'HouseStyle', 'RoofStyle', 'RoofMatl', 'Exterior1st', 'Exterior2nd', 'MasVnrType', 'ExterQual', 'ExterCond', 'Foundation', 'BsmtQual', 'BsmtCond', 'BsmtExposure', 'BsmtFinType1', 'BsmtFinType2', 'Heating', 'HeatingQC', 'CentralAir', 'Electrical', 'KitchenQual', 'Functional', 'FireplaceQu', 'GarageType', 'GarageFinish', 'GarageQual', 'GarageCond', 'PavedDrive', 'PoolQC', 'Fence', 'MiscFeature', 'SaleType', 'SaleCondition']\n"
     ]
    }
   ],
   "source": [
    "# Get list of categorical variables\n",
    "s = (home_dataF.dtypes == 'object')\n",
    "object_cols = list(s[s].index)\n",
    "\n",
    "print(\"Categorical variables:\")\n",
    "print(object_cols)"
   ]
  },
  {
   "cell_type": "markdown",
   "metadata": {},
   "source": [
    "Now, let's break down the code above:"
   ]
  },
  {
   "cell_type": "code",
   "execution_count": 24,
   "metadata": {},
   "outputs": [
    {
     "data": {
      "text/plain": [
       "Id                 int64\n",
       "MSSubClass         int64\n",
       "MSZoning          object\n",
       "LotFrontage      float64\n",
       "LotArea            int64\n",
       "                  ...   \n",
       "YrSold             int64\n",
       "SaleType          object\n",
       "SaleCondition     object\n",
       "SalePrice          int64\n",
       "TotalFullbath      int64\n",
       "Length: 82, dtype: object"
      ]
     },
     "execution_count": 24,
     "metadata": {},
     "output_type": "execute_result"
    }
   ],
   "source": [
    "home_dataF.dtypes"
   ]
  },
  {
   "cell_type": "code",
   "execution_count": 25,
   "metadata": {},
   "outputs": [
    {
     "data": {
      "text/plain": [
       "Id               False\n",
       "MSSubClass       False\n",
       "MSZoning          True\n",
       "LotFrontage      False\n",
       "LotArea          False\n",
       "                 ...  \n",
       "YrSold           False\n",
       "SaleType          True\n",
       "SaleCondition     True\n",
       "SalePrice        False\n",
       "TotalFullbath    False\n",
       "Length: 82, dtype: bool"
      ]
     },
     "execution_count": 25,
     "metadata": {},
     "output_type": "execute_result"
    }
   ],
   "source": [
    "s"
   ]
  },
  {
   "cell_type": "code",
   "execution_count": 26,
   "metadata": {},
   "outputs": [
    {
     "data": {
      "text/plain": [
       "MSZoning         True\n",
       "Street           True\n",
       "Alley            True\n",
       "LotShape         True\n",
       "LandContour      True\n",
       "Utilities        True\n",
       "LotConfig        True\n",
       "LandSlope        True\n",
       "Neighborhood     True\n",
       "Condition1       True\n",
       "Condition2       True\n",
       "BldgType         True\n",
       "HouseStyle       True\n",
       "RoofStyle        True\n",
       "RoofMatl         True\n",
       "Exterior1st      True\n",
       "Exterior2nd      True\n",
       "MasVnrType       True\n",
       "ExterQual        True\n",
       "ExterCond        True\n",
       "Foundation       True\n",
       "BsmtQual         True\n",
       "BsmtCond         True\n",
       "BsmtExposure     True\n",
       "BsmtFinType1     True\n",
       "BsmtFinType2     True\n",
       "Heating          True\n",
       "HeatingQC        True\n",
       "CentralAir       True\n",
       "Electrical       True\n",
       "KitchenQual      True\n",
       "Functional       True\n",
       "FireplaceQu      True\n",
       "GarageType       True\n",
       "GarageFinish     True\n",
       "GarageQual       True\n",
       "GarageCond       True\n",
       "PavedDrive       True\n",
       "PoolQC           True\n",
       "Fence            True\n",
       "MiscFeature      True\n",
       "SaleType         True\n",
       "SaleCondition    True\n",
       "dtype: bool"
      ]
     },
     "execution_count": 26,
     "metadata": {},
     "output_type": "execute_result"
    }
   ],
   "source": [
    "s[s]"
   ]
  },
  {
   "cell_type": "code",
   "execution_count": 27,
   "metadata": {},
   "outputs": [
    {
     "data": {
      "text/plain": [
       "Index(['MSZoning', 'Street', 'Alley', 'LotShape', 'LandContour', 'Utilities',\n",
       "       'LotConfig', 'LandSlope', 'Neighborhood', 'Condition1', 'Condition2',\n",
       "       'BldgType', 'HouseStyle', 'RoofStyle', 'RoofMatl', 'Exterior1st',\n",
       "       'Exterior2nd', 'MasVnrType', 'ExterQual', 'ExterCond', 'Foundation',\n",
       "       'BsmtQual', 'BsmtCond', 'BsmtExposure', 'BsmtFinType1', 'BsmtFinType2',\n",
       "       'Heating', 'HeatingQC', 'CentralAir', 'Electrical', 'KitchenQual',\n",
       "       'Functional', 'FireplaceQu', 'GarageType', 'GarageFinish', 'GarageQual',\n",
       "       'GarageCond', 'PavedDrive', 'PoolQC', 'Fence', 'MiscFeature',\n",
       "       'SaleType', 'SaleCondition'],\n",
       "      dtype='object')"
      ]
     },
     "execution_count": 27,
     "metadata": {},
     "output_type": "execute_result"
    }
   ],
   "source": [
    "s[s].index"
   ]
  },
  {
   "cell_type": "markdown",
   "metadata": {},
   "source": [
    "Now, let's do the ordinal encode by wraggling columns, and then with the sklearn library.\n",
    "For manual ordinal encode (wraggling columns), since there is a ranking on frecuency in the categories, we will assign the values of the encoded in the following order:\n",
    "\n",
    "* Norm      1260 (9)\n",
    "* Feedr       81 (8)\n",
    "* Artery      48 (7)\n",
    "* RRAn        26 (6)\n",
    "* PosN        19 (5)\n",
    "* RRAe        11 (4)\n",
    "* PosA         8 (3)\n",
    "* RRNn         5 (2)\n",
    "* RRNe         2 (1)"
   ]
  },
  {
   "cell_type": "code",
   "execution_count": 28,
   "metadata": {},
   "outputs": [
    {
     "data": {
      "text/html": [
       "<div>\n",
       "<style scoped>\n",
       "    .dataframe tbody tr th:only-of-type {\n",
       "        vertical-align: middle;\n",
       "    }\n",
       "\n",
       "    .dataframe tbody tr th {\n",
       "        vertical-align: top;\n",
       "    }\n",
       "\n",
       "    .dataframe thead th {\n",
       "        text-align: right;\n",
       "    }\n",
       "</style>\n",
       "<table border=\"1\" class=\"dataframe\">\n",
       "  <thead>\n",
       "    <tr style=\"text-align: right;\">\n",
       "      <th></th>\n",
       "      <th>Id</th>\n",
       "      <th>MSSubClass</th>\n",
       "      <th>MSZoning</th>\n",
       "      <th>LotFrontage</th>\n",
       "      <th>LotArea</th>\n",
       "      <th>Street</th>\n",
       "      <th>Alley</th>\n",
       "      <th>LotShape</th>\n",
       "      <th>LandContour</th>\n",
       "      <th>Utilities</th>\n",
       "      <th>...</th>\n",
       "      <th>Fence</th>\n",
       "      <th>MiscFeature</th>\n",
       "      <th>MiscVal</th>\n",
       "      <th>MoSold</th>\n",
       "      <th>YrSold</th>\n",
       "      <th>SaleType</th>\n",
       "      <th>SaleCondition</th>\n",
       "      <th>SalePrice</th>\n",
       "      <th>TotalFullbath</th>\n",
       "      <th>Condition1N</th>\n",
       "    </tr>\n",
       "  </thead>\n",
       "  <tbody>\n",
       "    <tr>\n",
       "      <th>0</th>\n",
       "      <td>1</td>\n",
       "      <td>60</td>\n",
       "      <td>RL</td>\n",
       "      <td>65.0</td>\n",
       "      <td>8450</td>\n",
       "      <td>Pave</td>\n",
       "      <td>NaN</td>\n",
       "      <td>Reg</td>\n",
       "      <td>Lvl</td>\n",
       "      <td>AllPub</td>\n",
       "      <td>...</td>\n",
       "      <td>NaN</td>\n",
       "      <td>NaN</td>\n",
       "      <td>0</td>\n",
       "      <td>2</td>\n",
       "      <td>2008</td>\n",
       "      <td>WD</td>\n",
       "      <td>Normal</td>\n",
       "      <td>208500</td>\n",
       "      <td>3</td>\n",
       "      <td>9</td>\n",
       "    </tr>\n",
       "    <tr>\n",
       "      <th>1</th>\n",
       "      <td>2</td>\n",
       "      <td>20</td>\n",
       "      <td>RL</td>\n",
       "      <td>80.0</td>\n",
       "      <td>9600</td>\n",
       "      <td>Pave</td>\n",
       "      <td>NaN</td>\n",
       "      <td>Reg</td>\n",
       "      <td>Lvl</td>\n",
       "      <td>AllPub</td>\n",
       "      <td>...</td>\n",
       "      <td>NaN</td>\n",
       "      <td>NaN</td>\n",
       "      <td>0</td>\n",
       "      <td>5</td>\n",
       "      <td>2007</td>\n",
       "      <td>WD</td>\n",
       "      <td>Normal</td>\n",
       "      <td>181500</td>\n",
       "      <td>2</td>\n",
       "      <td>8</td>\n",
       "    </tr>\n",
       "    <tr>\n",
       "      <th>2</th>\n",
       "      <td>3</td>\n",
       "      <td>60</td>\n",
       "      <td>RL</td>\n",
       "      <td>68.0</td>\n",
       "      <td>11250</td>\n",
       "      <td>Pave</td>\n",
       "      <td>NaN</td>\n",
       "      <td>IR1</td>\n",
       "      <td>Lvl</td>\n",
       "      <td>AllPub</td>\n",
       "      <td>...</td>\n",
       "      <td>NaN</td>\n",
       "      <td>NaN</td>\n",
       "      <td>0</td>\n",
       "      <td>9</td>\n",
       "      <td>2008</td>\n",
       "      <td>WD</td>\n",
       "      <td>Normal</td>\n",
       "      <td>223500</td>\n",
       "      <td>3</td>\n",
       "      <td>9</td>\n",
       "    </tr>\n",
       "    <tr>\n",
       "      <th>3</th>\n",
       "      <td>4</td>\n",
       "      <td>70</td>\n",
       "      <td>RL</td>\n",
       "      <td>60.0</td>\n",
       "      <td>9550</td>\n",
       "      <td>Pave</td>\n",
       "      <td>NaN</td>\n",
       "      <td>IR1</td>\n",
       "      <td>Lvl</td>\n",
       "      <td>AllPub</td>\n",
       "      <td>...</td>\n",
       "      <td>NaN</td>\n",
       "      <td>NaN</td>\n",
       "      <td>0</td>\n",
       "      <td>2</td>\n",
       "      <td>2006</td>\n",
       "      <td>WD</td>\n",
       "      <td>Abnorml</td>\n",
       "      <td>140000</td>\n",
       "      <td>2</td>\n",
       "      <td>9</td>\n",
       "    </tr>\n",
       "    <tr>\n",
       "      <th>4</th>\n",
       "      <td>5</td>\n",
       "      <td>60</td>\n",
       "      <td>RL</td>\n",
       "      <td>84.0</td>\n",
       "      <td>14260</td>\n",
       "      <td>Pave</td>\n",
       "      <td>NaN</td>\n",
       "      <td>IR1</td>\n",
       "      <td>Lvl</td>\n",
       "      <td>AllPub</td>\n",
       "      <td>...</td>\n",
       "      <td>NaN</td>\n",
       "      <td>NaN</td>\n",
       "      <td>0</td>\n",
       "      <td>12</td>\n",
       "      <td>2008</td>\n",
       "      <td>WD</td>\n",
       "      <td>Normal</td>\n",
       "      <td>250000</td>\n",
       "      <td>3</td>\n",
       "      <td>9</td>\n",
       "    </tr>\n",
       "    <tr>\n",
       "      <th>...</th>\n",
       "      <td>...</td>\n",
       "      <td>...</td>\n",
       "      <td>...</td>\n",
       "      <td>...</td>\n",
       "      <td>...</td>\n",
       "      <td>...</td>\n",
       "      <td>...</td>\n",
       "      <td>...</td>\n",
       "      <td>...</td>\n",
       "      <td>...</td>\n",
       "      <td>...</td>\n",
       "      <td>...</td>\n",
       "      <td>...</td>\n",
       "      <td>...</td>\n",
       "      <td>...</td>\n",
       "      <td>...</td>\n",
       "      <td>...</td>\n",
       "      <td>...</td>\n",
       "      <td>...</td>\n",
       "      <td>...</td>\n",
       "      <td>...</td>\n",
       "    </tr>\n",
       "    <tr>\n",
       "      <th>1455</th>\n",
       "      <td>1456</td>\n",
       "      <td>60</td>\n",
       "      <td>RL</td>\n",
       "      <td>62.0</td>\n",
       "      <td>7917</td>\n",
       "      <td>Pave</td>\n",
       "      <td>NaN</td>\n",
       "      <td>Reg</td>\n",
       "      <td>Lvl</td>\n",
       "      <td>AllPub</td>\n",
       "      <td>...</td>\n",
       "      <td>NaN</td>\n",
       "      <td>NaN</td>\n",
       "      <td>0</td>\n",
       "      <td>8</td>\n",
       "      <td>2007</td>\n",
       "      <td>WD</td>\n",
       "      <td>Normal</td>\n",
       "      <td>175000</td>\n",
       "      <td>2</td>\n",
       "      <td>9</td>\n",
       "    </tr>\n",
       "    <tr>\n",
       "      <th>1456</th>\n",
       "      <td>1457</td>\n",
       "      <td>20</td>\n",
       "      <td>RL</td>\n",
       "      <td>85.0</td>\n",
       "      <td>13175</td>\n",
       "      <td>Pave</td>\n",
       "      <td>NaN</td>\n",
       "      <td>Reg</td>\n",
       "      <td>Lvl</td>\n",
       "      <td>AllPub</td>\n",
       "      <td>...</td>\n",
       "      <td>MnPrv</td>\n",
       "      <td>NaN</td>\n",
       "      <td>0</td>\n",
       "      <td>2</td>\n",
       "      <td>2010</td>\n",
       "      <td>WD</td>\n",
       "      <td>Normal</td>\n",
       "      <td>210000</td>\n",
       "      <td>3</td>\n",
       "      <td>9</td>\n",
       "    </tr>\n",
       "    <tr>\n",
       "      <th>1457</th>\n",
       "      <td>1458</td>\n",
       "      <td>70</td>\n",
       "      <td>RL</td>\n",
       "      <td>66.0</td>\n",
       "      <td>9042</td>\n",
       "      <td>Pave</td>\n",
       "      <td>NaN</td>\n",
       "      <td>Reg</td>\n",
       "      <td>Lvl</td>\n",
       "      <td>AllPub</td>\n",
       "      <td>...</td>\n",
       "      <td>GdPrv</td>\n",
       "      <td>Shed</td>\n",
       "      <td>2500</td>\n",
       "      <td>5</td>\n",
       "      <td>2010</td>\n",
       "      <td>WD</td>\n",
       "      <td>Normal</td>\n",
       "      <td>266500</td>\n",
       "      <td>2</td>\n",
       "      <td>9</td>\n",
       "    </tr>\n",
       "    <tr>\n",
       "      <th>1458</th>\n",
       "      <td>1459</td>\n",
       "      <td>20</td>\n",
       "      <td>RL</td>\n",
       "      <td>68.0</td>\n",
       "      <td>9717</td>\n",
       "      <td>Pave</td>\n",
       "      <td>NaN</td>\n",
       "      <td>Reg</td>\n",
       "      <td>Lvl</td>\n",
       "      <td>AllPub</td>\n",
       "      <td>...</td>\n",
       "      <td>NaN</td>\n",
       "      <td>NaN</td>\n",
       "      <td>0</td>\n",
       "      <td>4</td>\n",
       "      <td>2010</td>\n",
       "      <td>WD</td>\n",
       "      <td>Normal</td>\n",
       "      <td>142125</td>\n",
       "      <td>2</td>\n",
       "      <td>9</td>\n",
       "    </tr>\n",
       "    <tr>\n",
       "      <th>1459</th>\n",
       "      <td>1460</td>\n",
       "      <td>20</td>\n",
       "      <td>RL</td>\n",
       "      <td>75.0</td>\n",
       "      <td>9937</td>\n",
       "      <td>Pave</td>\n",
       "      <td>NaN</td>\n",
       "      <td>Reg</td>\n",
       "      <td>Lvl</td>\n",
       "      <td>AllPub</td>\n",
       "      <td>...</td>\n",
       "      <td>NaN</td>\n",
       "      <td>NaN</td>\n",
       "      <td>0</td>\n",
       "      <td>6</td>\n",
       "      <td>2008</td>\n",
       "      <td>WD</td>\n",
       "      <td>Normal</td>\n",
       "      <td>147500</td>\n",
       "      <td>2</td>\n",
       "      <td>9</td>\n",
       "    </tr>\n",
       "  </tbody>\n",
       "</table>\n",
       "<p>1460 rows × 83 columns</p>\n",
       "</div>"
      ],
      "text/plain": [
       "        Id  MSSubClass MSZoning  LotFrontage  LotArea Street Alley LotShape  \\\n",
       "0        1          60       RL         65.0     8450   Pave   NaN      Reg   \n",
       "1        2          20       RL         80.0     9600   Pave   NaN      Reg   \n",
       "2        3          60       RL         68.0    11250   Pave   NaN      IR1   \n",
       "3        4          70       RL         60.0     9550   Pave   NaN      IR1   \n",
       "4        5          60       RL         84.0    14260   Pave   NaN      IR1   \n",
       "...    ...         ...      ...          ...      ...    ...   ...      ...   \n",
       "1455  1456          60       RL         62.0     7917   Pave   NaN      Reg   \n",
       "1456  1457          20       RL         85.0    13175   Pave   NaN      Reg   \n",
       "1457  1458          70       RL         66.0     9042   Pave   NaN      Reg   \n",
       "1458  1459          20       RL         68.0     9717   Pave   NaN      Reg   \n",
       "1459  1460          20       RL         75.0     9937   Pave   NaN      Reg   \n",
       "\n",
       "     LandContour Utilities  ...  Fence MiscFeature MiscVal MoSold YrSold  \\\n",
       "0            Lvl    AllPub  ...    NaN         NaN       0      2   2008   \n",
       "1            Lvl    AllPub  ...    NaN         NaN       0      5   2007   \n",
       "2            Lvl    AllPub  ...    NaN         NaN       0      9   2008   \n",
       "3            Lvl    AllPub  ...    NaN         NaN       0      2   2006   \n",
       "4            Lvl    AllPub  ...    NaN         NaN       0     12   2008   \n",
       "...          ...       ...  ...    ...         ...     ...    ...    ...   \n",
       "1455         Lvl    AllPub  ...    NaN         NaN       0      8   2007   \n",
       "1456         Lvl    AllPub  ...  MnPrv         NaN       0      2   2010   \n",
       "1457         Lvl    AllPub  ...  GdPrv        Shed    2500      5   2010   \n",
       "1458         Lvl    AllPub  ...    NaN         NaN       0      4   2010   \n",
       "1459         Lvl    AllPub  ...    NaN         NaN       0      6   2008   \n",
       "\n",
       "     SaleType SaleCondition  SalePrice  TotalFullbath  Condition1N  \n",
       "0          WD        Normal     208500              3            9  \n",
       "1          WD        Normal     181500              2            8  \n",
       "2          WD        Normal     223500              3            9  \n",
       "3          WD       Abnorml     140000              2            9  \n",
       "4          WD        Normal     250000              3            9  \n",
       "...       ...           ...        ...            ...          ...  \n",
       "1455       WD        Normal     175000              2            9  \n",
       "1456       WD        Normal     210000              3            9  \n",
       "1457       WD        Normal     266500              2            9  \n",
       "1458       WD        Normal     142125              2            9  \n",
       "1459       WD        Normal     147500              2            9  \n",
       "\n",
       "[1460 rows x 83 columns]"
      ]
     },
     "execution_count": 28,
     "metadata": {},
     "output_type": "execute_result"
    }
   ],
   "source": [
    "home_dataF['Condition1N'] = (\n",
    "    np.select(\n",
    "        condlist = [home_dataF['Condition1'] == 'RRNe', home_dataF['Condition1'] == 'RRNn', home_dataF['Condition1'] == 'PosA', home_dataF['Condition1'] == 'RRAe', home_dataF['Condition1'] == 'PosN', home_dataF['Condition1'] == 'RRAn', home_dataF['Condition1'] == 'Artery', home_dataF['Condition1'] == 'Feedr'],\n",
    "        choicelist=[1,2,3,4,5,6,7,8],\n",
    "        default=[9]))\n",
    "home_dataF"
   ]
  },
  {
   "cell_type": "code",
   "execution_count": 29,
   "metadata": {},
   "outputs": [
    {
     "data": {
      "text/plain": [
       "count    1460.000000\n",
       "mean        8.667808\n",
       "std         1.042578\n",
       "min         1.000000\n",
       "25%         9.000000\n",
       "50%         9.000000\n",
       "75%         9.000000\n",
       "max         9.000000\n",
       "Name: Condition1N, dtype: float64"
      ]
     },
     "execution_count": 29,
     "metadata": {},
     "output_type": "execute_result"
    }
   ],
   "source": [
    "home_dataF['Condition1N'].describe()"
   ]
  },
  {
   "cell_type": "code",
   "execution_count": 30,
   "metadata": {},
   "outputs": [
    {
     "data": {
      "text/plain": [
       "0       9\n",
       "1       8\n",
       "2       9\n",
       "3       9\n",
       "4       9\n",
       "       ..\n",
       "1455    9\n",
       "1456    9\n",
       "1457    9\n",
       "1458    9\n",
       "1459    9\n",
       "Name: Condition1N, Length: 1460, dtype: int32"
      ]
     },
     "execution_count": 30,
     "metadata": {},
     "output_type": "execute_result"
    }
   ],
   "source": [
    "home_dataF['Condition1N']"
   ]
  },
  {
   "cell_type": "code",
   "execution_count": 31,
   "metadata": {},
   "outputs": [
    {
     "data": {
      "text/plain": [
       "<AxesSubplot:>"
      ]
     },
     "execution_count": 31,
     "metadata": {},
     "output_type": "execute_result"
    },
    {
     "data": {
      "image/png": "[encoded data removed]",
      "text/plain": [
       "<Figure size 1008x432 with 1 Axes>"
      ]
     },
     "metadata": {
      "needs_background": "light"
     },
     "output_type": "display_data"
    }
   ],
   "source": [
    "home_dataF['Condition1N'].plot(kind='box', vert=False, figsize=(14,6))"
   ]
  },
  {
   "cell_type": "code",
   "execution_count": 32,
   "metadata": {},
   "outputs": [
    {
     "data": {
      "text/plain": [
       "<AxesSubplot:ylabel='Density'>"
      ]
     },
     "execution_count": 32,
     "metadata": {},
     "output_type": "execute_result"
    },
    {
     "data": {
      "image/png": "[encoded data removed]",
      "text/plain": [
       "<Figure size 1008x432 with 1 Axes>"
      ]
     },
     "metadata": {
      "needs_background": "light"
     },
     "output_type": "display_data"
    }
   ],
   "source": [
    "home_dataF['Condition1N'].plot(kind='density', figsize=(14,6))"
   ]
  },
  {
   "cell_type": "markdown",
   "metadata": {},
   "source": [
    "Ok, the manual ordinal encoding looks excellent, now let's do the same encoding with the sklearn library:"
   ]
  },
  {
   "cell_type": "code",
   "execution_count": 33,
   "metadata": {},
   "outputs": [],
   "source": [
    "from sklearn.preprocessing import OrdinalEncoder"
   ]
  },
  {
   "cell_type": "code",
   "execution_count": 34,
   "metadata": {},
   "outputs": [
    {
     "data": {
      "text/html": [
       "<div>\n",
       "<style scoped>\n",
       "    .dataframe tbody tr th:only-of-type {\n",
       "        vertical-align: middle;\n",
       "    }\n",
       "\n",
       "    .dataframe tbody tr th {\n",
       "        vertical-align: top;\n",
       "    }\n",
       "\n",
       "    .dataframe thead th {\n",
       "        text-align: right;\n",
       "    }\n",
       "</style>\n",
       "<table border=\"1\" class=\"dataframe\">\n",
       "  <thead>\n",
       "    <tr style=\"text-align: right;\">\n",
       "      <th></th>\n",
       "      <th>1stFlrSF</th>\n",
       "      <th>2ndFlrSF</th>\n",
       "      <th>Neighborhood</th>\n",
       "      <th>Condition1</th>\n",
       "      <th>YearBuilt</th>\n",
       "    </tr>\n",
       "  </thead>\n",
       "  <tbody>\n",
       "    <tr>\n",
       "      <th>0</th>\n",
       "      <td>856</td>\n",
       "      <td>854</td>\n",
       "      <td>CollgCr</td>\n",
       "      <td>Norm</td>\n",
       "      <td>2003</td>\n",
       "    </tr>\n",
       "    <tr>\n",
       "      <th>1</th>\n",
       "      <td>1262</td>\n",
       "      <td>0</td>\n",
       "      <td>Veenker</td>\n",
       "      <td>Feedr</td>\n",
       "      <td>1976</td>\n",
       "    </tr>\n",
       "    <tr>\n",
       "      <th>2</th>\n",
       "      <td>920</td>\n",
       "      <td>866</td>\n",
       "      <td>CollgCr</td>\n",
       "      <td>Norm</td>\n",
       "      <td>2001</td>\n",
       "    </tr>\n",
       "    <tr>\n",
       "      <th>3</th>\n",
       "      <td>961</td>\n",
       "      <td>756</td>\n",
       "      <td>Crawfor</td>\n",
       "      <td>Norm</td>\n",
       "      <td>1915</td>\n",
       "    </tr>\n",
       "    <tr>\n",
       "      <th>4</th>\n",
       "      <td>1145</td>\n",
       "      <td>1053</td>\n",
       "      <td>NoRidge</td>\n",
       "      <td>Norm</td>\n",
       "      <td>2000</td>\n",
       "    </tr>\n",
       "    <tr>\n",
       "      <th>...</th>\n",
       "      <td>...</td>\n",
       "      <td>...</td>\n",
       "      <td>...</td>\n",
       "      <td>...</td>\n",
       "      <td>...</td>\n",
       "    </tr>\n",
       "    <tr>\n",
       "      <th>1455</th>\n",
       "      <td>953</td>\n",
       "      <td>694</td>\n",
       "      <td>Gilbert</td>\n",
       "      <td>Norm</td>\n",
       "      <td>1999</td>\n",
       "    </tr>\n",
       "    <tr>\n",
       "      <th>1456</th>\n",
       "      <td>2073</td>\n",
       "      <td>0</td>\n",
       "      <td>NWAmes</td>\n",
       "      <td>Norm</td>\n",
       "      <td>1978</td>\n",
       "    </tr>\n",
       "    <tr>\n",
       "      <th>1457</th>\n",
       "      <td>1188</td>\n",
       "      <td>1152</td>\n",
       "      <td>Crawfor</td>\n",
       "      <td>Norm</td>\n",
       "      <td>1941</td>\n",
       "    </tr>\n",
       "    <tr>\n",
       "      <th>1458</th>\n",
       "      <td>1078</td>\n",
       "      <td>0</td>\n",
       "      <td>NAmes</td>\n",
       "      <td>Norm</td>\n",
       "      <td>1950</td>\n",
       "    </tr>\n",
       "    <tr>\n",
       "      <th>1459</th>\n",
       "      <td>1256</td>\n",
       "      <td>0</td>\n",
       "      <td>Edwards</td>\n",
       "      <td>Norm</td>\n",
       "      <td>1965</td>\n",
       "    </tr>\n",
       "  </tbody>\n",
       "</table>\n",
       "<p>1460 rows × 5 columns</p>\n",
       "</div>"
      ],
      "text/plain": [
       "      1stFlrSF  2ndFlrSF Neighborhood Condition1  YearBuilt\n",
       "0          856       854      CollgCr       Norm       2003\n",
       "1         1262         0      Veenker      Feedr       1976\n",
       "2          920       866      CollgCr       Norm       2001\n",
       "3          961       756      Crawfor       Norm       1915\n",
       "4         1145      1053      NoRidge       Norm       2000\n",
       "...        ...       ...          ...        ...        ...\n",
       "1455       953       694      Gilbert       Norm       1999\n",
       "1456      2073         0       NWAmes       Norm       1978\n",
       "1457      1188      1152      Crawfor       Norm       1941\n",
       "1458      1078         0        NAmes       Norm       1950\n",
       "1459      1256         0      Edwards       Norm       1965\n",
       "\n",
       "[1460 rows x 5 columns]"
      ]
     },
     "execution_count": 34,
     "metadata": {},
     "output_type": "execute_result"
    }
   ],
   "source": [
    "features1= home_data[feature_names_1]\n",
    "features1"
   ]
  },
  {
   "cell_type": "code",
   "execution_count": 35,
   "metadata": {},
   "outputs": [
    {
     "data": {
      "text/plain": [
       "array([[134., 232.,   5.,   2., 104.],\n",
       "       [427.,   0.,  24.,   1.,  77.],\n",
       "       [178., 239.,   5.,   2., 102.],\n",
       "       ...,\n",
       "       [378., 354.,   6.,   2.,  44.],\n",
       "       [296.,   0.,  12.,   2.,  51.],\n",
       "       [423.,   0.,   7.,   2.,  66.]])"
      ]
     },
     "execution_count": 35,
     "metadata": {},
     "output_type": "execute_result"
    }
   ],
   "source": [
    "# Make copy to avoid changing original data \n",
    "label_features1 = features1.copy()\n",
    "\n",
    "# Apply ordinal encoder to each column with categorical data\n",
    "ordinal_encoder = OrdinalEncoder()\n",
    "label_features1 = ordinal_encoder.fit_transform(label_features1)\n",
    "label_features1"
   ]
  },
  {
   "cell_type": "markdown",
   "metadata": {},
   "source": [
    "As we can see, the encoding with the sklearing library does not show the influence of frecuency in the categories, for that reason we will pick the manual encoding."
   ]
  },
  {
   "cell_type": "markdown",
   "metadata": {},
   "source": [
    "ok, now, we can build the two FINAL groups of features to do the model evaluation: **central_features** and **combined_features** :"
   ]
  },
  {
   "cell_type": "code",
   "execution_count": 36,
   "metadata": {},
   "outputs": [
    {
     "data": {
      "text/html": [
       "<div>\n",
       "<style scoped>\n",
       "    .dataframe tbody tr th:only-of-type {\n",
       "        vertical-align: middle;\n",
       "    }\n",
       "\n",
       "    .dataframe tbody tr th {\n",
       "        vertical-align: top;\n",
       "    }\n",
       "\n",
       "    .dataframe thead th {\n",
       "        text-align: right;\n",
       "    }\n",
       "</style>\n",
       "<table border=\"1\" class=\"dataframe\">\n",
       "  <thead>\n",
       "    <tr style=\"text-align: right;\">\n",
       "      <th></th>\n",
       "      <th>1stFlrSF</th>\n",
       "      <th>2ndFlrSF</th>\n",
       "      <th>Condition1N</th>\n",
       "      <th>YearBuilt</th>\n",
       "      <th>OverallQual</th>\n",
       "    </tr>\n",
       "  </thead>\n",
       "  <tbody>\n",
       "    <tr>\n",
       "      <th>0</th>\n",
       "      <td>856</td>\n",
       "      <td>854</td>\n",
       "      <td>9</td>\n",
       "      <td>2003</td>\n",
       "      <td>7</td>\n",
       "    </tr>\n",
       "    <tr>\n",
       "      <th>1</th>\n",
       "      <td>1262</td>\n",
       "      <td>0</td>\n",
       "      <td>8</td>\n",
       "      <td>1976</td>\n",
       "      <td>6</td>\n",
       "    </tr>\n",
       "    <tr>\n",
       "      <th>2</th>\n",
       "      <td>920</td>\n",
       "      <td>866</td>\n",
       "      <td>9</td>\n",
       "      <td>2001</td>\n",
       "      <td>7</td>\n",
       "    </tr>\n",
       "    <tr>\n",
       "      <th>3</th>\n",
       "      <td>961</td>\n",
       "      <td>756</td>\n",
       "      <td>9</td>\n",
       "      <td>1915</td>\n",
       "      <td>7</td>\n",
       "    </tr>\n",
       "    <tr>\n",
       "      <th>4</th>\n",
       "      <td>1145</td>\n",
       "      <td>1053</td>\n",
       "      <td>9</td>\n",
       "      <td>2000</td>\n",
       "      <td>8</td>\n",
       "    </tr>\n",
       "    <tr>\n",
       "      <th>...</th>\n",
       "      <td>...</td>\n",
       "      <td>...</td>\n",
       "      <td>...</td>\n",
       "      <td>...</td>\n",
       "      <td>...</td>\n",
       "    </tr>\n",
       "    <tr>\n",
       "      <th>1455</th>\n",
       "      <td>953</td>\n",
       "      <td>694</td>\n",
       "      <td>9</td>\n",
       "      <td>1999</td>\n",
       "      <td>6</td>\n",
       "    </tr>\n",
       "    <tr>\n",
       "      <th>1456</th>\n",
       "      <td>2073</td>\n",
       "      <td>0</td>\n",
       "      <td>9</td>\n",
       "      <td>1978</td>\n",
       "      <td>6</td>\n",
       "    </tr>\n",
       "    <tr>\n",
       "      <th>1457</th>\n",
       "      <td>1188</td>\n",
       "      <td>1152</td>\n",
       "      <td>9</td>\n",
       "      <td>1941</td>\n",
       "      <td>7</td>\n",
       "    </tr>\n",
       "    <tr>\n",
       "      <th>1458</th>\n",
       "      <td>1078</td>\n",
       "      <td>0</td>\n",
       "      <td>9</td>\n",
       "      <td>1950</td>\n",
       "      <td>5</td>\n",
       "    </tr>\n",
       "    <tr>\n",
       "      <th>1459</th>\n",
       "      <td>1256</td>\n",
       "      <td>0</td>\n",
       "      <td>9</td>\n",
       "      <td>1965</td>\n",
       "      <td>5</td>\n",
       "    </tr>\n",
       "  </tbody>\n",
       "</table>\n",
       "<p>1460 rows × 5 columns</p>\n",
       "</div>"
      ],
      "text/plain": [
       "      1stFlrSF  2ndFlrSF  Condition1N  YearBuilt  OverallQual\n",
       "0          856       854            9       2003            7\n",
       "1         1262         0            8       1976            6\n",
       "2          920       866            9       2001            7\n",
       "3          961       756            9       1915            7\n",
       "4         1145      1053            9       2000            8\n",
       "...        ...       ...          ...        ...          ...\n",
       "1455       953       694            9       1999            6\n",
       "1456      2073         0            9       1978            6\n",
       "1457      1188      1152            9       1941            7\n",
       "1458      1078         0            9       1950            5\n",
       "1459      1256         0            9       1965            5\n",
       "\n",
       "[1460 rows x 5 columns]"
      ]
     },
     "execution_count": 36,
     "metadata": {},
     "output_type": "execute_result"
    }
   ],
   "source": [
    "central_features_names = ['1stFlrSF','2ndFlrSF','Condition1N','YearBuilt','OverallQual']\n",
    "central_features = home_dataF[central_features_names]\n",
    "central_features"
   ]
  },
  {
   "cell_type": "code",
   "execution_count": 37,
   "metadata": {
    "scrolled": true
   },
   "outputs": [
    {
     "data": {
      "text/html": [
       "<div>\n",
       "<style scoped>\n",
       "    .dataframe tbody tr th:only-of-type {\n",
       "        vertical-align: middle;\n",
       "    }\n",
       "\n",
       "    .dataframe tbody tr th {\n",
       "        vertical-align: top;\n",
       "    }\n",
       "\n",
       "    .dataframe thead th {\n",
       "        text-align: right;\n",
       "    }\n",
       "</style>\n",
       "<table border=\"1\" class=\"dataframe\">\n",
       "  <thead>\n",
       "    <tr style=\"text-align: right;\">\n",
       "      <th></th>\n",
       "      <th>1stFlrSF</th>\n",
       "      <th>2ndFlrSF</th>\n",
       "      <th>Condition1N</th>\n",
       "      <th>YearBuilt</th>\n",
       "      <th>OverallQual</th>\n",
       "      <th>LotArea</th>\n",
       "      <th>GarageCars</th>\n",
       "      <th>TotalFullbath</th>\n",
       "    </tr>\n",
       "  </thead>\n",
       "  <tbody>\n",
       "    <tr>\n",
       "      <th>0</th>\n",
       "      <td>856</td>\n",
       "      <td>854</td>\n",
       "      <td>9</td>\n",
       "      <td>2003</td>\n",
       "      <td>7</td>\n",
       "      <td>8450</td>\n",
       "      <td>2</td>\n",
       "      <td>3</td>\n",
       "    </tr>\n",
       "    <tr>\n",
       "      <th>1</th>\n",
       "      <td>1262</td>\n",
       "      <td>0</td>\n",
       "      <td>8</td>\n",
       "      <td>1976</td>\n",
       "      <td>6</td>\n",
       "      <td>9600</td>\n",
       "      <td>2</td>\n",
       "      <td>2</td>\n",
       "    </tr>\n",
       "    <tr>\n",
       "      <th>2</th>\n",
       "      <td>920</td>\n",
       "      <td>866</td>\n",
       "      <td>9</td>\n",
       "      <td>2001</td>\n",
       "      <td>7</td>\n",
       "      <td>11250</td>\n",
       "      <td>2</td>\n",
       "      <td>3</td>\n",
       "    </tr>\n",
       "    <tr>\n",
       "      <th>3</th>\n",
       "      <td>961</td>\n",
       "      <td>756</td>\n",
       "      <td>9</td>\n",
       "      <td>1915</td>\n",
       "      <td>7</td>\n",
       "      <td>9550</td>\n",
       "      <td>3</td>\n",
       "      <td>2</td>\n",
       "    </tr>\n",
       "    <tr>\n",
       "      <th>4</th>\n",
       "      <td>1145</td>\n",
       "      <td>1053</td>\n",
       "      <td>9</td>\n",
       "      <td>2000</td>\n",
       "      <td>8</td>\n",
       "      <td>14260</td>\n",
       "      <td>3</td>\n",
       "      <td>3</td>\n",
       "    </tr>\n",
       "    <tr>\n",
       "      <th>...</th>\n",
       "      <td>...</td>\n",
       "      <td>...</td>\n",
       "      <td>...</td>\n",
       "      <td>...</td>\n",
       "      <td>...</td>\n",
       "      <td>...</td>\n",
       "      <td>...</td>\n",
       "      <td>...</td>\n",
       "    </tr>\n",
       "    <tr>\n",
       "      <th>1455</th>\n",
       "      <td>953</td>\n",
       "      <td>694</td>\n",
       "      <td>9</td>\n",
       "      <td>1999</td>\n",
       "      <td>6</td>\n",
       "      <td>7917</td>\n",
       "      <td>2</td>\n",
       "      <td>2</td>\n",
       "    </tr>\n",
       "    <tr>\n",
       "      <th>1456</th>\n",
       "      <td>2073</td>\n",
       "      <td>0</td>\n",
       "      <td>9</td>\n",
       "      <td>1978</td>\n",
       "      <td>6</td>\n",
       "      <td>13175</td>\n",
       "      <td>2</td>\n",
       "      <td>3</td>\n",
       "    </tr>\n",
       "    <tr>\n",
       "      <th>1457</th>\n",
       "      <td>1188</td>\n",
       "      <td>1152</td>\n",
       "      <td>9</td>\n",
       "      <td>1941</td>\n",
       "      <td>7</td>\n",
       "      <td>9042</td>\n",
       "      <td>1</td>\n",
       "      <td>2</td>\n",
       "    </tr>\n",
       "    <tr>\n",
       "      <th>1458</th>\n",
       "      <td>1078</td>\n",
       "      <td>0</td>\n",
       "      <td>9</td>\n",
       "      <td>1950</td>\n",
       "      <td>5</td>\n",
       "      <td>9717</td>\n",
       "      <td>1</td>\n",
       "      <td>2</td>\n",
       "    </tr>\n",
       "    <tr>\n",
       "      <th>1459</th>\n",
       "      <td>1256</td>\n",
       "      <td>0</td>\n",
       "      <td>9</td>\n",
       "      <td>1965</td>\n",
       "      <td>5</td>\n",
       "      <td>9937</td>\n",
       "      <td>1</td>\n",
       "      <td>2</td>\n",
       "    </tr>\n",
       "  </tbody>\n",
       "</table>\n",
       "<p>1460 rows × 8 columns</p>\n",
       "</div>"
      ],
      "text/plain": [
       "      1stFlrSF  2ndFlrSF  Condition1N  YearBuilt  OverallQual  LotArea  \\\n",
       "0          856       854            9       2003            7     8450   \n",
       "1         1262         0            8       1976            6     9600   \n",
       "2          920       866            9       2001            7    11250   \n",
       "3          961       756            9       1915            7     9550   \n",
       "4         1145      1053            9       2000            8    14260   \n",
       "...        ...       ...          ...        ...          ...      ...   \n",
       "1455       953       694            9       1999            6     7917   \n",
       "1456      2073         0            9       1978            6    13175   \n",
       "1457      1188      1152            9       1941            7     9042   \n",
       "1458      1078         0            9       1950            5     9717   \n",
       "1459      1256         0            9       1965            5     9937   \n",
       "\n",
       "      GarageCars  TotalFullbath  \n",
       "0              2              3  \n",
       "1              2              2  \n",
       "2              2              3  \n",
       "3              3              2  \n",
       "4              3              3  \n",
       "...          ...            ...  \n",
       "1455           2              2  \n",
       "1456           2              3  \n",
       "1457           1              2  \n",
       "1458           1              2  \n",
       "1459           1              2  \n",
       "\n",
       "[1460 rows x 8 columns]"
      ]
     },
     "execution_count": 37,
     "metadata": {},
     "output_type": "execute_result"
    }
   ],
   "source": [
    "combined_features_names = ['1stFlrSF','2ndFlrSF','Condition1N','YearBuilt','OverallQual','LotArea','GarageCars', 'TotalFullbath']\n",
    "combined_features = home_dataF[combined_features_names]\n",
    "combined_features"
   ]
  },
  {
   "cell_type": "code",
   "execution_count": 38,
   "metadata": {
    "scrolled": true
   },
   "outputs": [
    {
     "data": {
      "text/html": [
       "<div>\n",
       "<style scoped>\n",
       "    .dataframe tbody tr th:only-of-type {\n",
       "        vertical-align: middle;\n",
       "    }\n",
       "\n",
       "    .dataframe tbody tr th {\n",
       "        vertical-align: top;\n",
       "    }\n",
       "\n",
       "    .dataframe thead th {\n",
       "        text-align: right;\n",
       "    }\n",
       "</style>\n",
       "<table border=\"1\" class=\"dataframe\">\n",
       "  <thead>\n",
       "    <tr style=\"text-align: right;\">\n",
       "      <th></th>\n",
       "      <th>1stFlrSF</th>\n",
       "      <th>2ndFlrSF</th>\n",
       "      <th>Condition1N</th>\n",
       "      <th>YearBuilt</th>\n",
       "      <th>OverallQual</th>\n",
       "      <th>LotArea</th>\n",
       "      <th>GarageCars</th>\n",
       "      <th>TotalFullbath</th>\n",
       "    </tr>\n",
       "  </thead>\n",
       "  <tbody>\n",
       "    <tr>\n",
       "      <th>count</th>\n",
       "      <td>1460.000000</td>\n",
       "      <td>1460.000000</td>\n",
       "      <td>1460.000000</td>\n",
       "      <td>1460.000000</td>\n",
       "      <td>1460.000000</td>\n",
       "      <td>1460.000000</td>\n",
       "      <td>1460.000000</td>\n",
       "      <td>1460.000000</td>\n",
       "    </tr>\n",
       "    <tr>\n",
       "      <th>mean</th>\n",
       "      <td>1162.626712</td>\n",
       "      <td>346.992466</td>\n",
       "      <td>8.667808</td>\n",
       "      <td>1971.267808</td>\n",
       "      <td>6.099315</td>\n",
       "      <td>10516.828082</td>\n",
       "      <td>1.767123</td>\n",
       "      <td>1.990411</td>\n",
       "    </tr>\n",
       "    <tr>\n",
       "      <th>std</th>\n",
       "      <td>386.587738</td>\n",
       "      <td>436.528436</td>\n",
       "      <td>1.042578</td>\n",
       "      <td>30.202904</td>\n",
       "      <td>1.382997</td>\n",
       "      <td>9981.264932</td>\n",
       "      <td>0.747315</td>\n",
       "      <td>0.732046</td>\n",
       "    </tr>\n",
       "    <tr>\n",
       "      <th>min</th>\n",
       "      <td>334.000000</td>\n",
       "      <td>0.000000</td>\n",
       "      <td>1.000000</td>\n",
       "      <td>1872.000000</td>\n",
       "      <td>1.000000</td>\n",
       "      <td>1300.000000</td>\n",
       "      <td>0.000000</td>\n",
       "      <td>0.000000</td>\n",
       "    </tr>\n",
       "    <tr>\n",
       "      <th>25%</th>\n",
       "      <td>882.000000</td>\n",
       "      <td>0.000000</td>\n",
       "      <td>9.000000</td>\n",
       "      <td>1954.000000</td>\n",
       "      <td>5.000000</td>\n",
       "      <td>7553.500000</td>\n",
       "      <td>1.000000</td>\n",
       "      <td>1.000000</td>\n",
       "    </tr>\n",
       "    <tr>\n",
       "      <th>50%</th>\n",
       "      <td>1087.000000</td>\n",
       "      <td>0.000000</td>\n",
       "      <td>9.000000</td>\n",
       "      <td>1973.000000</td>\n",
       "      <td>6.000000</td>\n",
       "      <td>9478.500000</td>\n",
       "      <td>2.000000</td>\n",
       "      <td>2.000000</td>\n",
       "    </tr>\n",
       "    <tr>\n",
       "      <th>75%</th>\n",
       "      <td>1391.250000</td>\n",
       "      <td>728.000000</td>\n",
       "      <td>9.000000</td>\n",
       "      <td>2000.000000</td>\n",
       "      <td>7.000000</td>\n",
       "      <td>11601.500000</td>\n",
       "      <td>2.000000</td>\n",
       "      <td>2.000000</td>\n",
       "    </tr>\n",
       "    <tr>\n",
       "      <th>max</th>\n",
       "      <td>4692.000000</td>\n",
       "      <td>2065.000000</td>\n",
       "      <td>9.000000</td>\n",
       "      <td>2010.000000</td>\n",
       "      <td>10.000000</td>\n",
       "      <td>215245.000000</td>\n",
       "      <td>4.000000</td>\n",
       "      <td>6.000000</td>\n",
       "    </tr>\n",
       "  </tbody>\n",
       "</table>\n",
       "</div>"
      ],
      "text/plain": [
       "          1stFlrSF     2ndFlrSF  Condition1N    YearBuilt  OverallQual  \\\n",
       "count  1460.000000  1460.000000  1460.000000  1460.000000  1460.000000   \n",
       "mean   1162.626712   346.992466     8.667808  1971.267808     6.099315   \n",
       "std     386.587738   436.528436     1.042578    30.202904     1.382997   \n",
       "min     334.000000     0.000000     1.000000  1872.000000     1.000000   \n",
       "25%     882.000000     0.000000     9.000000  1954.000000     5.000000   \n",
       "50%    1087.000000     0.000000     9.000000  1973.000000     6.000000   \n",
       "75%    1391.250000   728.000000     9.000000  2000.000000     7.000000   \n",
       "max    4692.000000  2065.000000     9.000000  2010.000000    10.000000   \n",
       "\n",
       "             LotArea   GarageCars  TotalFullbath  \n",
       "count    1460.000000  1460.000000    1460.000000  \n",
       "mean    10516.828082     1.767123       1.990411  \n",
       "std      9981.264932     0.747315       0.732046  \n",
       "min      1300.000000     0.000000       0.000000  \n",
       "25%      7553.500000     1.000000       1.000000  \n",
       "50%      9478.500000     2.000000       2.000000  \n",
       "75%     11601.500000     2.000000       2.000000  \n",
       "max    215245.000000     4.000000       6.000000  "
      ]
     },
     "execution_count": 38,
     "metadata": {},
     "output_type": "execute_result"
    }
   ],
   "source": [
    "combined_features.describe()"
   ]
  },
  {
   "cell_type": "markdown",
   "metadata": {},
   "source": [
    "Let's remember the name of each column:\n",
    "**_Central_features_** (compoused by 5 columns):\n",
    "* 1stFlrSF: First Floor square feet\n",
    "* 2ndFlrSF: Second floor square feet\n",
    "\n",
    "* Condition1N: Proximity to main road or railroad (already ENCODED)\n",
    "* YearBuilt: Original construction date\n",
    "\n",
    "* OverallQual: Overall material and finish quality\n",
    "\n",
    "Then we have a more complete version:\n",
    "**_Combined_features_** (adding 3 additional columns):\n",
    "* LotArea: Lot size in square feet\n",
    "* GarageCars: Size of garage in car capacity\n",
    "* TotalFullbath: which is the sum of **_BsmtFullBath_** and **__FullBath__**"
   ]
  },
  {
   "cell_type": "markdown",
   "metadata": {},
   "source": [
    "### Column organizacion for _combined_features_:"
   ]
  },
  {
   "cell_type": "markdown",
   "metadata": {},
   "source": [
    "_1- Column distribution:_\n",
    "\n",
    "**TIME-data** is provided through **1** column (YearBuilt)\n",
    "\n",
    "**LOCATION-data** is provided through **1** column (Condition1N:  Proximity to main road or railroad)\n",
    "\n",
    "**SIZE-data** is provided in two groups:\n",
    "Area-data. Provided through **3** columns (1stFlrSF, 2ndFlrSF,LotArea)\n",
    "Size-indirect data. Provided through **2** columns (GarageCars,TotalFullbath)\n",
    "\n",
    "**Quality-data** is provided through **1** column (OverallQual)\n",
    "\n",
    "For a total of **8** columns and **1460** houses."
   ]
  },
  {
   "cell_type": "markdown",
   "metadata": {},
   "source": [
    "_2- Column ranges/organization:_\n",
    "\n",
    "**TIME-data** ranges from 1872 to 2010\n",
    "\n",
    "**LOCATION-data** offers 9 categories already encoded.\n",
    "\n",
    "**SIZE-data** :\n",
    "in Area-data, 1stFlrSF ranges from 334 to 4692, 2ndFlrSF ranges from 0 to 2065, and LotArea ranges from 1300 to 215245.\n",
    "in Size-indirect data, GarageCars ranges from 0 to 4,and TotalFullbath ranges from 0 to 6.\n",
    "\n",
    "**Quality-data** qualify the houses from 1 to 10."
   ]
  },
  {
   "cell_type": "markdown",
   "metadata": {},
   "source": [
    "![green-divider](https://user-images.githubusercontent.com/7065401/52071924-c003ad80-2562-11e9-8297-1c6595f8a7ff.png)\n",
    "\n",
    "### E- Analysis and visualization:\n",
    "Just for data analysis purposes and correlation, let's create the dataframe **corr_features**, by adding the column **SalePrice** to the **combined_features**: "
   ]
  },
  {
   "cell_type": "code",
   "execution_count": 39,
   "metadata": {},
   "outputs": [
    {
     "data": {
      "text/html": [
       "<div>\n",
       "<style scoped>\n",
       "    .dataframe tbody tr th:only-of-type {\n",
       "        vertical-align: middle;\n",
       "    }\n",
       "\n",
       "    .dataframe tbody tr th {\n",
       "        vertical-align: top;\n",
       "    }\n",
       "\n",
       "    .dataframe thead th {\n",
       "        text-align: right;\n",
       "    }\n",
       "</style>\n",
       "<table border=\"1\" class=\"dataframe\">\n",
       "  <thead>\n",
       "    <tr style=\"text-align: right;\">\n",
       "      <th></th>\n",
       "      <th>1stFlrSF</th>\n",
       "      <th>2ndFlrSF</th>\n",
       "      <th>Condition1N</th>\n",
       "      <th>YearBuilt</th>\n",
       "      <th>OverallQual</th>\n",
       "      <th>LotArea</th>\n",
       "      <th>GarageCars</th>\n",
       "      <th>TotalFullbath</th>\n",
       "      <th>SalePrice</th>\n",
       "    </tr>\n",
       "  </thead>\n",
       "  <tbody>\n",
       "    <tr>\n",
       "      <th>0</th>\n",
       "      <td>856</td>\n",
       "      <td>854</td>\n",
       "      <td>9</td>\n",
       "      <td>2003</td>\n",
       "      <td>7</td>\n",
       "      <td>8450</td>\n",
       "      <td>2</td>\n",
       "      <td>3</td>\n",
       "      <td>208500</td>\n",
       "    </tr>\n",
       "    <tr>\n",
       "      <th>1</th>\n",
       "      <td>1262</td>\n",
       "      <td>0</td>\n",
       "      <td>8</td>\n",
       "      <td>1976</td>\n",
       "      <td>6</td>\n",
       "      <td>9600</td>\n",
       "      <td>2</td>\n",
       "      <td>2</td>\n",
       "      <td>181500</td>\n",
       "    </tr>\n",
       "    <tr>\n",
       "      <th>2</th>\n",
       "      <td>920</td>\n",
       "      <td>866</td>\n",
       "      <td>9</td>\n",
       "      <td>2001</td>\n",
       "      <td>7</td>\n",
       "      <td>11250</td>\n",
       "      <td>2</td>\n",
       "      <td>3</td>\n",
       "      <td>223500</td>\n",
       "    </tr>\n",
       "    <tr>\n",
       "      <th>3</th>\n",
       "      <td>961</td>\n",
       "      <td>756</td>\n",
       "      <td>9</td>\n",
       "      <td>1915</td>\n",
       "      <td>7</td>\n",
       "      <td>9550</td>\n",
       "      <td>3</td>\n",
       "      <td>2</td>\n",
       "      <td>140000</td>\n",
       "    </tr>\n",
       "    <tr>\n",
       "      <th>4</th>\n",
       "      <td>1145</td>\n",
       "      <td>1053</td>\n",
       "      <td>9</td>\n",
       "      <td>2000</td>\n",
       "      <td>8</td>\n",
       "      <td>14260</td>\n",
       "      <td>3</td>\n",
       "      <td>3</td>\n",
       "      <td>250000</td>\n",
       "    </tr>\n",
       "    <tr>\n",
       "      <th>...</th>\n",
       "      <td>...</td>\n",
       "      <td>...</td>\n",
       "      <td>...</td>\n",
       "      <td>...</td>\n",
       "      <td>...</td>\n",
       "      <td>...</td>\n",
       "      <td>...</td>\n",
       "      <td>...</td>\n",
       "      <td>...</td>\n",
       "    </tr>\n",
       "    <tr>\n",
       "      <th>1455</th>\n",
       "      <td>953</td>\n",
       "      <td>694</td>\n",
       "      <td>9</td>\n",
       "      <td>1999</td>\n",
       "      <td>6</td>\n",
       "      <td>7917</td>\n",
       "      <td>2</td>\n",
       "      <td>2</td>\n",
       "      <td>175000</td>\n",
       "    </tr>\n",
       "    <tr>\n",
       "      <th>1456</th>\n",
       "      <td>2073</td>\n",
       "      <td>0</td>\n",
       "      <td>9</td>\n",
       "      <td>1978</td>\n",
       "      <td>6</td>\n",
       "      <td>13175</td>\n",
       "      <td>2</td>\n",
       "      <td>3</td>\n",
       "      <td>210000</td>\n",
       "    </tr>\n",
       "    <tr>\n",
       "      <th>1457</th>\n",
       "      <td>1188</td>\n",
       "      <td>1152</td>\n",
       "      <td>9</td>\n",
       "      <td>1941</td>\n",
       "      <td>7</td>\n",
       "      <td>9042</td>\n",
       "      <td>1</td>\n",
       "      <td>2</td>\n",
       "      <td>266500</td>\n",
       "    </tr>\n",
       "    <tr>\n",
       "      <th>1458</th>\n",
       "      <td>1078</td>\n",
       "      <td>0</td>\n",
       "      <td>9</td>\n",
       "      <td>1950</td>\n",
       "      <td>5</td>\n",
       "      <td>9717</td>\n",
       "      <td>1</td>\n",
       "      <td>2</td>\n",
       "      <td>142125</td>\n",
       "    </tr>\n",
       "    <tr>\n",
       "      <th>1459</th>\n",
       "      <td>1256</td>\n",
       "      <td>0</td>\n",
       "      <td>9</td>\n",
       "      <td>1965</td>\n",
       "      <td>5</td>\n",
       "      <td>9937</td>\n",
       "      <td>1</td>\n",
       "      <td>2</td>\n",
       "      <td>147500</td>\n",
       "    </tr>\n",
       "  </tbody>\n",
       "</table>\n",
       "<p>1460 rows × 9 columns</p>\n",
       "</div>"
      ],
      "text/plain": [
       "      1stFlrSF  2ndFlrSF  Condition1N  YearBuilt  OverallQual  LotArea  \\\n",
       "0          856       854            9       2003            7     8450   \n",
       "1         1262         0            8       1976            6     9600   \n",
       "2          920       866            9       2001            7    11250   \n",
       "3          961       756            9       1915            7     9550   \n",
       "4         1145      1053            9       2000            8    14260   \n",
       "...        ...       ...          ...        ...          ...      ...   \n",
       "1455       953       694            9       1999            6     7917   \n",
       "1456      2073         0            9       1978            6    13175   \n",
       "1457      1188      1152            9       1941            7     9042   \n",
       "1458      1078         0            9       1950            5     9717   \n",
       "1459      1256         0            9       1965            5     9937   \n",
       "\n",
       "      GarageCars  TotalFullbath  SalePrice  \n",
       "0              2              3     208500  \n",
       "1              2              2     181500  \n",
       "2              2              3     223500  \n",
       "3              3              2     140000  \n",
       "4              3              3     250000  \n",
       "...          ...            ...        ...  \n",
       "1455           2              2     175000  \n",
       "1456           2              3     210000  \n",
       "1457           1              2     266500  \n",
       "1458           1              2     142125  \n",
       "1459           1              2     147500  \n",
       "\n",
       "[1460 rows x 9 columns]"
      ]
     },
     "execution_count": 39,
     "metadata": {},
     "output_type": "execute_result"
    }
   ],
   "source": [
    "corr_features_names = ['1stFlrSF','2ndFlrSF','Condition1N','YearBuilt','OverallQual','LotArea','GarageCars', 'TotalFullbath', 'SalePrice']\n",
    "corr_features = home_dataF[corr_features_names]\n",
    "corr_features"
   ]
  },
  {
   "cell_type": "markdown",
   "metadata": {},
   "source": [
    "#### D.1. Numerical analysis and visualization"
   ]
  },
  {
   "cell_type": "markdown",
   "metadata": {},
   "source": [
    "##### D.1.1 Let's do a quick visualization of all the series:"
   ]
  },
  {
   "cell_type": "code",
   "execution_count": 40,
   "metadata": {
    "scrolled": true
   },
   "outputs": [
    {
     "data": {
      "text/html": [
       "<div>\n",
       "<style scoped>\n",
       "    .dataframe tbody tr th:only-of-type {\n",
       "        vertical-align: middle;\n",
       "    }\n",
       "\n",
       "    .dataframe tbody tr th {\n",
       "        vertical-align: top;\n",
       "    }\n",
       "\n",
       "    .dataframe thead th {\n",
       "        text-align: right;\n",
       "    }\n",
       "</style>\n",
       "<table border=\"1\" class=\"dataframe\">\n",
       "  <thead>\n",
       "    <tr style=\"text-align: right;\">\n",
       "      <th></th>\n",
       "      <th>1stFlrSF</th>\n",
       "      <th>2ndFlrSF</th>\n",
       "      <th>Condition1N</th>\n",
       "      <th>YearBuilt</th>\n",
       "      <th>OverallQual</th>\n",
       "      <th>LotArea</th>\n",
       "      <th>GarageCars</th>\n",
       "      <th>TotalFullbath</th>\n",
       "      <th>SalePrice</th>\n",
       "    </tr>\n",
       "  </thead>\n",
       "  <tbody>\n",
       "    <tr>\n",
       "      <th>count</th>\n",
       "      <td>1460.000000</td>\n",
       "      <td>1460.000000</td>\n",
       "      <td>1460.000000</td>\n",
       "      <td>1460.000000</td>\n",
       "      <td>1460.000000</td>\n",
       "      <td>1460.000000</td>\n",
       "      <td>1460.000000</td>\n",
       "      <td>1460.000000</td>\n",
       "      <td>1460.000000</td>\n",
       "    </tr>\n",
       "    <tr>\n",
       "      <th>mean</th>\n",
       "      <td>1162.626712</td>\n",
       "      <td>346.992466</td>\n",
       "      <td>8.667808</td>\n",
       "      <td>1971.267808</td>\n",
       "      <td>6.099315</td>\n",
       "      <td>10516.828082</td>\n",
       "      <td>1.767123</td>\n",
       "      <td>1.990411</td>\n",
       "      <td>180921.195890</td>\n",
       "    </tr>\n",
       "    <tr>\n",
       "      <th>std</th>\n",
       "      <td>386.587738</td>\n",
       "      <td>436.528436</td>\n",
       "      <td>1.042578</td>\n",
       "      <td>30.202904</td>\n",
       "      <td>1.382997</td>\n",
       "      <td>9981.264932</td>\n",
       "      <td>0.747315</td>\n",
       "      <td>0.732046</td>\n",
       "      <td>79442.502883</td>\n",
       "    </tr>\n",
       "    <tr>\n",
       "      <th>min</th>\n",
       "      <td>334.000000</td>\n",
       "      <td>0.000000</td>\n",
       "      <td>1.000000</td>\n",
       "      <td>1872.000000</td>\n",
       "      <td>1.000000</td>\n",
       "      <td>1300.000000</td>\n",
       "      <td>0.000000</td>\n",
       "      <td>0.000000</td>\n",
       "      <td>34900.000000</td>\n",
       "    </tr>\n",
       "    <tr>\n",
       "      <th>25%</th>\n",
       "      <td>882.000000</td>\n",
       "      <td>0.000000</td>\n",
       "      <td>9.000000</td>\n",
       "      <td>1954.000000</td>\n",
       "      <td>5.000000</td>\n",
       "      <td>7553.500000</td>\n",
       "      <td>1.000000</td>\n",
       "      <td>1.000000</td>\n",
       "      <td>129975.000000</td>\n",
       "    </tr>\n",
       "    <tr>\n",
       "      <th>50%</th>\n",
       "      <td>1087.000000</td>\n",
       "      <td>0.000000</td>\n",
       "      <td>9.000000</td>\n",
       "      <td>1973.000000</td>\n",
       "      <td>6.000000</td>\n",
       "      <td>9478.500000</td>\n",
       "      <td>2.000000</td>\n",
       "      <td>2.000000</td>\n",
       "      <td>163000.000000</td>\n",
       "    </tr>\n",
       "    <tr>\n",
       "      <th>75%</th>\n",
       "      <td>1391.250000</td>\n",
       "      <td>728.000000</td>\n",
       "      <td>9.000000</td>\n",
       "      <td>2000.000000</td>\n",
       "      <td>7.000000</td>\n",
       "      <td>11601.500000</td>\n",
       "      <td>2.000000</td>\n",
       "      <td>2.000000</td>\n",
       "      <td>214000.000000</td>\n",
       "    </tr>\n",
       "    <tr>\n",
       "      <th>max</th>\n",
       "      <td>4692.000000</td>\n",
       "      <td>2065.000000</td>\n",
       "      <td>9.000000</td>\n",
       "      <td>2010.000000</td>\n",
       "      <td>10.000000</td>\n",
       "      <td>215245.000000</td>\n",
       "      <td>4.000000</td>\n",
       "      <td>6.000000</td>\n",
       "      <td>755000.000000</td>\n",
       "    </tr>\n",
       "  </tbody>\n",
       "</table>\n",
       "</div>"
      ],
      "text/plain": [
       "          1stFlrSF     2ndFlrSF  Condition1N    YearBuilt  OverallQual  \\\n",
       "count  1460.000000  1460.000000  1460.000000  1460.000000  1460.000000   \n",
       "mean   1162.626712   346.992466     8.667808  1971.267808     6.099315   \n",
       "std     386.587738   436.528436     1.042578    30.202904     1.382997   \n",
       "min     334.000000     0.000000     1.000000  1872.000000     1.000000   \n",
       "25%     882.000000     0.000000     9.000000  1954.000000     5.000000   \n",
       "50%    1087.000000     0.000000     9.000000  1973.000000     6.000000   \n",
       "75%    1391.250000   728.000000     9.000000  2000.000000     7.000000   \n",
       "max    4692.000000  2065.000000     9.000000  2010.000000    10.000000   \n",
       "\n",
       "             LotArea   GarageCars  TotalFullbath      SalePrice  \n",
       "count    1460.000000  1460.000000    1460.000000    1460.000000  \n",
       "mean    10516.828082     1.767123       1.990411  180921.195890  \n",
       "std      9981.264932     0.747315       0.732046   79442.502883  \n",
       "min      1300.000000     0.000000       0.000000   34900.000000  \n",
       "25%      7553.500000     1.000000       1.000000  129975.000000  \n",
       "50%      9478.500000     2.000000       2.000000  163000.000000  \n",
       "75%     11601.500000     2.000000       2.000000  214000.000000  \n",
       "max    215245.000000     4.000000       6.000000  755000.000000  "
      ]
     },
     "execution_count": 40,
     "metadata": {},
     "output_type": "execute_result"
    }
   ],
   "source": [
    "corr_features.describe()"
   ]
  },
  {
   "cell_type": "code",
   "execution_count": 41,
   "metadata": {},
   "outputs": [
    {
     "data": {
      "text/plain": [
       "1stFlrSF            AxesSubplot(0.125,0.657941;0.227941x0.222059)\n",
       "2ndFlrSF         AxesSubplot(0.398529,0.657941;0.227941x0.222059)\n",
       "Condition1N      AxesSubplot(0.672059,0.657941;0.227941x0.222059)\n",
       "YearBuilt           AxesSubplot(0.125,0.391471;0.227941x0.222059)\n",
       "OverallQual      AxesSubplot(0.398529,0.391471;0.227941x0.222059)\n",
       "LotArea          AxesSubplot(0.672059,0.391471;0.227941x0.222059)\n",
       "GarageCars             AxesSubplot(0.125,0.125;0.227941x0.222059)\n",
       "TotalFullbath       AxesSubplot(0.398529,0.125;0.227941x0.222059)\n",
       "SalePrice           AxesSubplot(0.672059,0.125;0.227941x0.222059)\n",
       "dtype: object"
      ]
     },
     "execution_count": 41,
     "metadata": {},
     "output_type": "execute_result"
    },
    {
     "data": {
      "image/png": "[encoded data removed]",
      "text/plain": [
       "<Figure size 1152x1440 with 9 Axes>"
      ]
     },
     "metadata": {
      "needs_background": "light"
     },
     "output_type": "display_data"
    }
   ],
   "source": [
    "corr_features.plot(kind='box', subplots=True, layout=(3,3), figsize=(16,20))"
   ]
  },
  {
   "cell_type": "markdown",
   "metadata": {},
   "source": [
    "* 50% of  1stFlrSF(First Floor square feet) are between 882 and 1391 ft2, the value 4692 ft2 is completele out of normal.\n",
    "\n",
    "* 50% of 2ndFlrSF are betweeen 0 and 728ft2\n",
    "\n",
    "* Most of values of Condition1N correspond to category 1.\n",
    "\n",
    "* 50% of the house weere build between 1954 and 2000, there are some exteme cases where the houses were build around 1880.\n",
    "\n",
    "* 50% of the OverallQual of the house is between 5 and 7, out of 10.\n",
    "\n",
    "* 50% of The LotArea is between 7553 and 11601, having extreme values as 215245.\n",
    "* 50% of GarageCars and TotalFullbath is between 1 and 2 vehicles.\n",
    "* and 50% of SalePrice is between 129975 and 214000."
   ]
  },
  {
   "cell_type": "code",
   "execution_count": 42,
   "metadata": {},
   "outputs": [
    {
     "data": {
      "text/html": [
       "<div>\n",
       "<style scoped>\n",
       "    .dataframe tbody tr th:only-of-type {\n",
       "        vertical-align: middle;\n",
       "    }\n",
       "\n",
       "    .dataframe tbody tr th {\n",
       "        vertical-align: top;\n",
       "    }\n",
       "\n",
       "    .dataframe thead th {\n",
       "        text-align: right;\n",
       "    }\n",
       "</style>\n",
       "<table border=\"1\" class=\"dataframe\">\n",
       "  <thead>\n",
       "    <tr style=\"text-align: right;\">\n",
       "      <th></th>\n",
       "      <th>1stFlrSF</th>\n",
       "      <th>2ndFlrSF</th>\n",
       "      <th>Condition1N</th>\n",
       "      <th>YearBuilt</th>\n",
       "      <th>OverallQual</th>\n",
       "      <th>LotArea</th>\n",
       "      <th>GarageCars</th>\n",
       "      <th>TotalFullbath</th>\n",
       "      <th>SalePrice</th>\n",
       "    </tr>\n",
       "  </thead>\n",
       "  <tbody>\n",
       "    <tr>\n",
       "      <th>count</th>\n",
       "      <td>1460.000000</td>\n",
       "      <td>1460.000000</td>\n",
       "      <td>1460.000000</td>\n",
       "      <td>1460.000000</td>\n",
       "      <td>1460.000000</td>\n",
       "      <td>1460.000000</td>\n",
       "      <td>1460.000000</td>\n",
       "      <td>1460.000000</td>\n",
       "      <td>1460.000000</td>\n",
       "    </tr>\n",
       "    <tr>\n",
       "      <th>mean</th>\n",
       "      <td>1162.626712</td>\n",
       "      <td>346.992466</td>\n",
       "      <td>8.667808</td>\n",
       "      <td>1971.267808</td>\n",
       "      <td>6.099315</td>\n",
       "      <td>10516.828082</td>\n",
       "      <td>1.767123</td>\n",
       "      <td>1.990411</td>\n",
       "      <td>180921.195890</td>\n",
       "    </tr>\n",
       "    <tr>\n",
       "      <th>std</th>\n",
       "      <td>386.587738</td>\n",
       "      <td>436.528436</td>\n",
       "      <td>1.042578</td>\n",
       "      <td>30.202904</td>\n",
       "      <td>1.382997</td>\n",
       "      <td>9981.264932</td>\n",
       "      <td>0.747315</td>\n",
       "      <td>0.732046</td>\n",
       "      <td>79442.502883</td>\n",
       "    </tr>\n",
       "    <tr>\n",
       "      <th>min</th>\n",
       "      <td>334.000000</td>\n",
       "      <td>0.000000</td>\n",
       "      <td>1.000000</td>\n",
       "      <td>1872.000000</td>\n",
       "      <td>1.000000</td>\n",
       "      <td>1300.000000</td>\n",
       "      <td>0.000000</td>\n",
       "      <td>0.000000</td>\n",
       "      <td>34900.000000</td>\n",
       "    </tr>\n",
       "    <tr>\n",
       "      <th>25%</th>\n",
       "      <td>882.000000</td>\n",
       "      <td>0.000000</td>\n",
       "      <td>9.000000</td>\n",
       "      <td>1954.000000</td>\n",
       "      <td>5.000000</td>\n",
       "      <td>7553.500000</td>\n",
       "      <td>1.000000</td>\n",
       "      <td>1.000000</td>\n",
       "      <td>129975.000000</td>\n",
       "    </tr>\n",
       "    <tr>\n",
       "      <th>50%</th>\n",
       "      <td>1087.000000</td>\n",
       "      <td>0.000000</td>\n",
       "      <td>9.000000</td>\n",
       "      <td>1973.000000</td>\n",
       "      <td>6.000000</td>\n",
       "      <td>9478.500000</td>\n",
       "      <td>2.000000</td>\n",
       "      <td>2.000000</td>\n",
       "      <td>163000.000000</td>\n",
       "    </tr>\n",
       "    <tr>\n",
       "      <th>75%</th>\n",
       "      <td>1391.250000</td>\n",
       "      <td>728.000000</td>\n",
       "      <td>9.000000</td>\n",
       "      <td>2000.000000</td>\n",
       "      <td>7.000000</td>\n",
       "      <td>11601.500000</td>\n",
       "      <td>2.000000</td>\n",
       "      <td>2.000000</td>\n",
       "      <td>214000.000000</td>\n",
       "    </tr>\n",
       "    <tr>\n",
       "      <th>max</th>\n",
       "      <td>4692.000000</td>\n",
       "      <td>2065.000000</td>\n",
       "      <td>9.000000</td>\n",
       "      <td>2010.000000</td>\n",
       "      <td>10.000000</td>\n",
       "      <td>215245.000000</td>\n",
       "      <td>4.000000</td>\n",
       "      <td>6.000000</td>\n",
       "      <td>755000.000000</td>\n",
       "    </tr>\n",
       "  </tbody>\n",
       "</table>\n",
       "</div>"
      ],
      "text/plain": [
       "          1stFlrSF     2ndFlrSF  Condition1N    YearBuilt  OverallQual  \\\n",
       "count  1460.000000  1460.000000  1460.000000  1460.000000  1460.000000   \n",
       "mean   1162.626712   346.992466     8.667808  1971.267808     6.099315   \n",
       "std     386.587738   436.528436     1.042578    30.202904     1.382997   \n",
       "min     334.000000     0.000000     1.000000  1872.000000     1.000000   \n",
       "25%     882.000000     0.000000     9.000000  1954.000000     5.000000   \n",
       "50%    1087.000000     0.000000     9.000000  1973.000000     6.000000   \n",
       "75%    1391.250000   728.000000     9.000000  2000.000000     7.000000   \n",
       "max    4692.000000  2065.000000     9.000000  2010.000000    10.000000   \n",
       "\n",
       "             LotArea   GarageCars  TotalFullbath      SalePrice  \n",
       "count    1460.000000  1460.000000    1460.000000    1460.000000  \n",
       "mean    10516.828082     1.767123       1.990411  180921.195890  \n",
       "std      9981.264932     0.747315       0.732046   79442.502883  \n",
       "min      1300.000000     0.000000       0.000000   34900.000000  \n",
       "25%      7553.500000     1.000000       1.000000  129975.000000  \n",
       "50%      9478.500000     2.000000       2.000000  163000.000000  \n",
       "75%     11601.500000     2.000000       2.000000  214000.000000  \n",
       "max    215245.000000     4.000000       6.000000  755000.000000  "
      ]
     },
     "execution_count": 42,
     "metadata": {},
     "output_type": "execute_result"
    }
   ],
   "source": [
    "corr_features.describe()"
   ]
  },
  {
   "cell_type": "markdown",
   "metadata": {},
   "source": [
    "##### D.1.2 Let's pick two of the series to make a deeper analysis"
   ]
  },
  {
   "cell_type": "markdown",
   "metadata": {},
   "source": [
    "We'll analyze the _'LotArea'_ column:"
   ]
  },
  {
   "cell_type": "code",
   "execution_count": 43,
   "metadata": {},
   "outputs": [
    {
     "data": {
      "text/plain": [
       "count      1460.000000\n",
       "mean      10516.828082\n",
       "std        9981.264932\n",
       "min        1300.000000\n",
       "25%        7553.500000\n",
       "50%        9478.500000\n",
       "75%       11601.500000\n",
       "max      215245.000000\n",
       "Name: LotArea, dtype: float64"
      ]
     },
     "execution_count": 43,
     "metadata": {},
     "output_type": "execute_result"
    }
   ],
   "source": [
    "corr_features['LotArea'].describe()"
   ]
  },
  {
   "cell_type": "code",
   "execution_count": 44,
   "metadata": {},
   "outputs": [
    {
     "data": {
      "text/plain": [
       "10516.828082191782"
      ]
     },
     "execution_count": 44,
     "metadata": {},
     "output_type": "execute_result"
    }
   ],
   "source": [
    "corr_features['LotArea'].mean()"
   ]
  },
  {
   "cell_type": "code",
   "execution_count": 45,
   "metadata": {},
   "outputs": [
    {
     "data": {
      "text/plain": [
       "9478.5"
      ]
     },
     "execution_count": 45,
     "metadata": {},
     "output_type": "execute_result"
    }
   ],
   "source": [
    "corr_features['LotArea'].median()"
   ]
  },
  {
   "cell_type": "markdown",
   "metadata": {},
   "source": [
    "_**BOX Diagram**_"
   ]
  },
  {
   "cell_type": "code",
   "execution_count": 46,
   "metadata": {},
   "outputs": [
    {
     "data": {
      "text/plain": [
       "<AxesSubplot:>"
      ]
     },
     "execution_count": 46,
     "metadata": {},
     "output_type": "execute_result"
    },
    {
     "data": {
      "image/png": "[encoded data removed]",
      "text/plain": [
       "<Figure size 1008x432 with 1 Axes>"
      ]
     },
     "metadata": {
      "needs_background": "light"
     },
     "output_type": "display_data"
    }
   ],
   "source": [
    "corr_features['LotArea'].plot(kind='box', vert=False, figsize=(14,6))"
   ]
  },
  {
   "cell_type": "markdown",
   "metadata": {},
   "source": [
    "_**(DENSITY + mean + median) diagram:**_"
   ]
  },
  {
   "cell_type": "code",
   "execution_count": 47,
   "metadata": {},
   "outputs": [
    {
     "data": {
      "text/plain": [
       "<matplotlib.lines.Line2D at 0x22a026b42b0>"
      ]
     },
     "execution_count": 47,
     "metadata": {},
     "output_type": "execute_result"
    },
    {
     "data": {
      "image/png": "[encoded data removed]",
      "text/plain": [
       "<Figure size 1008x432 with 1 Axes>"
      ]
     },
     "metadata": {
      "needs_background": "light"
     },
     "output_type": "display_data"
    }
   ],
   "source": [
    "ax = corr_features['LotArea'].plot(kind='density', figsize=(14,6))\n",
    "ax.axvline(corr_features['LotArea'].mean(), color='red')\n",
    "ax.axvline(corr_features['LotArea'].median(), color='green')"
   ]
  },
  {
   "cell_type": "markdown",
   "metadata": {},
   "source": [
    "_**HISTOGRAM diagram:**_"
   ]
  },
  {
   "cell_type": "code",
   "execution_count": 48,
   "metadata": {
    "scrolled": false
   },
   "outputs": [
    {
     "data": {
      "text/plain": [
       "Text(0.5, 0, 'Area (ft2)')"
      ]
     },
     "execution_count": 48,
     "metadata": {},
     "output_type": "execute_result"
    },
    {
     "data": {
      "image/png": "[encoded data removed]",
      "text/plain": [
       "<Figure size 1008x432 with 1 Axes>"
      ]
     },
     "metadata": {
      "needs_background": "light"
     },
     "output_type": "display_data"
    }
   ],
   "source": [
    "ax = corr_features['LotArea'].plot(kind='hist', figsize=(14,6))\n",
    "ax.set_ylabel('number of Houses')\n",
    "ax.set_xlabel('Area (ft2)')"
   ]
  },
  {
   "cell_type": "markdown",
   "metadata": {},
   "source": [
    "Let's analyze the _'SalePrice'_ column:"
   ]
  },
  {
   "cell_type": "code",
   "execution_count": 49,
   "metadata": {},
   "outputs": [
    {
     "data": {
      "text/plain": [
       "count      1460.000000\n",
       "mean     180921.195890\n",
       "std       79442.502883\n",
       "min       34900.000000\n",
       "25%      129975.000000\n",
       "50%      163000.000000\n",
       "75%      214000.000000\n",
       "max      755000.000000\n",
       "Name: SalePrice, dtype: float64"
      ]
     },
     "execution_count": 49,
     "metadata": {},
     "output_type": "execute_result"
    }
   ],
   "source": [
    "corr_features['SalePrice'].describe()"
   ]
  },
  {
   "cell_type": "code",
   "execution_count": 50,
   "metadata": {},
   "outputs": [
    {
     "data": {
      "text/plain": [
       "180921.19589041095"
      ]
     },
     "execution_count": 50,
     "metadata": {},
     "output_type": "execute_result"
    }
   ],
   "source": [
    "corr_features['SalePrice'].mean()"
   ]
  },
  {
   "cell_type": "code",
   "execution_count": 51,
   "metadata": {},
   "outputs": [
    {
     "data": {
      "text/plain": [
       "163000.0"
      ]
     },
     "execution_count": 51,
     "metadata": {},
     "output_type": "execute_result"
    }
   ],
   "source": [
    "corr_features['SalePrice'].median()"
   ]
  },
  {
   "cell_type": "markdown",
   "metadata": {},
   "source": [
    "_**BOX Diagram**_"
   ]
  },
  {
   "cell_type": "code",
   "execution_count": 52,
   "metadata": {},
   "outputs": [
    {
     "data": {
      "text/plain": [
       "<AxesSubplot:>"
      ]
     },
     "execution_count": 52,
     "metadata": {},
     "output_type": "execute_result"
    },
    {
     "data": {
      "image/png": "[encoded data removed]",
      "text/plain": [
       "<Figure size 1008x432 with 1 Axes>"
      ]
     },
     "metadata": {
      "needs_background": "light"
     },
     "output_type": "display_data"
    }
   ],
   "source": [
    "corr_features['SalePrice'].plot(kind='box', vert=False, figsize=(14,6))"
   ]
  },
  {
   "cell_type": "markdown",
   "metadata": {},
   "source": [
    "_**(DENSITY + mean + median) diagram:**_"
   ]
  },
  {
   "cell_type": "code",
   "execution_count": 53,
   "metadata": {},
   "outputs": [
    {
     "data": {
      "text/plain": [
       "<matplotlib.lines.Line2D at 0x22a02c6bf40>"
      ]
     },
     "execution_count": 53,
     "metadata": {},
     "output_type": "execute_result"
    },
    {
     "data": {
      "image/png": "[encoded data removed]",
      "text/plain": [
       "<Figure size 1008x432 with 1 Axes>"
      ]
     },
     "metadata": {
      "needs_background": "light"
     },
     "output_type": "display_data"
    }
   ],
   "source": [
    "ax = corr_features['SalePrice'].plot(kind='density', figsize=(14,6))\n",
    "ax.axvline(corr_features['SalePrice'].mean(), color='red')\n",
    "ax.axvline(corr_features['SalePrice'].median(), color='green')"
   ]
  },
  {
   "cell_type": "markdown",
   "metadata": {},
   "source": [
    "_**HISTOGRAM diagram:**_"
   ]
  },
  {
   "cell_type": "code",
   "execution_count": 54,
   "metadata": {
    "scrolled": false
   },
   "outputs": [
    {
     "data": {
      "text/plain": [
       "Text(0.5, 0, 'Sale Price (dollars)')"
      ]
     },
     "execution_count": 54,
     "metadata": {},
     "output_type": "execute_result"
    },
    {
     "data": {
      "image/png": "[encoded data removed]",
      "text/plain": [
       "<Figure size 1008x432 with 1 Axes>"
      ]
     },
     "metadata": {
      "needs_background": "light"
     },
     "output_type": "display_data"
    }
   ],
   "source": [
    "ax = corr_features['SalePrice'].plot(kind='hist', figsize=(14,6))\n",
    "ax.set_ylabel('number of Houses')\n",
    "ax.set_xlabel('Sale Price (dollars)')"
   ]
  },
  {
   "cell_type": "markdown",
   "metadata": {},
   "source": [
    "CONCLUSION:\n",
    "* In both cases, though we see extreme cases, those extreme cases represent a very little percentage of the info."
   ]
  },
  {
   "cell_type": "markdown",
   "metadata": {},
   "source": [
    "![green-divider](https://user-images.githubusercontent.com/7065401/52071924-c003ad80-2562-11e9-8297-1c6595f8a7ff.png)\n",
    "\n",
    "### F- Relationship between the columns:\n",
    "\n",
    "Can we find any significant relationship?"
   ]
  },
  {
   "cell_type": "code",
   "execution_count": 55,
   "metadata": {},
   "outputs": [
    {
     "data": {
      "text/html": [
       "<div>\n",
       "<style scoped>\n",
       "    .dataframe tbody tr th:only-of-type {\n",
       "        vertical-align: middle;\n",
       "    }\n",
       "\n",
       "    .dataframe tbody tr th {\n",
       "        vertical-align: top;\n",
       "    }\n",
       "\n",
       "    .dataframe thead th {\n",
       "        text-align: right;\n",
       "    }\n",
       "</style>\n",
       "<table border=\"1\" class=\"dataframe\">\n",
       "  <thead>\n",
       "    <tr style=\"text-align: right;\">\n",
       "      <th></th>\n",
       "      <th>1stFlrSF</th>\n",
       "      <th>2ndFlrSF</th>\n",
       "      <th>Condition1N</th>\n",
       "      <th>YearBuilt</th>\n",
       "      <th>OverallQual</th>\n",
       "      <th>LotArea</th>\n",
       "      <th>GarageCars</th>\n",
       "      <th>TotalFullbath</th>\n",
       "      <th>SalePrice</th>\n",
       "    </tr>\n",
       "  </thead>\n",
       "  <tbody>\n",
       "    <tr>\n",
       "      <th>1stFlrSF</th>\n",
       "      <td>1.000000</td>\n",
       "      <td>-0.202646</td>\n",
       "      <td>-0.053186</td>\n",
       "      <td>0.281986</td>\n",
       "      <td>0.476224</td>\n",
       "      <td>0.299475</td>\n",
       "      <td>0.439317</td>\n",
       "      <td>0.459891</td>\n",
       "      <td>0.605852</td>\n",
       "    </tr>\n",
       "    <tr>\n",
       "      <th>2ndFlrSF</th>\n",
       "      <td>-0.202646</td>\n",
       "      <td>1.000000</td>\n",
       "      <td>-0.053139</td>\n",
       "      <td>0.010308</td>\n",
       "      <td>0.295493</td>\n",
       "      <td>0.050986</td>\n",
       "      <td>0.183926</td>\n",
       "      <td>0.196971</td>\n",
       "      <td>0.319334</td>\n",
       "    </tr>\n",
       "    <tr>\n",
       "      <th>Condition1N</th>\n",
       "      <td>-0.053186</td>\n",
       "      <td>-0.053139</td>\n",
       "      <td>1.000000</td>\n",
       "      <td>0.083363</td>\n",
       "      <td>0.010538</td>\n",
       "      <td>-0.035510</td>\n",
       "      <td>-0.013147</td>\n",
       "      <td>-0.021239</td>\n",
       "      <td>0.029464</td>\n",
       "    </tr>\n",
       "    <tr>\n",
       "      <th>YearBuilt</th>\n",
       "      <td>0.281986</td>\n",
       "      <td>0.010308</td>\n",
       "      <td>0.083363</td>\n",
       "      <td>1.000000</td>\n",
       "      <td>0.572323</td>\n",
       "      <td>0.014228</td>\n",
       "      <td>0.537850</td>\n",
       "      <td>0.485386</td>\n",
       "      <td>0.522897</td>\n",
       "    </tr>\n",
       "    <tr>\n",
       "      <th>OverallQual</th>\n",
       "      <td>0.476224</td>\n",
       "      <td>0.295493</td>\n",
       "      <td>0.010538</td>\n",
       "      <td>0.572323</td>\n",
       "      <td>1.000000</td>\n",
       "      <td>0.105806</td>\n",
       "      <td>0.600671</td>\n",
       "      <td>0.493116</td>\n",
       "      <td>0.790982</td>\n",
       "    </tr>\n",
       "    <tr>\n",
       "      <th>LotArea</th>\n",
       "      <td>0.299475</td>\n",
       "      <td>0.050986</td>\n",
       "      <td>-0.035510</td>\n",
       "      <td>0.014228</td>\n",
       "      <td>0.105806</td>\n",
       "      <td>1.000000</td>\n",
       "      <td>0.154871</td>\n",
       "      <td>0.206955</td>\n",
       "      <td>0.263843</td>\n",
       "    </tr>\n",
       "    <tr>\n",
       "      <th>GarageCars</th>\n",
       "      <td>0.439317</td>\n",
       "      <td>0.183926</td>\n",
       "      <td>-0.013147</td>\n",
       "      <td>0.537850</td>\n",
       "      <td>0.600671</td>\n",
       "      <td>0.154871</td>\n",
       "      <td>1.000000</td>\n",
       "      <td>0.446945</td>\n",
       "      <td>0.640409</td>\n",
       "    </tr>\n",
       "    <tr>\n",
       "      <th>TotalFullbath</th>\n",
       "      <td>0.459891</td>\n",
       "      <td>0.196971</td>\n",
       "      <td>-0.021239</td>\n",
       "      <td>0.485386</td>\n",
       "      <td>0.493116</td>\n",
       "      <td>0.206955</td>\n",
       "      <td>0.446945</td>\n",
       "      <td>1.000000</td>\n",
       "      <td>0.582934</td>\n",
       "    </tr>\n",
       "    <tr>\n",
       "      <th>SalePrice</th>\n",
       "      <td>0.605852</td>\n",
       "      <td>0.319334</td>\n",
       "      <td>0.029464</td>\n",
       "      <td>0.522897</td>\n",
       "      <td>0.790982</td>\n",
       "      <td>0.263843</td>\n",
       "      <td>0.640409</td>\n",
       "      <td>0.582934</td>\n",
       "      <td>1.000000</td>\n",
       "    </tr>\n",
       "  </tbody>\n",
       "</table>\n",
       "</div>"
      ],
      "text/plain": [
       "               1stFlrSF  2ndFlrSF  Condition1N  YearBuilt  OverallQual  \\\n",
       "1stFlrSF       1.000000 -0.202646    -0.053186   0.281986     0.476224   \n",
       "2ndFlrSF      -0.202646  1.000000    -0.053139   0.010308     0.295493   \n",
       "Condition1N   -0.053186 -0.053139     1.000000   0.083363     0.010538   \n",
       "YearBuilt      0.281986  0.010308     0.083363   1.000000     0.572323   \n",
       "OverallQual    0.476224  0.295493     0.010538   0.572323     1.000000   \n",
       "LotArea        0.299475  0.050986    -0.035510   0.014228     0.105806   \n",
       "GarageCars     0.439317  0.183926    -0.013147   0.537850     0.600671   \n",
       "TotalFullbath  0.459891  0.196971    -0.021239   0.485386     0.493116   \n",
       "SalePrice      0.605852  0.319334     0.029464   0.522897     0.790982   \n",
       "\n",
       "                LotArea  GarageCars  TotalFullbath  SalePrice  \n",
       "1stFlrSF       0.299475    0.439317       0.459891   0.605852  \n",
       "2ndFlrSF       0.050986    0.183926       0.196971   0.319334  \n",
       "Condition1N   -0.035510   -0.013147      -0.021239   0.029464  \n",
       "YearBuilt      0.014228    0.537850       0.485386   0.522897  \n",
       "OverallQual    0.105806    0.600671       0.493116   0.790982  \n",
       "LotArea        1.000000    0.154871       0.206955   0.263843  \n",
       "GarageCars     0.154871    1.000000       0.446945   0.640409  \n",
       "TotalFullbath  0.206955    0.446945       1.000000   0.582934  \n",
       "SalePrice      0.263843    0.640409       0.582934   1.000000  "
      ]
     },
     "execution_count": 55,
     "metadata": {},
     "output_type": "execute_result"
    }
   ],
   "source": [
    "corr = corr_features.corr(method='pearson')\n",
    "corr"
   ]
  },
  {
   "cell_type": "markdown",
   "metadata": {},
   "source": [
    "_**CORRELATION MAP:**_"
   ]
  },
  {
   "cell_type": "code",
   "execution_count": 56,
   "metadata": {
    "scrolled": false
   },
   "outputs": [
    {
     "data": {
      "text/plain": [
       "<AxesSubplot:>"
      ]
     },
     "execution_count": 56,
     "metadata": {},
     "output_type": "execute_result"
    },
    {
     "data": {
      "image/png": "[encoded data removed]",
      "text/plain": [
       "<Figure size 864x864 with 2 Axes>"
      ]
     },
     "metadata": {
      "needs_background": "light"
     },
     "output_type": "display_data"
    }
   ],
   "source": [
    "mask = np.triu(corr)\n",
    "# Set up the matplotlib figure\n",
    "fig, ax = plt.subplots(figsize=(12,12))\n",
    "\n",
    "# Draw the heatmap with 'sns.heatmap()'\n",
    "sns.heatmap(corr, linewidths=1, annot = True, square = True, mask=mask, fmt='0.1f', center=0.08, cbar_kws={'shrink':0.5})"
   ]
  },
  {
   "cell_type": "markdown",
   "metadata": {},
   "source": [
    "_**SCATTER PLOT (SalePrice Vs 1stFlrSF)**_"
   ]
  },
  {
   "cell_type": "code",
   "execution_count": 57,
   "metadata": {
    "scrolled": false
   },
   "outputs": [
    {
     "data": {
      "text/plain": [
       "<AxesSubplot:xlabel='1stFlrSF', ylabel='SalePrice'>"
      ]
     },
     "execution_count": 57,
     "metadata": {},
     "output_type": "execute_result"
    },
    {
     "data": {
      "image/png": "[encoded data removed]",
      "text/plain": [
       "<Figure size 432x432 with 1 Axes>"
      ]
     },
     "metadata": {
      "needs_background": "light"
     },
     "output_type": "display_data"
    }
   ],
   "source": [
    "corr_features.plot(kind='scatter', x='1stFlrSF', y='SalePrice', figsize=(6,6))"
   ]
  },
  {
   "cell_type": "markdown",
   "metadata": {},
   "source": [
    "_**SCATTER PLOT (SalePrice Vs 2ndFlrSF)**_"
   ]
  },
  {
   "cell_type": "code",
   "execution_count": 58,
   "metadata": {},
   "outputs": [
    {
     "data": {
      "text/plain": [
       "<AxesSubplot:xlabel='2ndFlrSF', ylabel='SalePrice'>"
      ]
     },
     "execution_count": 58,
     "metadata": {},
     "output_type": "execute_result"
    },
    {
     "data": {
      "image/png": "[encoded data removed]",
      "text/plain": [
       "<Figure size 432x432 with 1 Axes>"
      ]
     },
     "metadata": {
      "needs_background": "light"
     },
     "output_type": "display_data"
    }
   ],
   "source": [
    "corr_features.plot(kind='scatter', x='2ndFlrSF', y='SalePrice', figsize=(6,6))"
   ]
  },
  {
   "cell_type": "markdown",
   "metadata": {},
   "source": [
    "_**SCATTER PLOT (SalePrice Vs Condition1N)**_"
   ]
  },
  {
   "cell_type": "code",
   "execution_count": 59,
   "metadata": {},
   "outputs": [
    {
     "data": {
      "text/plain": [
       "<AxesSubplot:xlabel='Condition1N', ylabel='SalePrice'>"
      ]
     },
     "execution_count": 59,
     "metadata": {},
     "output_type": "execute_result"
    },
    {
     "data": {
      "image/png": "[encoded data removed]",
      "text/plain": [
       "<Figure size 432x432 with 1 Axes>"
      ]
     },
     "metadata": {
      "needs_background": "light"
     },
     "output_type": "display_data"
    }
   ],
   "source": [
    "corr_features.plot(kind='scatter', x='Condition1N', y='SalePrice', figsize=(6,6))"
   ]
  },
  {
   "cell_type": "markdown",
   "metadata": {},
   "source": [
    "_**SCATTER PLOT (SalePrice Vs YearBuilt)**_"
   ]
  },
  {
   "cell_type": "code",
   "execution_count": 60,
   "metadata": {},
   "outputs": [
    {
     "data": {
      "text/plain": [
       "<AxesSubplot:xlabel='YearBuilt', ylabel='SalePrice'>"
      ]
     },
     "execution_count": 60,
     "metadata": {},
     "output_type": "execute_result"
    },
    {
     "data": {
      "image/png": "[encoded data removed]",
      "text/plain": [
       "<Figure size 432x432 with 1 Axes>"
      ]
     },
     "metadata": {
      "needs_background": "light"
     },
     "output_type": "display_data"
    }
   ],
   "source": [
    "corr_features.plot(kind='scatter', x='YearBuilt', y='SalePrice', figsize=(6,6))"
   ]
  },
  {
   "cell_type": "markdown",
   "metadata": {},
   "source": [
    "_**SCATTER PLOT (SalePrice Vs OverallQual)**_"
   ]
  },
  {
   "cell_type": "code",
   "execution_count": 61,
   "metadata": {},
   "outputs": [
    {
     "data": {
      "text/plain": [
       "<AxesSubplot:xlabel='OverallQual', ylabel='SalePrice'>"
      ]
     },
     "execution_count": 61,
     "metadata": {},
     "output_type": "execute_result"
    },
    {
     "data": {
      "image/png": "[encoded data removed]",
      "text/plain": [
       "<Figure size 432x432 with 1 Axes>"
      ]
     },
     "metadata": {
      "needs_background": "light"
     },
     "output_type": "display_data"
    }
   ],
   "source": [
    "corr_features.plot(kind='scatter', x='OverallQual', y='SalePrice', figsize=(6,6))"
   ]
  },
  {
   "cell_type": "markdown",
   "metadata": {},
   "source": [
    "_**SCATTER PLOT (SalePrice Vs LotArea)**_"
   ]
  },
  {
   "cell_type": "code",
   "execution_count": 62,
   "metadata": {},
   "outputs": [
    {
     "data": {
      "text/plain": [
       "<AxesSubplot:xlabel='LotArea', ylabel='SalePrice'>"
      ]
     },
     "execution_count": 62,
     "metadata": {},
     "output_type": "execute_result"
    },
    {
     "data": {
      "image/png": "[encoded data removed]",
      "text/plain": [
       "<Figure size 432x432 with 1 Axes>"
      ]
     },
     "metadata": {
      "needs_background": "light"
     },
     "output_type": "display_data"
    }
   ],
   "source": [
    "corr_features.plot(kind='scatter', x='LotArea', y='SalePrice', figsize=(6,6))"
   ]
  },
  {
   "cell_type": "markdown",
   "metadata": {},
   "source": [
    "_**SCATTER PLOT (SalePrice Vs GarageCars)**_"
   ]
  },
  {
   "cell_type": "code",
   "execution_count": 63,
   "metadata": {},
   "outputs": [
    {
     "data": {
      "text/plain": [
       "<AxesSubplot:xlabel='GarageCars', ylabel='SalePrice'>"
      ]
     },
     "execution_count": 63,
     "metadata": {},
     "output_type": "execute_result"
    },
    {
     "data": {
      "image/png": "[encoded data removed]",
      "text/plain": [
       "<Figure size 432x432 with 1 Axes>"
      ]
     },
     "metadata": {
      "needs_background": "light"
     },
     "output_type": "display_data"
    }
   ],
   "source": [
    "corr_features.plot(kind='scatter', x='GarageCars', y='SalePrice', figsize=(6,6))"
   ]
  },
  {
   "cell_type": "markdown",
   "metadata": {},
   "source": [
    "_**SCATTER PLOT (SalePrice Vs TotalFullbath)**_"
   ]
  },
  {
   "cell_type": "code",
   "execution_count": 64,
   "metadata": {},
   "outputs": [
    {
     "data": {
      "text/plain": [
       "<AxesSubplot:xlabel='TotalFullbath', ylabel='SalePrice'>"
      ]
     },
     "execution_count": 64,
     "metadata": {},
     "output_type": "execute_result"
    },
    {
     "data": {
      "image/png": "[encoded data removed]",
      "text/plain": [
       "<Figure size 432x432 with 1 Axes>"
      ]
     },
     "metadata": {
      "needs_background": "light"
     },
     "output_type": "display_data"
    }
   ],
   "source": [
    "corr_features.plot(kind='scatter', x='TotalFullbath', y='SalePrice', figsize=(6,6))"
   ]
  },
  {
   "cell_type": "markdown",
   "metadata": {},
   "source": [
    "_**SCATTER PLOT (SalePrice Vs SalePrice )**_"
   ]
  },
  {
   "cell_type": "code",
   "execution_count": 65,
   "metadata": {},
   "outputs": [
    {
     "data": {
      "text/plain": [
       "<AxesSubplot:xlabel='SalePrice', ylabel='SalePrice'>"
      ]
     },
     "execution_count": 65,
     "metadata": {},
     "output_type": "execute_result"
    },
    {
     "data": {
      "image/png": "[encoded data removed]",
      "text/plain": [
       "<Figure size 432x432 with 1 Axes>"
      ]
     },
     "metadata": {
      "needs_background": "light"
     },
     "output_type": "display_data"
    }
   ],
   "source": [
    "corr_features.plot(kind='scatter', x='SalePrice', y='SalePrice', figsize=(6,6))"
   ]
  },
  {
   "cell_type": "markdown",
   "metadata": {},
   "source": [
    "After this correlation analisys, we can add a third group of feature called:\n",
    "**_corr_features_** (compoused by 5 columns):\n",
    "* 1stFlrSF: First Floor square feet\n",
    "* YearBuilt: Original construction date\n",
    "* OverallQual: Overall material and finish quality\n",
    "* TotalFullbath\n",
    "* GarageCars"
   ]
  },
  {
   "cell_type": "code",
   "execution_count": 66,
   "metadata": {
    "scrolled": true
   },
   "outputs": [
    {
     "data": {
      "text/html": [
       "<div>\n",
       "<style scoped>\n",
       "    .dataframe tbody tr th:only-of-type {\n",
       "        vertical-align: middle;\n",
       "    }\n",
       "\n",
       "    .dataframe tbody tr th {\n",
       "        vertical-align: top;\n",
       "    }\n",
       "\n",
       "    .dataframe thead th {\n",
       "        text-align: right;\n",
       "    }\n",
       "</style>\n",
       "<table border=\"1\" class=\"dataframe\">\n",
       "  <thead>\n",
       "    <tr style=\"text-align: right;\">\n",
       "      <th></th>\n",
       "      <th>1stFlrSF</th>\n",
       "      <th>YearBuilt</th>\n",
       "      <th>OverallQual</th>\n",
       "      <th>TotalFullbath</th>\n",
       "      <th>GarageCars</th>\n",
       "    </tr>\n",
       "  </thead>\n",
       "  <tbody>\n",
       "    <tr>\n",
       "      <th>0</th>\n",
       "      <td>856</td>\n",
       "      <td>2003</td>\n",
       "      <td>7</td>\n",
       "      <td>3</td>\n",
       "      <td>2</td>\n",
       "    </tr>\n",
       "    <tr>\n",
       "      <th>1</th>\n",
       "      <td>1262</td>\n",
       "      <td>1976</td>\n",
       "      <td>6</td>\n",
       "      <td>2</td>\n",
       "      <td>2</td>\n",
       "    </tr>\n",
       "    <tr>\n",
       "      <th>2</th>\n",
       "      <td>920</td>\n",
       "      <td>2001</td>\n",
       "      <td>7</td>\n",
       "      <td>3</td>\n",
       "      <td>2</td>\n",
       "    </tr>\n",
       "    <tr>\n",
       "      <th>3</th>\n",
       "      <td>961</td>\n",
       "      <td>1915</td>\n",
       "      <td>7</td>\n",
       "      <td>2</td>\n",
       "      <td>3</td>\n",
       "    </tr>\n",
       "    <tr>\n",
       "      <th>4</th>\n",
       "      <td>1145</td>\n",
       "      <td>2000</td>\n",
       "      <td>8</td>\n",
       "      <td>3</td>\n",
       "      <td>3</td>\n",
       "    </tr>\n",
       "    <tr>\n",
       "      <th>...</th>\n",
       "      <td>...</td>\n",
       "      <td>...</td>\n",
       "      <td>...</td>\n",
       "      <td>...</td>\n",
       "      <td>...</td>\n",
       "    </tr>\n",
       "    <tr>\n",
       "      <th>1455</th>\n",
       "      <td>953</td>\n",
       "      <td>1999</td>\n",
       "      <td>6</td>\n",
       "      <td>2</td>\n",
       "      <td>2</td>\n",
       "    </tr>\n",
       "    <tr>\n",
       "      <th>1456</th>\n",
       "      <td>2073</td>\n",
       "      <td>1978</td>\n",
       "      <td>6</td>\n",
       "      <td>3</td>\n",
       "      <td>2</td>\n",
       "    </tr>\n",
       "    <tr>\n",
       "      <th>1457</th>\n",
       "      <td>1188</td>\n",
       "      <td>1941</td>\n",
       "      <td>7</td>\n",
       "      <td>2</td>\n",
       "      <td>1</td>\n",
       "    </tr>\n",
       "    <tr>\n",
       "      <th>1458</th>\n",
       "      <td>1078</td>\n",
       "      <td>1950</td>\n",
       "      <td>5</td>\n",
       "      <td>2</td>\n",
       "      <td>1</td>\n",
       "    </tr>\n",
       "    <tr>\n",
       "      <th>1459</th>\n",
       "      <td>1256</td>\n",
       "      <td>1965</td>\n",
       "      <td>5</td>\n",
       "      <td>2</td>\n",
       "      <td>1</td>\n",
       "    </tr>\n",
       "  </tbody>\n",
       "</table>\n",
       "<p>1460 rows × 5 columns</p>\n",
       "</div>"
      ],
      "text/plain": [
       "      1stFlrSF  YearBuilt  OverallQual  TotalFullbath  GarageCars\n",
       "0          856       2003            7              3           2\n",
       "1         1262       1976            6              2           2\n",
       "2          920       2001            7              3           2\n",
       "3          961       1915            7              2           3\n",
       "4         1145       2000            8              3           3\n",
       "...        ...        ...          ...            ...         ...\n",
       "1455       953       1999            6              2           2\n",
       "1456      2073       1978            6              3           2\n",
       "1457      1188       1941            7              2           1\n",
       "1458      1078       1950            5              2           1\n",
       "1459      1256       1965            5              2           1\n",
       "\n",
       "[1460 rows x 5 columns]"
      ]
     },
     "execution_count": 66,
     "metadata": {},
     "output_type": "execute_result"
    }
   ],
   "source": [
    "corr_features_names = ['1stFlrSF','YearBuilt','OverallQual','TotalFullbath','GarageCars']\n",
    "corr_features = home_dataF[corr_features_names]\n",
    "corr_features"
   ]
  },
  {
   "cell_type": "markdown",
   "metadata": {},
   "source": [
    "so, we will evaluate how perform the three gruops of features:\n",
    "* central_features\n",
    "* combined_features\n",
    "* corr_features   "
   ]
  },
  {
   "cell_type": "markdown",
   "metadata": {},
   "source": [
    "![green-divider](https://user-images.githubusercontent.com/7065401/52071924-c003ad80-2562-11e9-8297-1c6595f8a7ff.png)\n",
    "\n",
    "### G- Building the prediction Model:"
   ]
  },
  {
   "cell_type": "markdown",
   "metadata": {},
   "source": [
    "### G.1 - Data selection:"
   ]
  },
  {
   "cell_type": "markdown",
   "metadata": {},
   "source": [
    "#### G.1.1 - Data for Modeling:"
   ]
  },
  {
   "cell_type": "markdown",
   "metadata": {},
   "source": [
    "The data set used, was taken from Kaggle's Housing Prices Competition (Visit Kaggle). It has 79 explanatory variables describing (almost) every aspect of residential homes in Ames, Iowa. The objective is to predict the final price of each home.\n",
    "\n",
    "The excel file provided was _**train.csv**_, which was imported as the Data Frame: _**home_data**_.\n",
    "\n",
    "Then, after column wrangling and ordinal encoding we created  _**home_dataF**_, which has two aditional columns: \n",
    "* TotalFullbath, which is the sum of _**BsmtFullBath**_ and _**FullBath**_.\n",
    "* and, Condition1N, which is the manual encoded version of Condition1."
   ]
  },
  {
   "cell_type": "markdown",
   "metadata": {},
   "source": [
    "#### G.1.2 - Prediction Target:"
   ]
  },
  {
   "cell_type": "markdown",
   "metadata": {},
   "source": [
    "The objective is to predict the final price of each home, which is the column: _**SalePrice**_."
   ]
  },
  {
   "cell_type": "code",
   "execution_count": 67,
   "metadata": {},
   "outputs": [
    {
     "data": {
      "text/plain": [
       "0       208500\n",
       "1       181500\n",
       "2       223500\n",
       "3       140000\n",
       "4       250000\n",
       "         ...  \n",
       "1455    175000\n",
       "1456    210000\n",
       "1457    266500\n",
       "1458    142125\n",
       "1459    147500\n",
       "Name: SalePrice, Length: 1460, dtype: int64"
      ]
     },
     "execution_count": 67,
     "metadata": {},
     "output_type": "execute_result"
    }
   ],
   "source": [
    "y = home_dataF['SalePrice']\n",
    "y"
   ]
  },
  {
   "cell_type": "markdown",
   "metadata": {},
   "source": [
    "#### G.1.3 - Choosing of the Features:"
   ]
  },
  {
   "cell_type": "markdown",
   "metadata": {},
   "source": [
    "The full document so far has focused on determining the best Features to feed the model. We defined three groups: **central_features, combined_features and corr_features**, which we are going to be called now on as **X1, X2, and X3.**"
   ]
  },
  {
   "cell_type": "code",
   "execution_count": 68,
   "metadata": {},
   "outputs": [
    {
     "data": {
      "text/html": [
       "<div>\n",
       "<style scoped>\n",
       "    .dataframe tbody tr th:only-of-type {\n",
       "        vertical-align: middle;\n",
       "    }\n",
       "\n",
       "    .dataframe tbody tr th {\n",
       "        vertical-align: top;\n",
       "    }\n",
       "\n",
       "    .dataframe thead th {\n",
       "        text-align: right;\n",
       "    }\n",
       "</style>\n",
       "<table border=\"1\" class=\"dataframe\">\n",
       "  <thead>\n",
       "    <tr style=\"text-align: right;\">\n",
       "      <th></th>\n",
       "      <th>1stFlrSF</th>\n",
       "      <th>2ndFlrSF</th>\n",
       "      <th>Condition1N</th>\n",
       "      <th>YearBuilt</th>\n",
       "      <th>OverallQual</th>\n",
       "    </tr>\n",
       "  </thead>\n",
       "  <tbody>\n",
       "    <tr>\n",
       "      <th>0</th>\n",
       "      <td>856</td>\n",
       "      <td>854</td>\n",
       "      <td>9</td>\n",
       "      <td>2003</td>\n",
       "      <td>7</td>\n",
       "    </tr>\n",
       "    <tr>\n",
       "      <th>1</th>\n",
       "      <td>1262</td>\n",
       "      <td>0</td>\n",
       "      <td>8</td>\n",
       "      <td>1976</td>\n",
       "      <td>6</td>\n",
       "    </tr>\n",
       "    <tr>\n",
       "      <th>2</th>\n",
       "      <td>920</td>\n",
       "      <td>866</td>\n",
       "      <td>9</td>\n",
       "      <td>2001</td>\n",
       "      <td>7</td>\n",
       "    </tr>\n",
       "    <tr>\n",
       "      <th>3</th>\n",
       "      <td>961</td>\n",
       "      <td>756</td>\n",
       "      <td>9</td>\n",
       "      <td>1915</td>\n",
       "      <td>7</td>\n",
       "    </tr>\n",
       "    <tr>\n",
       "      <th>4</th>\n",
       "      <td>1145</td>\n",
       "      <td>1053</td>\n",
       "      <td>9</td>\n",
       "      <td>2000</td>\n",
       "      <td>8</td>\n",
       "    </tr>\n",
       "    <tr>\n",
       "      <th>...</th>\n",
       "      <td>...</td>\n",
       "      <td>...</td>\n",
       "      <td>...</td>\n",
       "      <td>...</td>\n",
       "      <td>...</td>\n",
       "    </tr>\n",
       "    <tr>\n",
       "      <th>1455</th>\n",
       "      <td>953</td>\n",
       "      <td>694</td>\n",
       "      <td>9</td>\n",
       "      <td>1999</td>\n",
       "      <td>6</td>\n",
       "    </tr>\n",
       "    <tr>\n",
       "      <th>1456</th>\n",
       "      <td>2073</td>\n",
       "      <td>0</td>\n",
       "      <td>9</td>\n",
       "      <td>1978</td>\n",
       "      <td>6</td>\n",
       "    </tr>\n",
       "    <tr>\n",
       "      <th>1457</th>\n",
       "      <td>1188</td>\n",
       "      <td>1152</td>\n",
       "      <td>9</td>\n",
       "      <td>1941</td>\n",
       "      <td>7</td>\n",
       "    </tr>\n",
       "    <tr>\n",
       "      <th>1458</th>\n",
       "      <td>1078</td>\n",
       "      <td>0</td>\n",
       "      <td>9</td>\n",
       "      <td>1950</td>\n",
       "      <td>5</td>\n",
       "    </tr>\n",
       "    <tr>\n",
       "      <th>1459</th>\n",
       "      <td>1256</td>\n",
       "      <td>0</td>\n",
       "      <td>9</td>\n",
       "      <td>1965</td>\n",
       "      <td>5</td>\n",
       "    </tr>\n",
       "  </tbody>\n",
       "</table>\n",
       "<p>1460 rows × 5 columns</p>\n",
       "</div>"
      ],
      "text/plain": [
       "      1stFlrSF  2ndFlrSF  Condition1N  YearBuilt  OverallQual\n",
       "0          856       854            9       2003            7\n",
       "1         1262         0            8       1976            6\n",
       "2          920       866            9       2001            7\n",
       "3          961       756            9       1915            7\n",
       "4         1145      1053            9       2000            8\n",
       "...        ...       ...          ...        ...          ...\n",
       "1455       953       694            9       1999            6\n",
       "1456      2073         0            9       1978            6\n",
       "1457      1188      1152            9       1941            7\n",
       "1458      1078         0            9       1950            5\n",
       "1459      1256         0            9       1965            5\n",
       "\n",
       "[1460 rows x 5 columns]"
      ]
     },
     "execution_count": 68,
     "metadata": {},
     "output_type": "execute_result"
    }
   ],
   "source": [
    "central_features_names = ['1stFlrSF','2ndFlrSF','Condition1N','YearBuilt','OverallQual']\n",
    "central_features = home_dataF[central_features_names]\n",
    "central_features"
   ]
  },
  {
   "cell_type": "code",
   "execution_count": 69,
   "metadata": {},
   "outputs": [
    {
     "data": {
      "text/html": [
       "<div>\n",
       "<style scoped>\n",
       "    .dataframe tbody tr th:only-of-type {\n",
       "        vertical-align: middle;\n",
       "    }\n",
       "\n",
       "    .dataframe tbody tr th {\n",
       "        vertical-align: top;\n",
       "    }\n",
       "\n",
       "    .dataframe thead th {\n",
       "        text-align: right;\n",
       "    }\n",
       "</style>\n",
       "<table border=\"1\" class=\"dataframe\">\n",
       "  <thead>\n",
       "    <tr style=\"text-align: right;\">\n",
       "      <th></th>\n",
       "      <th>1stFlrSF</th>\n",
       "      <th>2ndFlrSF</th>\n",
       "      <th>Condition1N</th>\n",
       "      <th>YearBuilt</th>\n",
       "      <th>OverallQual</th>\n",
       "    </tr>\n",
       "  </thead>\n",
       "  <tbody>\n",
       "    <tr>\n",
       "      <th>count</th>\n",
       "      <td>1460.000000</td>\n",
       "      <td>1460.000000</td>\n",
       "      <td>1460.000000</td>\n",
       "      <td>1460.000000</td>\n",
       "      <td>1460.000000</td>\n",
       "    </tr>\n",
       "    <tr>\n",
       "      <th>mean</th>\n",
       "      <td>1162.626712</td>\n",
       "      <td>346.992466</td>\n",
       "      <td>8.667808</td>\n",
       "      <td>1971.267808</td>\n",
       "      <td>6.099315</td>\n",
       "    </tr>\n",
       "    <tr>\n",
       "      <th>std</th>\n",
       "      <td>386.587738</td>\n",
       "      <td>436.528436</td>\n",
       "      <td>1.042578</td>\n",
       "      <td>30.202904</td>\n",
       "      <td>1.382997</td>\n",
       "    </tr>\n",
       "    <tr>\n",
       "      <th>min</th>\n",
       "      <td>334.000000</td>\n",
       "      <td>0.000000</td>\n",
       "      <td>1.000000</td>\n",
       "      <td>1872.000000</td>\n",
       "      <td>1.000000</td>\n",
       "    </tr>\n",
       "    <tr>\n",
       "      <th>25%</th>\n",
       "      <td>882.000000</td>\n",
       "      <td>0.000000</td>\n",
       "      <td>9.000000</td>\n",
       "      <td>1954.000000</td>\n",
       "      <td>5.000000</td>\n",
       "    </tr>\n",
       "    <tr>\n",
       "      <th>50%</th>\n",
       "      <td>1087.000000</td>\n",
       "      <td>0.000000</td>\n",
       "      <td>9.000000</td>\n",
       "      <td>1973.000000</td>\n",
       "      <td>6.000000</td>\n",
       "    </tr>\n",
       "    <tr>\n",
       "      <th>75%</th>\n",
       "      <td>1391.250000</td>\n",
       "      <td>728.000000</td>\n",
       "      <td>9.000000</td>\n",
       "      <td>2000.000000</td>\n",
       "      <td>7.000000</td>\n",
       "    </tr>\n",
       "    <tr>\n",
       "      <th>max</th>\n",
       "      <td>4692.000000</td>\n",
       "      <td>2065.000000</td>\n",
       "      <td>9.000000</td>\n",
       "      <td>2010.000000</td>\n",
       "      <td>10.000000</td>\n",
       "    </tr>\n",
       "  </tbody>\n",
       "</table>\n",
       "</div>"
      ],
      "text/plain": [
       "          1stFlrSF     2ndFlrSF  Condition1N    YearBuilt  OverallQual\n",
       "count  1460.000000  1460.000000  1460.000000  1460.000000  1460.000000\n",
       "mean   1162.626712   346.992466     8.667808  1971.267808     6.099315\n",
       "std     386.587738   436.528436     1.042578    30.202904     1.382997\n",
       "min     334.000000     0.000000     1.000000  1872.000000     1.000000\n",
       "25%     882.000000     0.000000     9.000000  1954.000000     5.000000\n",
       "50%    1087.000000     0.000000     9.000000  1973.000000     6.000000\n",
       "75%    1391.250000   728.000000     9.000000  2000.000000     7.000000\n",
       "max    4692.000000  2065.000000     9.000000  2010.000000    10.000000"
      ]
     },
     "execution_count": 69,
     "metadata": {},
     "output_type": "execute_result"
    }
   ],
   "source": [
    "X1 = central_features\n",
    "X1.describe()"
   ]
  },
  {
   "cell_type": "markdown",
   "metadata": {},
   "source": [
    "* Now, **combined_features:**"
   ]
  },
  {
   "cell_type": "code",
   "execution_count": 70,
   "metadata": {},
   "outputs": [
    {
     "data": {
      "text/html": [
       "<div>\n",
       "<style scoped>\n",
       "    .dataframe tbody tr th:only-of-type {\n",
       "        vertical-align: middle;\n",
       "    }\n",
       "\n",
       "    .dataframe tbody tr th {\n",
       "        vertical-align: top;\n",
       "    }\n",
       "\n",
       "    .dataframe thead th {\n",
       "        text-align: right;\n",
       "    }\n",
       "</style>\n",
       "<table border=\"1\" class=\"dataframe\">\n",
       "  <thead>\n",
       "    <tr style=\"text-align: right;\">\n",
       "      <th></th>\n",
       "      <th>1stFlrSF</th>\n",
       "      <th>2ndFlrSF</th>\n",
       "      <th>Condition1N</th>\n",
       "      <th>YearBuilt</th>\n",
       "      <th>OverallQual</th>\n",
       "      <th>LotArea</th>\n",
       "      <th>GarageCars</th>\n",
       "      <th>TotalFullbath</th>\n",
       "    </tr>\n",
       "  </thead>\n",
       "  <tbody>\n",
       "    <tr>\n",
       "      <th>0</th>\n",
       "      <td>856</td>\n",
       "      <td>854</td>\n",
       "      <td>9</td>\n",
       "      <td>2003</td>\n",
       "      <td>7</td>\n",
       "      <td>8450</td>\n",
       "      <td>2</td>\n",
       "      <td>3</td>\n",
       "    </tr>\n",
       "    <tr>\n",
       "      <th>1</th>\n",
       "      <td>1262</td>\n",
       "      <td>0</td>\n",
       "      <td>8</td>\n",
       "      <td>1976</td>\n",
       "      <td>6</td>\n",
       "      <td>9600</td>\n",
       "      <td>2</td>\n",
       "      <td>2</td>\n",
       "    </tr>\n",
       "    <tr>\n",
       "      <th>2</th>\n",
       "      <td>920</td>\n",
       "      <td>866</td>\n",
       "      <td>9</td>\n",
       "      <td>2001</td>\n",
       "      <td>7</td>\n",
       "      <td>11250</td>\n",
       "      <td>2</td>\n",
       "      <td>3</td>\n",
       "    </tr>\n",
       "    <tr>\n",
       "      <th>3</th>\n",
       "      <td>961</td>\n",
       "      <td>756</td>\n",
       "      <td>9</td>\n",
       "      <td>1915</td>\n",
       "      <td>7</td>\n",
       "      <td>9550</td>\n",
       "      <td>3</td>\n",
       "      <td>2</td>\n",
       "    </tr>\n",
       "    <tr>\n",
       "      <th>4</th>\n",
       "      <td>1145</td>\n",
       "      <td>1053</td>\n",
       "      <td>9</td>\n",
       "      <td>2000</td>\n",
       "      <td>8</td>\n",
       "      <td>14260</td>\n",
       "      <td>3</td>\n",
       "      <td>3</td>\n",
       "    </tr>\n",
       "    <tr>\n",
       "      <th>...</th>\n",
       "      <td>...</td>\n",
       "      <td>...</td>\n",
       "      <td>...</td>\n",
       "      <td>...</td>\n",
       "      <td>...</td>\n",
       "      <td>...</td>\n",
       "      <td>...</td>\n",
       "      <td>...</td>\n",
       "    </tr>\n",
       "    <tr>\n",
       "      <th>1455</th>\n",
       "      <td>953</td>\n",
       "      <td>694</td>\n",
       "      <td>9</td>\n",
       "      <td>1999</td>\n",
       "      <td>6</td>\n",
       "      <td>7917</td>\n",
       "      <td>2</td>\n",
       "      <td>2</td>\n",
       "    </tr>\n",
       "    <tr>\n",
       "      <th>1456</th>\n",
       "      <td>2073</td>\n",
       "      <td>0</td>\n",
       "      <td>9</td>\n",
       "      <td>1978</td>\n",
       "      <td>6</td>\n",
       "      <td>13175</td>\n",
       "      <td>2</td>\n",
       "      <td>3</td>\n",
       "    </tr>\n",
       "    <tr>\n",
       "      <th>1457</th>\n",
       "      <td>1188</td>\n",
       "      <td>1152</td>\n",
       "      <td>9</td>\n",
       "      <td>1941</td>\n",
       "      <td>7</td>\n",
       "      <td>9042</td>\n",
       "      <td>1</td>\n",
       "      <td>2</td>\n",
       "    </tr>\n",
       "    <tr>\n",
       "      <th>1458</th>\n",
       "      <td>1078</td>\n",
       "      <td>0</td>\n",
       "      <td>9</td>\n",
       "      <td>1950</td>\n",
       "      <td>5</td>\n",
       "      <td>9717</td>\n",
       "      <td>1</td>\n",
       "      <td>2</td>\n",
       "    </tr>\n",
       "    <tr>\n",
       "      <th>1459</th>\n",
       "      <td>1256</td>\n",
       "      <td>0</td>\n",
       "      <td>9</td>\n",
       "      <td>1965</td>\n",
       "      <td>5</td>\n",
       "      <td>9937</td>\n",
       "      <td>1</td>\n",
       "      <td>2</td>\n",
       "    </tr>\n",
       "  </tbody>\n",
       "</table>\n",
       "<p>1460 rows × 8 columns</p>\n",
       "</div>"
      ],
      "text/plain": [
       "      1stFlrSF  2ndFlrSF  Condition1N  YearBuilt  OverallQual  LotArea  \\\n",
       "0          856       854            9       2003            7     8450   \n",
       "1         1262         0            8       1976            6     9600   \n",
       "2          920       866            9       2001            7    11250   \n",
       "3          961       756            9       1915            7     9550   \n",
       "4         1145      1053            9       2000            8    14260   \n",
       "...        ...       ...          ...        ...          ...      ...   \n",
       "1455       953       694            9       1999            6     7917   \n",
       "1456      2073         0            9       1978            6    13175   \n",
       "1457      1188      1152            9       1941            7     9042   \n",
       "1458      1078         0            9       1950            5     9717   \n",
       "1459      1256         0            9       1965            5     9937   \n",
       "\n",
       "      GarageCars  TotalFullbath  \n",
       "0              2              3  \n",
       "1              2              2  \n",
       "2              2              3  \n",
       "3              3              2  \n",
       "4              3              3  \n",
       "...          ...            ...  \n",
       "1455           2              2  \n",
       "1456           2              3  \n",
       "1457           1              2  \n",
       "1458           1              2  \n",
       "1459           1              2  \n",
       "\n",
       "[1460 rows x 8 columns]"
      ]
     },
     "execution_count": 70,
     "metadata": {},
     "output_type": "execute_result"
    }
   ],
   "source": [
    "combined_features_names = ['1stFlrSF','2ndFlrSF','Condition1N','YearBuilt','OverallQual','LotArea','GarageCars', 'TotalFullbath']\n",
    "combined_features = home_dataF[combined_features_names]\n",
    "combined_features"
   ]
  },
  {
   "cell_type": "code",
   "execution_count": 71,
   "metadata": {},
   "outputs": [
    {
     "data": {
      "text/html": [
       "<div>\n",
       "<style scoped>\n",
       "    .dataframe tbody tr th:only-of-type {\n",
       "        vertical-align: middle;\n",
       "    }\n",
       "\n",
       "    .dataframe tbody tr th {\n",
       "        vertical-align: top;\n",
       "    }\n",
       "\n",
       "    .dataframe thead th {\n",
       "        text-align: right;\n",
       "    }\n",
       "</style>\n",
       "<table border=\"1\" class=\"dataframe\">\n",
       "  <thead>\n",
       "    <tr style=\"text-align: right;\">\n",
       "      <th></th>\n",
       "      <th>1stFlrSF</th>\n",
       "      <th>2ndFlrSF</th>\n",
       "      <th>Condition1N</th>\n",
       "      <th>YearBuilt</th>\n",
       "      <th>OverallQual</th>\n",
       "      <th>LotArea</th>\n",
       "      <th>GarageCars</th>\n",
       "      <th>TotalFullbath</th>\n",
       "    </tr>\n",
       "  </thead>\n",
       "  <tbody>\n",
       "    <tr>\n",
       "      <th>count</th>\n",
       "      <td>1460.000000</td>\n",
       "      <td>1460.000000</td>\n",
       "      <td>1460.000000</td>\n",
       "      <td>1460.000000</td>\n",
       "      <td>1460.000000</td>\n",
       "      <td>1460.000000</td>\n",
       "      <td>1460.000000</td>\n",
       "      <td>1460.000000</td>\n",
       "    </tr>\n",
       "    <tr>\n",
       "      <th>mean</th>\n",
       "      <td>1162.626712</td>\n",
       "      <td>346.992466</td>\n",
       "      <td>8.667808</td>\n",
       "      <td>1971.267808</td>\n",
       "      <td>6.099315</td>\n",
       "      <td>10516.828082</td>\n",
       "      <td>1.767123</td>\n",
       "      <td>1.990411</td>\n",
       "    </tr>\n",
       "    <tr>\n",
       "      <th>std</th>\n",
       "      <td>386.587738</td>\n",
       "      <td>436.528436</td>\n",
       "      <td>1.042578</td>\n",
       "      <td>30.202904</td>\n",
       "      <td>1.382997</td>\n",
       "      <td>9981.264932</td>\n",
       "      <td>0.747315</td>\n",
       "      <td>0.732046</td>\n",
       "    </tr>\n",
       "    <tr>\n",
       "      <th>min</th>\n",
       "      <td>334.000000</td>\n",
       "      <td>0.000000</td>\n",
       "      <td>1.000000</td>\n",
       "      <td>1872.000000</td>\n",
       "      <td>1.000000</td>\n",
       "      <td>1300.000000</td>\n",
       "      <td>0.000000</td>\n",
       "      <td>0.000000</td>\n",
       "    </tr>\n",
       "    <tr>\n",
       "      <th>25%</th>\n",
       "      <td>882.000000</td>\n",
       "      <td>0.000000</td>\n",
       "      <td>9.000000</td>\n",
       "      <td>1954.000000</td>\n",
       "      <td>5.000000</td>\n",
       "      <td>7553.500000</td>\n",
       "      <td>1.000000</td>\n",
       "      <td>1.000000</td>\n",
       "    </tr>\n",
       "    <tr>\n",
       "      <th>50%</th>\n",
       "      <td>1087.000000</td>\n",
       "      <td>0.000000</td>\n",
       "      <td>9.000000</td>\n",
       "      <td>1973.000000</td>\n",
       "      <td>6.000000</td>\n",
       "      <td>9478.500000</td>\n",
       "      <td>2.000000</td>\n",
       "      <td>2.000000</td>\n",
       "    </tr>\n",
       "    <tr>\n",
       "      <th>75%</th>\n",
       "      <td>1391.250000</td>\n",
       "      <td>728.000000</td>\n",
       "      <td>9.000000</td>\n",
       "      <td>2000.000000</td>\n",
       "      <td>7.000000</td>\n",
       "      <td>11601.500000</td>\n",
       "      <td>2.000000</td>\n",
       "      <td>2.000000</td>\n",
       "    </tr>\n",
       "    <tr>\n",
       "      <th>max</th>\n",
       "      <td>4692.000000</td>\n",
       "      <td>2065.000000</td>\n",
       "      <td>9.000000</td>\n",
       "      <td>2010.000000</td>\n",
       "      <td>10.000000</td>\n",
       "      <td>215245.000000</td>\n",
       "      <td>4.000000</td>\n",
       "      <td>6.000000</td>\n",
       "    </tr>\n",
       "  </tbody>\n",
       "</table>\n",
       "</div>"
      ],
      "text/plain": [
       "          1stFlrSF     2ndFlrSF  Condition1N    YearBuilt  OverallQual  \\\n",
       "count  1460.000000  1460.000000  1460.000000  1460.000000  1460.000000   \n",
       "mean   1162.626712   346.992466     8.667808  1971.267808     6.099315   \n",
       "std     386.587738   436.528436     1.042578    30.202904     1.382997   \n",
       "min     334.000000     0.000000     1.000000  1872.000000     1.000000   \n",
       "25%     882.000000     0.000000     9.000000  1954.000000     5.000000   \n",
       "50%    1087.000000     0.000000     9.000000  1973.000000     6.000000   \n",
       "75%    1391.250000   728.000000     9.000000  2000.000000     7.000000   \n",
       "max    4692.000000  2065.000000     9.000000  2010.000000    10.000000   \n",
       "\n",
       "             LotArea   GarageCars  TotalFullbath  \n",
       "count    1460.000000  1460.000000    1460.000000  \n",
       "mean    10516.828082     1.767123       1.990411  \n",
       "std      9981.264932     0.747315       0.732046  \n",
       "min      1300.000000     0.000000       0.000000  \n",
       "25%      7553.500000     1.000000       1.000000  \n",
       "50%      9478.500000     2.000000       2.000000  \n",
       "75%     11601.500000     2.000000       2.000000  \n",
       "max    215245.000000     4.000000       6.000000  "
      ]
     },
     "execution_count": 71,
     "metadata": {},
     "output_type": "execute_result"
    }
   ],
   "source": [
    "X2 = combined_features\n",
    "X2.describe()"
   ]
  },
  {
   "cell_type": "markdown",
   "metadata": {},
   "source": [
    "* Now, **corr_features**:"
   ]
  },
  {
   "cell_type": "code",
   "execution_count": 72,
   "metadata": {},
   "outputs": [
    {
     "data": {
      "text/html": [
       "<div>\n",
       "<style scoped>\n",
       "    .dataframe tbody tr th:only-of-type {\n",
       "        vertical-align: middle;\n",
       "    }\n",
       "\n",
       "    .dataframe tbody tr th {\n",
       "        vertical-align: top;\n",
       "    }\n",
       "\n",
       "    .dataframe thead th {\n",
       "        text-align: right;\n",
       "    }\n",
       "</style>\n",
       "<table border=\"1\" class=\"dataframe\">\n",
       "  <thead>\n",
       "    <tr style=\"text-align: right;\">\n",
       "      <th></th>\n",
       "      <th>1stFlrSF</th>\n",
       "      <th>YearBuilt</th>\n",
       "      <th>OverallQual</th>\n",
       "      <th>TotalFullbath</th>\n",
       "      <th>GarageCars</th>\n",
       "    </tr>\n",
       "  </thead>\n",
       "  <tbody>\n",
       "    <tr>\n",
       "      <th>0</th>\n",
       "      <td>856</td>\n",
       "      <td>2003</td>\n",
       "      <td>7</td>\n",
       "      <td>3</td>\n",
       "      <td>2</td>\n",
       "    </tr>\n",
       "    <tr>\n",
       "      <th>1</th>\n",
       "      <td>1262</td>\n",
       "      <td>1976</td>\n",
       "      <td>6</td>\n",
       "      <td>2</td>\n",
       "      <td>2</td>\n",
       "    </tr>\n",
       "    <tr>\n",
       "      <th>2</th>\n",
       "      <td>920</td>\n",
       "      <td>2001</td>\n",
       "      <td>7</td>\n",
       "      <td>3</td>\n",
       "      <td>2</td>\n",
       "    </tr>\n",
       "    <tr>\n",
       "      <th>3</th>\n",
       "      <td>961</td>\n",
       "      <td>1915</td>\n",
       "      <td>7</td>\n",
       "      <td>2</td>\n",
       "      <td>3</td>\n",
       "    </tr>\n",
       "    <tr>\n",
       "      <th>4</th>\n",
       "      <td>1145</td>\n",
       "      <td>2000</td>\n",
       "      <td>8</td>\n",
       "      <td>3</td>\n",
       "      <td>3</td>\n",
       "    </tr>\n",
       "    <tr>\n",
       "      <th>...</th>\n",
       "      <td>...</td>\n",
       "      <td>...</td>\n",
       "      <td>...</td>\n",
       "      <td>...</td>\n",
       "      <td>...</td>\n",
       "    </tr>\n",
       "    <tr>\n",
       "      <th>1455</th>\n",
       "      <td>953</td>\n",
       "      <td>1999</td>\n",
       "      <td>6</td>\n",
       "      <td>2</td>\n",
       "      <td>2</td>\n",
       "    </tr>\n",
       "    <tr>\n",
       "      <th>1456</th>\n",
       "      <td>2073</td>\n",
       "      <td>1978</td>\n",
       "      <td>6</td>\n",
       "      <td>3</td>\n",
       "      <td>2</td>\n",
       "    </tr>\n",
       "    <tr>\n",
       "      <th>1457</th>\n",
       "      <td>1188</td>\n",
       "      <td>1941</td>\n",
       "      <td>7</td>\n",
       "      <td>2</td>\n",
       "      <td>1</td>\n",
       "    </tr>\n",
       "    <tr>\n",
       "      <th>1458</th>\n",
       "      <td>1078</td>\n",
       "      <td>1950</td>\n",
       "      <td>5</td>\n",
       "      <td>2</td>\n",
       "      <td>1</td>\n",
       "    </tr>\n",
       "    <tr>\n",
       "      <th>1459</th>\n",
       "      <td>1256</td>\n",
       "      <td>1965</td>\n",
       "      <td>5</td>\n",
       "      <td>2</td>\n",
       "      <td>1</td>\n",
       "    </tr>\n",
       "  </tbody>\n",
       "</table>\n",
       "<p>1460 rows × 5 columns</p>\n",
       "</div>"
      ],
      "text/plain": [
       "      1stFlrSF  YearBuilt  OverallQual  TotalFullbath  GarageCars\n",
       "0          856       2003            7              3           2\n",
       "1         1262       1976            6              2           2\n",
       "2          920       2001            7              3           2\n",
       "3          961       1915            7              2           3\n",
       "4         1145       2000            8              3           3\n",
       "...        ...        ...          ...            ...         ...\n",
       "1455       953       1999            6              2           2\n",
       "1456      2073       1978            6              3           2\n",
       "1457      1188       1941            7              2           1\n",
       "1458      1078       1950            5              2           1\n",
       "1459      1256       1965            5              2           1\n",
       "\n",
       "[1460 rows x 5 columns]"
      ]
     },
     "execution_count": 72,
     "metadata": {},
     "output_type": "execute_result"
    }
   ],
   "source": [
    "corr_features_names = ['1stFlrSF','YearBuilt','OverallQual','TotalFullbath','GarageCars']\n",
    "corr_features = home_dataF[corr_features_names]\n",
    "corr_features"
   ]
  },
  {
   "cell_type": "code",
   "execution_count": 73,
   "metadata": {},
   "outputs": [
    {
     "data": {
      "text/html": [
       "<div>\n",
       "<style scoped>\n",
       "    .dataframe tbody tr th:only-of-type {\n",
       "        vertical-align: middle;\n",
       "    }\n",
       "\n",
       "    .dataframe tbody tr th {\n",
       "        vertical-align: top;\n",
       "    }\n",
       "\n",
       "    .dataframe thead th {\n",
       "        text-align: right;\n",
       "    }\n",
       "</style>\n",
       "<table border=\"1\" class=\"dataframe\">\n",
       "  <thead>\n",
       "    <tr style=\"text-align: right;\">\n",
       "      <th></th>\n",
       "      <th>1stFlrSF</th>\n",
       "      <th>YearBuilt</th>\n",
       "      <th>OverallQual</th>\n",
       "      <th>TotalFullbath</th>\n",
       "      <th>GarageCars</th>\n",
       "    </tr>\n",
       "  </thead>\n",
       "  <tbody>\n",
       "    <tr>\n",
       "      <th>count</th>\n",
       "      <td>1460.000000</td>\n",
       "      <td>1460.000000</td>\n",
       "      <td>1460.000000</td>\n",
       "      <td>1460.000000</td>\n",
       "      <td>1460.000000</td>\n",
       "    </tr>\n",
       "    <tr>\n",
       "      <th>mean</th>\n",
       "      <td>1162.626712</td>\n",
       "      <td>1971.267808</td>\n",
       "      <td>6.099315</td>\n",
       "      <td>1.990411</td>\n",
       "      <td>1.767123</td>\n",
       "    </tr>\n",
       "    <tr>\n",
       "      <th>std</th>\n",
       "      <td>386.587738</td>\n",
       "      <td>30.202904</td>\n",
       "      <td>1.382997</td>\n",
       "      <td>0.732046</td>\n",
       "      <td>0.747315</td>\n",
       "    </tr>\n",
       "    <tr>\n",
       "      <th>min</th>\n",
       "      <td>334.000000</td>\n",
       "      <td>1872.000000</td>\n",
       "      <td>1.000000</td>\n",
       "      <td>0.000000</td>\n",
       "      <td>0.000000</td>\n",
       "    </tr>\n",
       "    <tr>\n",
       "      <th>25%</th>\n",
       "      <td>882.000000</td>\n",
       "      <td>1954.000000</td>\n",
       "      <td>5.000000</td>\n",
       "      <td>1.000000</td>\n",
       "      <td>1.000000</td>\n",
       "    </tr>\n",
       "    <tr>\n",
       "      <th>50%</th>\n",
       "      <td>1087.000000</td>\n",
       "      <td>1973.000000</td>\n",
       "      <td>6.000000</td>\n",
       "      <td>2.000000</td>\n",
       "      <td>2.000000</td>\n",
       "    </tr>\n",
       "    <tr>\n",
       "      <th>75%</th>\n",
       "      <td>1391.250000</td>\n",
       "      <td>2000.000000</td>\n",
       "      <td>7.000000</td>\n",
       "      <td>2.000000</td>\n",
       "      <td>2.000000</td>\n",
       "    </tr>\n",
       "    <tr>\n",
       "      <th>max</th>\n",
       "      <td>4692.000000</td>\n",
       "      <td>2010.000000</td>\n",
       "      <td>10.000000</td>\n",
       "      <td>6.000000</td>\n",
       "      <td>4.000000</td>\n",
       "    </tr>\n",
       "  </tbody>\n",
       "</table>\n",
       "</div>"
      ],
      "text/plain": [
       "          1stFlrSF    YearBuilt  OverallQual  TotalFullbath   GarageCars\n",
       "count  1460.000000  1460.000000  1460.000000    1460.000000  1460.000000\n",
       "mean   1162.626712  1971.267808     6.099315       1.990411     1.767123\n",
       "std     386.587738    30.202904     1.382997       0.732046     0.747315\n",
       "min     334.000000  1872.000000     1.000000       0.000000     0.000000\n",
       "25%     882.000000  1954.000000     5.000000       1.000000     1.000000\n",
       "50%    1087.000000  1973.000000     6.000000       2.000000     2.000000\n",
       "75%    1391.250000  2000.000000     7.000000       2.000000     2.000000\n",
       "max    4692.000000  2010.000000    10.000000       6.000000     4.000000"
      ]
     },
     "execution_count": 73,
     "metadata": {},
     "output_type": "execute_result"
    }
   ],
   "source": [
    "X3 = corr_features\n",
    "X3.describe()"
   ]
  },
  {
   "cell_type": "markdown",
   "metadata": {},
   "source": [
    "#### G.2 - Building of the Model"
   ]
  },
  {
   "cell_type": "markdown",
   "metadata": {},
   "source": [
    "#### G.2.1. - Type of model:"
   ]
  },
  {
   "cell_type": "markdown",
   "metadata": {},
   "source": [
    "Let's use a simple algorithm (DecisionTreeRegressor) so that we see the evolution in the precision of the model as we change the model."
   ]
  },
  {
   "cell_type": "code",
   "execution_count": 74,
   "metadata": {},
   "outputs": [],
   "source": [
    "from sklearn.tree import DecisionTreeRegressor\n",
    "# Define model\n",
    "melbourne_model = DecisionTreeRegressor()"
   ]
  },
  {
   "cell_type": "markdown",
   "metadata": {},
   "source": [
    "<img src=\"https://www.researchgate.net/profile/Wanli-Xing/publication/323784695/figure/fig3/AS:613990283624457@1523398099887/Decision-tree-with-six-dimensional-feature-space-and-two-classes-The-X-i-are-the.png\"\n",
    "    style=\"width:800px; float: center; margin: 0 40px 40px 40px;\"></img>"
   ]
  },
  {
   "cell_type": "markdown",
   "metadata": {},
   "source": [
    "#### G.2.2. - Fitting the models:"
   ]
  },
  {
   "cell_type": "markdown",
   "metadata": {},
   "source": [
    "Now, For fitting the models, let's divide **X1, X2 and X3** in training and evaluation data to avoid 'In-sample scores', in a proporcion 80%-20%:"
   ]
  },
  {
   "cell_type": "code",
   "execution_count": 75,
   "metadata": {},
   "outputs": [],
   "source": [
    "from sklearn.model_selection import train_test_split"
   ]
  },
  {
   "cell_type": "markdown",
   "metadata": {},
   "source": [
    "For **X1**:"
   ]
  },
  {
   "cell_type": "code",
   "execution_count": 76,
   "metadata": {},
   "outputs": [],
   "source": [
    "train_X1, val_X1, train_y1, val_y1 = train_test_split(X1, y, train_size=0.8, test_size=0.2, random_state=0)"
   ]
  },
  {
   "cell_type": "code",
   "execution_count": 77,
   "metadata": {
    "scrolled": true
   },
   "outputs": [
    {
     "data": {
      "text/plain": [
       "(1168, 5)"
      ]
     },
     "execution_count": 77,
     "metadata": {},
     "output_type": "execute_result"
    }
   ],
   "source": [
    "train_X1.shape"
   ]
  },
  {
   "cell_type": "code",
   "execution_count": 78,
   "metadata": {},
   "outputs": [
    {
     "data": {
      "text/plain": [
       "(292, 5)"
      ]
     },
     "execution_count": 78,
     "metadata": {},
     "output_type": "execute_result"
    }
   ],
   "source": [
    "val_X1.shape"
   ]
  },
  {
   "cell_type": "code",
   "execution_count": 79,
   "metadata": {},
   "outputs": [
    {
     "data": {
      "text/plain": [
       "(1168,)"
      ]
     },
     "execution_count": 79,
     "metadata": {},
     "output_type": "execute_result"
    }
   ],
   "source": [
    "train_y1.shape"
   ]
  },
  {
   "cell_type": "code",
   "execution_count": 80,
   "metadata": {},
   "outputs": [
    {
     "data": {
      "text/plain": [
       "(292,)"
      ]
     },
     "execution_count": 80,
     "metadata": {},
     "output_type": "execute_result"
    }
   ],
   "source": [
    "val_y1.shape"
   ]
  },
  {
   "cell_type": "code",
   "execution_count": 81,
   "metadata": {
    "scrolled": true
   },
   "outputs": [
    {
     "data": {
      "text/html": [
       "<div>\n",
       "<style scoped>\n",
       "    .dataframe tbody tr th:only-of-type {\n",
       "        vertical-align: middle;\n",
       "    }\n",
       "\n",
       "    .dataframe tbody tr th {\n",
       "        vertical-align: top;\n",
       "    }\n",
       "\n",
       "    .dataframe thead th {\n",
       "        text-align: right;\n",
       "    }\n",
       "</style>\n",
       "<table border=\"1\" class=\"dataframe\">\n",
       "  <thead>\n",
       "    <tr style=\"text-align: right;\">\n",
       "      <th></th>\n",
       "      <th>1stFlrSF</th>\n",
       "      <th>2ndFlrSF</th>\n",
       "      <th>Condition1N</th>\n",
       "      <th>YearBuilt</th>\n",
       "      <th>OverallQual</th>\n",
       "    </tr>\n",
       "  </thead>\n",
       "  <tbody>\n",
       "    <tr>\n",
       "      <th>count</th>\n",
       "      <td>1168.000000</td>\n",
       "      <td>1168.000000</td>\n",
       "      <td>1168.000000</td>\n",
       "      <td>1168.000000</td>\n",
       "      <td>1168.000000</td>\n",
       "    </tr>\n",
       "    <tr>\n",
       "      <th>mean</th>\n",
       "      <td>1160.958904</td>\n",
       "      <td>351.479452</td>\n",
       "      <td>8.673801</td>\n",
       "      <td>1970.890411</td>\n",
       "      <td>6.086473</td>\n",
       "    </tr>\n",
       "    <tr>\n",
       "      <th>std</th>\n",
       "      <td>373.315037</td>\n",
       "      <td>438.137938</td>\n",
       "      <td>1.062212</td>\n",
       "      <td>30.407486</td>\n",
       "      <td>1.367472</td>\n",
       "    </tr>\n",
       "    <tr>\n",
       "      <th>min</th>\n",
       "      <td>334.000000</td>\n",
       "      <td>0.000000</td>\n",
       "      <td>1.000000</td>\n",
       "      <td>1872.000000</td>\n",
       "      <td>1.000000</td>\n",
       "    </tr>\n",
       "    <tr>\n",
       "      <th>25%</th>\n",
       "      <td>884.000000</td>\n",
       "      <td>0.000000</td>\n",
       "      <td>9.000000</td>\n",
       "      <td>1953.750000</td>\n",
       "      <td>5.000000</td>\n",
       "    </tr>\n",
       "    <tr>\n",
       "      <th>50%</th>\n",
       "      <td>1092.000000</td>\n",
       "      <td>0.000000</td>\n",
       "      <td>9.000000</td>\n",
       "      <td>1972.000000</td>\n",
       "      <td>6.000000</td>\n",
       "    </tr>\n",
       "    <tr>\n",
       "      <th>75%</th>\n",
       "      <td>1389.250000</td>\n",
       "      <td>729.000000</td>\n",
       "      <td>9.000000</td>\n",
       "      <td>2000.000000</td>\n",
       "      <td>7.000000</td>\n",
       "    </tr>\n",
       "    <tr>\n",
       "      <th>max</th>\n",
       "      <td>3228.000000</td>\n",
       "      <td>1872.000000</td>\n",
       "      <td>9.000000</td>\n",
       "      <td>2010.000000</td>\n",
       "      <td>10.000000</td>\n",
       "    </tr>\n",
       "  </tbody>\n",
       "</table>\n",
       "</div>"
      ],
      "text/plain": [
       "          1stFlrSF     2ndFlrSF  Condition1N    YearBuilt  OverallQual\n",
       "count  1168.000000  1168.000000  1168.000000  1168.000000  1168.000000\n",
       "mean   1160.958904   351.479452     8.673801  1970.890411     6.086473\n",
       "std     373.315037   438.137938     1.062212    30.407486     1.367472\n",
       "min     334.000000     0.000000     1.000000  1872.000000     1.000000\n",
       "25%     884.000000     0.000000     9.000000  1953.750000     5.000000\n",
       "50%    1092.000000     0.000000     9.000000  1972.000000     6.000000\n",
       "75%    1389.250000   729.000000     9.000000  2000.000000     7.000000\n",
       "max    3228.000000  1872.000000     9.000000  2010.000000    10.000000"
      ]
     },
     "execution_count": 81,
     "metadata": {},
     "output_type": "execute_result"
    }
   ],
   "source": [
    "train_X1.describe()"
   ]
  },
  {
   "cell_type": "markdown",
   "metadata": {},
   "source": [
    "For **X2**:"
   ]
  },
  {
   "cell_type": "code",
   "execution_count": 82,
   "metadata": {},
   "outputs": [],
   "source": [
    "train_X2, val_X2, train_y2, val_y2 = train_test_split(X2, y, train_size=0.8, test_size=0.2, random_state=0)"
   ]
  },
  {
   "cell_type": "code",
   "execution_count": 83,
   "metadata": {
    "scrolled": true
   },
   "outputs": [
    {
     "data": {
      "text/plain": [
       "(1168, 8)"
      ]
     },
     "execution_count": 83,
     "metadata": {},
     "output_type": "execute_result"
    }
   ],
   "source": [
    "train_X2.shape"
   ]
  },
  {
   "cell_type": "code",
   "execution_count": 84,
   "metadata": {},
   "outputs": [
    {
     "data": {
      "text/plain": [
       "(292, 8)"
      ]
     },
     "execution_count": 84,
     "metadata": {},
     "output_type": "execute_result"
    }
   ],
   "source": [
    "val_X2.shape"
   ]
  },
  {
   "cell_type": "code",
   "execution_count": 85,
   "metadata": {},
   "outputs": [
    {
     "data": {
      "text/plain": [
       "(1168,)"
      ]
     },
     "execution_count": 85,
     "metadata": {},
     "output_type": "execute_result"
    }
   ],
   "source": [
    "train_y2.shape"
   ]
  },
  {
   "cell_type": "code",
   "execution_count": 86,
   "metadata": {},
   "outputs": [
    {
     "data": {
      "text/plain": [
       "(292,)"
      ]
     },
     "execution_count": 86,
     "metadata": {},
     "output_type": "execute_result"
    }
   ],
   "source": [
    "val_y2.shape"
   ]
  },
  {
   "cell_type": "code",
   "execution_count": 87,
   "metadata": {
    "scrolled": true
   },
   "outputs": [
    {
     "data": {
      "text/html": [
       "<div>\n",
       "<style scoped>\n",
       "    .dataframe tbody tr th:only-of-type {\n",
       "        vertical-align: middle;\n",
       "    }\n",
       "\n",
       "    .dataframe tbody tr th {\n",
       "        vertical-align: top;\n",
       "    }\n",
       "\n",
       "    .dataframe thead th {\n",
       "        text-align: right;\n",
       "    }\n",
       "</style>\n",
       "<table border=\"1\" class=\"dataframe\">\n",
       "  <thead>\n",
       "    <tr style=\"text-align: right;\">\n",
       "      <th></th>\n",
       "      <th>1stFlrSF</th>\n",
       "      <th>2ndFlrSF</th>\n",
       "      <th>Condition1N</th>\n",
       "      <th>YearBuilt</th>\n",
       "      <th>OverallQual</th>\n",
       "      <th>LotArea</th>\n",
       "      <th>GarageCars</th>\n",
       "      <th>TotalFullbath</th>\n",
       "    </tr>\n",
       "  </thead>\n",
       "  <tbody>\n",
       "    <tr>\n",
       "      <th>count</th>\n",
       "      <td>1168.000000</td>\n",
       "      <td>1168.000000</td>\n",
       "      <td>1168.000000</td>\n",
       "      <td>1168.000000</td>\n",
       "      <td>1168.000000</td>\n",
       "      <td>1168.000000</td>\n",
       "      <td>1168.000000</td>\n",
       "      <td>1168.00000</td>\n",
       "    </tr>\n",
       "    <tr>\n",
       "      <th>mean</th>\n",
       "      <td>1160.958904</td>\n",
       "      <td>351.479452</td>\n",
       "      <td>8.673801</td>\n",
       "      <td>1970.890411</td>\n",
       "      <td>6.086473</td>\n",
       "      <td>10589.672945</td>\n",
       "      <td>1.771404</td>\n",
       "      <td>1.98887</td>\n",
       "    </tr>\n",
       "    <tr>\n",
       "      <th>std</th>\n",
       "      <td>373.315037</td>\n",
       "      <td>438.137938</td>\n",
       "      <td>1.062212</td>\n",
       "      <td>30.407486</td>\n",
       "      <td>1.367472</td>\n",
       "      <td>10704.180793</td>\n",
       "      <td>0.730041</td>\n",
       "      <td>0.72939</td>\n",
       "    </tr>\n",
       "    <tr>\n",
       "      <th>min</th>\n",
       "      <td>334.000000</td>\n",
       "      <td>0.000000</td>\n",
       "      <td>1.000000</td>\n",
       "      <td>1872.000000</td>\n",
       "      <td>1.000000</td>\n",
       "      <td>1300.000000</td>\n",
       "      <td>0.000000</td>\n",
       "      <td>1.00000</td>\n",
       "    </tr>\n",
       "    <tr>\n",
       "      <th>25%</th>\n",
       "      <td>884.000000</td>\n",
       "      <td>0.000000</td>\n",
       "      <td>9.000000</td>\n",
       "      <td>1953.750000</td>\n",
       "      <td>5.000000</td>\n",
       "      <td>7589.500000</td>\n",
       "      <td>1.000000</td>\n",
       "      <td>1.00000</td>\n",
       "    </tr>\n",
       "    <tr>\n",
       "      <th>50%</th>\n",
       "      <td>1092.000000</td>\n",
       "      <td>0.000000</td>\n",
       "      <td>9.000000</td>\n",
       "      <td>1972.000000</td>\n",
       "      <td>6.000000</td>\n",
       "      <td>9512.500000</td>\n",
       "      <td>2.000000</td>\n",
       "      <td>2.00000</td>\n",
       "    </tr>\n",
       "    <tr>\n",
       "      <th>75%</th>\n",
       "      <td>1389.250000</td>\n",
       "      <td>729.000000</td>\n",
       "      <td>9.000000</td>\n",
       "      <td>2000.000000</td>\n",
       "      <td>7.000000</td>\n",
       "      <td>11601.500000</td>\n",
       "      <td>2.000000</td>\n",
       "      <td>2.00000</td>\n",
       "    </tr>\n",
       "    <tr>\n",
       "      <th>max</th>\n",
       "      <td>3228.000000</td>\n",
       "      <td>1872.000000</td>\n",
       "      <td>9.000000</td>\n",
       "      <td>2010.000000</td>\n",
       "      <td>10.000000</td>\n",
       "      <td>215245.000000</td>\n",
       "      <td>4.000000</td>\n",
       "      <td>6.00000</td>\n",
       "    </tr>\n",
       "  </tbody>\n",
       "</table>\n",
       "</div>"
      ],
      "text/plain": [
       "          1stFlrSF     2ndFlrSF  Condition1N    YearBuilt  OverallQual  \\\n",
       "count  1168.000000  1168.000000  1168.000000  1168.000000  1168.000000   \n",
       "mean   1160.958904   351.479452     8.673801  1970.890411     6.086473   \n",
       "std     373.315037   438.137938     1.062212    30.407486     1.367472   \n",
       "min     334.000000     0.000000     1.000000  1872.000000     1.000000   \n",
       "25%     884.000000     0.000000     9.000000  1953.750000     5.000000   \n",
       "50%    1092.000000     0.000000     9.000000  1972.000000     6.000000   \n",
       "75%    1389.250000   729.000000     9.000000  2000.000000     7.000000   \n",
       "max    3228.000000  1872.000000     9.000000  2010.000000    10.000000   \n",
       "\n",
       "             LotArea   GarageCars  TotalFullbath  \n",
       "count    1168.000000  1168.000000     1168.00000  \n",
       "mean    10589.672945     1.771404        1.98887  \n",
       "std     10704.180793     0.730041        0.72939  \n",
       "min      1300.000000     0.000000        1.00000  \n",
       "25%      7589.500000     1.000000        1.00000  \n",
       "50%      9512.500000     2.000000        2.00000  \n",
       "75%     11601.500000     2.000000        2.00000  \n",
       "max    215245.000000     4.000000        6.00000  "
      ]
     },
     "execution_count": 87,
     "metadata": {},
     "output_type": "execute_result"
    }
   ],
   "source": [
    "train_X2.describe()"
   ]
  },
  {
   "cell_type": "markdown",
   "metadata": {},
   "source": [
    "For **X3**:"
   ]
  },
  {
   "cell_type": "code",
   "execution_count": 88,
   "metadata": {},
   "outputs": [],
   "source": [
    "train_X3, val_X3, train_y3, val_y3 = train_test_split(X3, y, train_size=0.8, test_size=0.2, random_state=0)"
   ]
  },
  {
   "cell_type": "code",
   "execution_count": 89,
   "metadata": {
    "scrolled": true
   },
   "outputs": [
    {
     "data": {
      "text/plain": [
       "(1168, 5)"
      ]
     },
     "execution_count": 89,
     "metadata": {},
     "output_type": "execute_result"
    }
   ],
   "source": [
    "train_X3.shape"
   ]
  },
  {
   "cell_type": "code",
   "execution_count": 90,
   "metadata": {},
   "outputs": [
    {
     "data": {
      "text/plain": [
       "(292, 5)"
      ]
     },
     "execution_count": 90,
     "metadata": {},
     "output_type": "execute_result"
    }
   ],
   "source": [
    "val_X3.shape"
   ]
  },
  {
   "cell_type": "code",
   "execution_count": 91,
   "metadata": {},
   "outputs": [
    {
     "data": {
      "text/plain": [
       "(1168,)"
      ]
     },
     "execution_count": 91,
     "metadata": {},
     "output_type": "execute_result"
    }
   ],
   "source": [
    "train_y3.shape"
   ]
  },
  {
   "cell_type": "code",
   "execution_count": 92,
   "metadata": {},
   "outputs": [
    {
     "data": {
      "text/plain": [
       "(292,)"
      ]
     },
     "execution_count": 92,
     "metadata": {},
     "output_type": "execute_result"
    }
   ],
   "source": [
    "val_y3.shape"
   ]
  },
  {
   "cell_type": "code",
   "execution_count": 93,
   "metadata": {},
   "outputs": [
    {
     "data": {
      "text/html": [
       "<div>\n",
       "<style scoped>\n",
       "    .dataframe tbody tr th:only-of-type {\n",
       "        vertical-align: middle;\n",
       "    }\n",
       "\n",
       "    .dataframe tbody tr th {\n",
       "        vertical-align: top;\n",
       "    }\n",
       "\n",
       "    .dataframe thead th {\n",
       "        text-align: right;\n",
       "    }\n",
       "</style>\n",
       "<table border=\"1\" class=\"dataframe\">\n",
       "  <thead>\n",
       "    <tr style=\"text-align: right;\">\n",
       "      <th></th>\n",
       "      <th>1stFlrSF</th>\n",
       "      <th>YearBuilt</th>\n",
       "      <th>OverallQual</th>\n",
       "      <th>TotalFullbath</th>\n",
       "      <th>GarageCars</th>\n",
       "    </tr>\n",
       "  </thead>\n",
       "  <tbody>\n",
       "    <tr>\n",
       "      <th>count</th>\n",
       "      <td>1168.000000</td>\n",
       "      <td>1168.000000</td>\n",
       "      <td>1168.000000</td>\n",
       "      <td>1168.00000</td>\n",
       "      <td>1168.000000</td>\n",
       "    </tr>\n",
       "    <tr>\n",
       "      <th>mean</th>\n",
       "      <td>1160.958904</td>\n",
       "      <td>1970.890411</td>\n",
       "      <td>6.086473</td>\n",
       "      <td>1.98887</td>\n",
       "      <td>1.771404</td>\n",
       "    </tr>\n",
       "    <tr>\n",
       "      <th>std</th>\n",
       "      <td>373.315037</td>\n",
       "      <td>30.407486</td>\n",
       "      <td>1.367472</td>\n",
       "      <td>0.72939</td>\n",
       "      <td>0.730041</td>\n",
       "    </tr>\n",
       "    <tr>\n",
       "      <th>min</th>\n",
       "      <td>334.000000</td>\n",
       "      <td>1872.000000</td>\n",
       "      <td>1.000000</td>\n",
       "      <td>1.00000</td>\n",
       "      <td>0.000000</td>\n",
       "    </tr>\n",
       "    <tr>\n",
       "      <th>25%</th>\n",
       "      <td>884.000000</td>\n",
       "      <td>1953.750000</td>\n",
       "      <td>5.000000</td>\n",
       "      <td>1.00000</td>\n",
       "      <td>1.000000</td>\n",
       "    </tr>\n",
       "    <tr>\n",
       "      <th>50%</th>\n",
       "      <td>1092.000000</td>\n",
       "      <td>1972.000000</td>\n",
       "      <td>6.000000</td>\n",
       "      <td>2.00000</td>\n",
       "      <td>2.000000</td>\n",
       "    </tr>\n",
       "    <tr>\n",
       "      <th>75%</th>\n",
       "      <td>1389.250000</td>\n",
       "      <td>2000.000000</td>\n",
       "      <td>7.000000</td>\n",
       "      <td>2.00000</td>\n",
       "      <td>2.000000</td>\n",
       "    </tr>\n",
       "    <tr>\n",
       "      <th>max</th>\n",
       "      <td>3228.000000</td>\n",
       "      <td>2010.000000</td>\n",
       "      <td>10.000000</td>\n",
       "      <td>6.00000</td>\n",
       "      <td>4.000000</td>\n",
       "    </tr>\n",
       "  </tbody>\n",
       "</table>\n",
       "</div>"
      ],
      "text/plain": [
       "          1stFlrSF    YearBuilt  OverallQual  TotalFullbath   GarageCars\n",
       "count  1168.000000  1168.000000  1168.000000     1168.00000  1168.000000\n",
       "mean   1160.958904  1970.890411     6.086473        1.98887     1.771404\n",
       "std     373.315037    30.407486     1.367472        0.72939     0.730041\n",
       "min     334.000000  1872.000000     1.000000        1.00000     0.000000\n",
       "25%     884.000000  1953.750000     5.000000        1.00000     1.000000\n",
       "50%    1092.000000  1972.000000     6.000000        2.00000     2.000000\n",
       "75%    1389.250000  2000.000000     7.000000        2.00000     2.000000\n",
       "max    3228.000000  2010.000000    10.000000        6.00000     4.000000"
      ]
     },
     "execution_count": 93,
     "metadata": {},
     "output_type": "execute_result"
    }
   ],
   "source": [
    "train_X3.describe()"
   ]
  },
  {
   "cell_type": "markdown",
   "metadata": {},
   "source": [
    "### Now, it's time to fit each model:"
   ]
  },
  {
   "cell_type": "code",
   "execution_count": 94,
   "metadata": {},
   "outputs": [],
   "source": [
    "model_1=melbourne_model.fit(train_X1, train_y1)"
   ]
  },
  {
   "cell_type": "code",
   "execution_count": 95,
   "metadata": {},
   "outputs": [],
   "source": [
    "model_2=melbourne_model.fit(train_X2, train_y2)"
   ]
  },
  {
   "cell_type": "code",
   "execution_count": 96,
   "metadata": {},
   "outputs": [],
   "source": [
    "model_3=melbourne_model.fit(train_X3, train_y3)"
   ]
  },
  {
   "cell_type": "markdown",
   "metadata": {},
   "source": [
    "#### G.2.3. - Predictions with models:"
   ]
  },
  {
   "cell_type": "markdown",
   "metadata": {},
   "source": [
    "Now, Let's get the 'predicted prices' for each model with the validation data."
   ]
  },
  {
   "cell_type": "markdown",
   "metadata": {},
   "source": [
    "For  _**model_1**_:"
   ]
  },
  {
   "cell_type": "code",
   "execution_count": 97,
   "metadata": {},
   "outputs": [
    {
     "data": {
      "text/plain": [
       "array([325000., 140000., 475000., 475000., 475000., 475000., 214500.,\n",
       "       475000., 611657., 475000., 475000., 424870., 475000., 475000.,\n",
       "       320000., 475000., 475000., 475000., 475000., 475000., 140000.,\n",
       "       475000.,  95000., 475000., 475000., 140000., 475000., 475000.,\n",
       "       325000., 475000., 325000., 475000., 475000., 475000., 325000.,\n",
       "       475000., 325000., 475000., 475000., 475000., 325000., 475000.,\n",
       "       475000., 325000., 475000., 325000., 424870., 475000., 475000.,\n",
       "       475000., 325000., 475000., 475000., 424870., 325000., 475000.,\n",
       "       475000., 475000., 424870., 475000., 424870., 475000., 475000.,\n",
       "       475000., 325000., 475000., 475000., 475000., 475000., 475000.,\n",
       "       475000., 320000., 475000., 475000., 475000., 325000., 475000.,\n",
       "       239000., 475000., 475000., 475000., 475000., 475000., 475000.,\n",
       "       325000., 475000., 144000., 475000., 475000., 475000., 475000.,\n",
       "       475000., 475000., 475000., 475000., 475000., 475000., 475000.,\n",
       "       475000., 475000., 325000., 475000., 320000., 475000., 475000.,\n",
       "       475000., 475000., 475000., 239000., 475000., 475000., 424870.,\n",
       "       475000., 144000., 475000., 475000., 325000., 424870., 475000.,\n",
       "       475000., 475000., 475000., 475000., 424870., 325000., 475000.,\n",
       "       325000., 475000., 475000., 325000., 475000., 475000., 424870.,\n",
       "       475000., 475000., 256000., 475000., 475000., 475000., 475000.,\n",
       "       475000., 475000., 325000., 475000., 424870., 475000., 475000.,\n",
       "       475000., 325000., 475000., 475000., 325000., 325000., 424870.,\n",
       "       475000., 239000., 475000., 475000., 424870., 475000., 475000.,\n",
       "       475000., 475000., 239000., 256000., 320000., 475000., 475000.,\n",
       "       475000., 475000., 320000., 475000., 475000., 475000., 320000.,\n",
       "       475000., 475000., 325000., 145000., 475000., 475000., 475000.,\n",
       "       475000., 325000., 475000., 475000., 475000., 475000., 475000.,\n",
       "       475000., 475000., 475000., 325000., 475000., 239000., 475000.,\n",
       "       475000., 475000., 475000., 475000., 475000., 475000., 475000.,\n",
       "       475000., 475000., 320000., 475000.,  87000., 325000., 475000.,\n",
       "        87000., 325000., 475000., 475000., 325000., 475000., 475000.,\n",
       "       325000., 325000., 475000., 475000., 475000., 424870., 475000.,\n",
       "       475000., 475000., 475000., 160000., 424870., 475000., 475000.,\n",
       "       424870., 475000., 475000., 475000., 475000., 475000., 475000.,\n",
       "       475000., 475000., 475000., 239000., 475000., 475000., 424870.,\n",
       "       475000., 475000., 475000., 475000., 475000., 475000., 475000.,\n",
       "       424870., 475000., 475000., 325000., 475000., 325000., 325000.,\n",
       "       268000., 475000., 144000., 475000., 475000., 160000., 325000.,\n",
       "       325000., 424870., 475000., 325000., 475000., 475000., 475000.,\n",
       "       325000., 475000., 475000., 475000., 475000., 475000., 475000.,\n",
       "       475000., 325000., 475000., 320000., 475000., 325000., 475000.,\n",
       "       325000., 325000., 320000., 475000., 475000.])"
      ]
     },
     "execution_count": 97,
     "metadata": {},
     "output_type": "execute_result"
    }
   ],
   "source": [
    "val_predictions1 = model_1.predict(val_X1)\n",
    "val_predictions1"
   ]
  },
  {
   "cell_type": "code",
   "execution_count": 98,
   "metadata": {
    "scrolled": true
   },
   "outputs": [
    {
     "data": {
      "text/plain": [
       "(292,)"
      ]
     },
     "execution_count": 98,
     "metadata": {},
     "output_type": "execute_result"
    }
   ],
   "source": [
    "val_predictions1.shape"
   ]
  },
  {
   "cell_type": "code",
   "execution_count": 99,
   "metadata": {},
   "outputs": [
    {
     "data": {
      "text/plain": [
       "424499.37328767125"
      ]
     },
     "execution_count": 99,
     "metadata": {},
     "output_type": "execute_result"
    }
   ],
   "source": [
    "val_predictions1.mean()"
   ]
  },
  {
   "cell_type": "markdown",
   "metadata": {},
   "source": [
    "For  _**model_3**_:"
   ]
  },
  {
   "cell_type": "code",
   "execution_count": 100,
   "metadata": {},
   "outputs": [
    {
     "data": {
      "text/plain": [
       "array([223000.        , 132000.        , 142125.        , 190000.        ,\n",
       "        84500.        , 127000.        , 315000.        , 105000.        ,\n",
       "       625000.        , 147517.33333333, 181134.        , 135000.        ,\n",
       "       230000.        , 138500.        , 154500.        , 153000.        ,\n",
       "       236000.        ,  94750.        , 147500.        , 140000.        ,\n",
       "       124500.        , 145575.        , 129900.        , 185000.        ,\n",
       "       187500.        , 220000.        , 177000.        ,  97000.        ,\n",
       "       328900.        , 107500.        , 155000.        , 236000.        ,\n",
       "       147000.        , 354000.        , 253293.        , 189000.        ,\n",
       "       325000.        , 142500.        , 219500.        , 212000.        ,\n",
       "       167000.        , 168000.        , 200141.        , 319000.        ,\n",
       "       305000.        , 141000.        , 115000.        , 138500.        ,\n",
       "       147000.        , 111000.        , 325000.        , 146000.        ,\n",
       "       112000.        ,  96500.        , 262280.        , 120500.        ,\n",
       "       157500.        , 275500.        , 139950.        , 130500.        ,\n",
       "       151000.        , 136500.        , 154000.        , 146000.        ,\n",
       "       222000.        , 185750.        , 112500.        , 226700.        ,\n",
       "       157500.        , 219500.        , 184000.        , 179500.        ,\n",
       "        81000.        , 302000.        , 135750.        , 250000.        ,\n",
       "       132500.        ,  96500.        , 185850.        ,  60000.        ,\n",
       "       135960.        , 133500.        , 116500.        , 156000.        ,\n",
       "       225000.        , 226000.        ,  98000.        , 202500.        ,\n",
       "       208300.        , 154500.        , 177000.        , 179900.        ,\n",
       "       168000.        , 237000.        , 239799.        , 148000.        ,\n",
       "       210000.        , 133900.        , 120500.        , 170000.        ,\n",
       "       220000.        , 160000.        , 144000.        , 149500.        ,\n",
       "       128000.        , 261500.        , 152000.        , 135750.        ,\n",
       "       173900.        , 128000.        , 153575.        , 107000.        ,\n",
       "       206900.        , 130000.        , 184000.        , 179900.        ,\n",
       "       380000.        , 127000.        , 158000.        , 252000.        ,\n",
       "       253000.        , 168300.        , 117000.        , 205000.        ,\n",
       "       201000.        , 224000.        , 380000.        , 203000.        ,\n",
       "       167240.        , 185000.        , 320000.        , 239799.        ,\n",
       "       145000.        , 272000.        , 102776.        , 260400.        ,\n",
       "       132000.        , 200000.        , 111000.        , 178000.        ,\n",
       "       115000.        , 157000.        , 167000.        , 129900.        ,\n",
       "        90000.        , 185000.        , 276000.        , 136500.        ,\n",
       "       437154.        , 203000.        , 277000.        , 264132.        ,\n",
       "       314813.        , 225000.        , 122000.        , 375000.        ,\n",
       "       108000.        , 220000.        ,  93000.        , 195000.        ,\n",
       "       120500.        , 162000.        , 184000.        , 132250.        ,\n",
       "       227000.        , 108000.        , 167000.        , 290000.        ,\n",
       "       210000.        , 172400.        , 163000.        , 124000.        ,\n",
       "       167250.        , 173000.        , 115000.        ,  84500.        ,\n",
       "       143000.        , 185000.        , 130000.        , 144000.        ,\n",
       "       212000.        , 170000.        , 128000.        , 372402.        ,\n",
       "       141000.        , 155000.        ,  87450.        , 206000.        ,\n",
       "       239799.        , 145575.        , 152000.        , 170000.        ,\n",
       "       220000.        , 132500.        , 100000.        , 147000.        ,\n",
       "        86000.        , 143000.        , 154000.        , 129500.        ,\n",
       "       144000.        , 192000.        , 113000.        , 102000.        ,\n",
       "       135900.        , 155000.        , 147500.        , 446261.        ,\n",
       "       147000.        ,  58500.        , 157000.        , 278000.        ,\n",
       "        93500.        , 128000.        , 755000.        , 277000.        ,\n",
       "       157000.        , 202500.        , 250000.        ,  75500.        ,\n",
       "       235000.        , 161500.        , 118400.        , 127000.        ,\n",
       "       186000.        , 235000.        , 302000.        , 197900.        ,\n",
       "       155000.        , 157000.        ,  93500.        , 116900.        ,\n",
       "        85500.        , 171000.        , 222000.        , 120500.        ,\n",
       "       135900.        , 107500.        , 128950.        , 257500.        ,\n",
       "       130500.        , 169000.        , 231500.        , 237000.        ,\n",
       "       171500.        , 215000.        , 202500.        , 184000.        ,\n",
       "       105000.        , 204000.        , 127500.        , 252000.        ,\n",
       "        87000.        , 350000.        , 262500.        , 241500.        ,\n",
       "        80000.        , 174000.        , 424870.        , 184750.        ,\n",
       "       227000.        , 100000.        , 136500.        , 113000.        ,\n",
       "       465000.        , 395192.        , 268000.        ,  40000.        ,\n",
       "       311500.        , 318000.        , 159434.        , 169500.        ,\n",
       "       179500.        , 215000.        , 130000.        , 230000.        ,\n",
       "       215000.        , 140000.        , 215000.        , 118500.        ,\n",
       "       142500.        , 556581.        , 109000.        , 127000.        ,\n",
       "       176485.        , 160000.        , 133900.        , 275000.        ,\n",
       "       466500.        , 165500.        ,  52500.        ,  78000.        ])"
      ]
     },
     "execution_count": 100,
     "metadata": {},
     "output_type": "execute_result"
    }
   ],
   "source": [
    "val_predictions3 = model_3.predict(val_X3)\n",
    "val_predictions3"
   ]
  },
  {
   "cell_type": "code",
   "execution_count": 101,
   "metadata": {},
   "outputs": [
    {
     "data": {
      "text/plain": [
       "(292,)"
      ]
     },
     "execution_count": 101,
     "metadata": {},
     "output_type": "execute_result"
    }
   ],
   "source": [
    "val_predictions3.shape"
   ]
  },
  {
   "cell_type": "code",
   "execution_count": 102,
   "metadata": {},
   "outputs": [
    {
     "data": {
      "text/plain": [
       "185291.3093607306"
      ]
     },
     "execution_count": 102,
     "metadata": {},
     "output_type": "execute_result"
    }
   ],
   "source": [
    "val_predictions3.mean()"
   ]
  },
  {
   "cell_type": "markdown",
   "metadata": {},
   "source": [
    "For  _**model_2**_:"
   ]
  },
  {
   "cell_type": "code",
   "execution_count": 103,
   "metadata": {},
   "outputs": [
    {
     "data": {
      "text/plain": [
       "array([257500., 140200., 119000., 205000.,  87450.,  91500., 295493.,\n",
       "       109000., 755000., 180000., 171750., 218000., 250000., 144000.,\n",
       "        67000., 153000., 236000.,  93500., 148000., 116900., 140000.,\n",
       "       149000., 129900., 185000., 207500., 227000., 177000.,  86000.,\n",
       "       337500., 119000., 160000., 194500., 107000., 309000., 253293.,\n",
       "       274725., 285000., 133000., 222500., 315000., 150900., 153000.,\n",
       "       185500., 319000., 310000., 136500., 115000., 144000., 187000.,\n",
       "        83000., 582933., 146000., 165000.,  35311., 225000., 120500.,\n",
       "       110000., 252000., 140000., 124900., 160000., 136500., 147500.,\n",
       "       148000., 193000., 176500., 112500., 201800.,  73000., 201800.,\n",
       "       180000.,  67000., 128000., 225000., 135750., 250000., 137000.,\n",
       "        96500., 280000.,  60000., 135000., 130000., 154900., 122000.,\n",
       "       225000., 185850.,  87000., 202500., 176432., 142125., 216500.,\n",
       "       231500., 185000., 230000., 159895., 147500., 226000., 224000.,\n",
       "       120500., 141500., 260400., 230000., 144500., 177000.,  76000.,\n",
       "       267000., 156000., 102776., 177000.,  94000.,  86000., 127000.,\n",
       "       180000., 122900., 130000., 177000., 380000., 127000., 157900.,\n",
       "       275500., 189000., 160200., 131500., 200000., 227000., 250580.,\n",
       "       380000., 207500., 230000., 196000., 185850., 206000., 129000.,\n",
       "       175500.,  88000., 157000., 127500., 185850., 125000., 177000.,\n",
       "       115000., 157000., 257500., 126500., 111250., 185000., 227000.,\n",
       "       124500., 318061., 260000., 174000., 320000., 337500., 225000.,\n",
       "       122000., 320000., 109900., 184100.,  93000., 168500., 137500.,\n",
       "       148000., 241000., 137500., 235128.,  91500., 167000., 260000.,\n",
       "       185850., 172400., 215000., 169000., 194700., 155000., 145000.,\n",
       "       108000., 132500., 272000., 130000., 152000., 280000., 162900.,\n",
       "       128000., 372402., 141000., 154000.,  87450., 206000., 171750.,\n",
       "       149000., 132500., 145250., 220000., 147000., 140000., 155000.,\n",
       "        86000., 143000., 216500., 129500., 127000., 192000., 124900.,\n",
       "        93500., 128000., 172500., 148000., 426000., 147000.,  58500.,\n",
       "       145000., 278000.,  93500., 109500., 326000., 274970., 190000.,\n",
       "       250000., 250000.,  75500., 202500., 235000., 124000., 127000.,\n",
       "       186000., 214900., 261500., 274970., 154000., 170000.,  93500.,\n",
       "       140000.,  88000., 171000., 244400., 152000., 146500., 107500.,\n",
       "       128950., 257500., 133900., 214000., 231500., 199900., 171500.,\n",
       "       192000., 213500., 180000., 105000., 200000., 215000., 239000.,\n",
       "        87000., 342643., 262500., 260400.,  79000., 234000., 424870.,\n",
       "       465000., 227000., 125500., 146500., 112000., 465000., 394432.,\n",
       "       287000.,  80000., 214000., 318000., 127000., 178000.,  91500.,\n",
       "       215000., 135900., 214900., 280000., 311500., 219210.,  83000.,\n",
       "       131500., 556581., 128000., 100000., 207500., 160000., 106250.,\n",
       "       275000., 465000., 165500.,  80500.,  78000.])"
      ]
     },
     "execution_count": 103,
     "metadata": {},
     "output_type": "execute_result"
    }
   ],
   "source": [
    "melbourne_model = DecisionTreeRegressor()\n",
    "model_2=melbourne_model.fit(train_X2, train_y2)\n",
    "val_predictions2 = model_2.predict(val_X2)\n",
    "val_predictions2"
   ]
  },
  {
   "cell_type": "code",
   "execution_count": 104,
   "metadata": {},
   "outputs": [
    {
     "data": {
      "text/plain": [
       "(292,)"
      ]
     },
     "execution_count": 104,
     "metadata": {},
     "output_type": "execute_result"
    }
   ],
   "source": [
    "val_predictions2.shape"
   ]
  },
  {
   "cell_type": "code",
   "execution_count": 105,
   "metadata": {},
   "outputs": [
    {
     "data": {
      "text/plain": [
       "185741.3698630137"
      ]
     },
     "execution_count": 105,
     "metadata": {},
     "output_type": "execute_result"
    }
   ],
   "source": [
    "val_predictions2.mean()"
   ]
  },
  {
   "cell_type": "markdown",
   "metadata": {},
   "source": [
    "We can see that models 2 and 3 have a similar mean prediction, around 183.000-184.000. But model 1 had very high values, around 447000. Let's evaluate the models to determine which one does better:"
   ]
  },
  {
   "cell_type": "markdown",
   "metadata": {},
   "source": [
    "#### G.2.1. - Evaluation of the models:"
   ]
  },
  {
   "cell_type": "markdown",
   "metadata": {},
   "source": [
    "Let's do the evaluation with the MAE(mean absolute error):"
   ]
  },
  {
   "cell_type": "code",
   "execution_count": 106,
   "metadata": {},
   "outputs": [],
   "source": [
    "from sklearn.metrics import mean_absolute_error"
   ]
  },
  {
   "cell_type": "code",
   "execution_count": 107,
   "metadata": {
    "scrolled": true
   },
   "outputs": [
    {
     "data": {
      "text/plain": [
       "254995.32534246575"
      ]
     },
     "execution_count": 107,
     "metadata": {},
     "output_type": "execute_result"
    }
   ],
   "source": [
    "MAE1 = mean_absolute_error(val_y1, val_predictions1)\n",
    "MAE1"
   ]
  },
  {
   "cell_type": "code",
   "execution_count": 108,
   "metadata": {},
   "outputs": [
    {
     "data": {
      "text/plain": [
       "30411.739726027397"
      ]
     },
     "execution_count": 108,
     "metadata": {},
     "output_type": "execute_result"
    }
   ],
   "source": [
    "MAE2 = mean_absolute_error(val_y2, val_predictions2)\n",
    "MAE2"
   ]
  },
  {
   "cell_type": "code",
   "execution_count": 109,
   "metadata": {},
   "outputs": [
    {
     "data": {
      "text/plain": [
       "31932.279680365296"
      ]
     },
     "execution_count": 109,
     "metadata": {},
     "output_type": "execute_result"
    }
   ],
   "source": [
    "MAE3 = mean_absolute_error(val_y3, val_predictions3)\n",
    "MAE3"
   ]
  },
  {
   "cell_type": "markdown",
   "metadata": {},
   "source": [
    "### CONCLUSIONS:"
   ]
  },
  {
   "cell_type": "markdown",
   "metadata": {},
   "source": [
    "The models that performed better in this exercise, where: \n",
    "   * X2 (combined_features). It took the 8 columms that based on intuition we consider would affect the most the model\n",
    "   * X3 (corr_features). The feaures selected based on the correlation with SalePrice.  \n",
    "   \n",
    "Simultaneously, model 1 performs way worst than the other, though the features taken were almost the same as model 2. The reason for this performance can be related to the kind of info used to fit the model. Probably, the info was right skew, and then the results were always too high.\n",
    "\n",
    "The model that performed the best was model 2, giving us a MAE of 28960.67(dollars).  The Mean price of sales is 180921(dollars), hence the error of hour model is in around 17%, which is too high. We have to find the way to optimize even more the model."
   ]
  },
  {
   "cell_type": "markdown",
   "metadata": {},
   "source": [
    "![purple-divider](https://user-images.githubusercontent.com/7065401/52071927-c1cd7100-2562-11e9-908a-dde91ba14e59.png)\n",
    "\n",
    "## 2- MODEL OPTIMIZATION"
   ]
  },
  {
   "cell_type": "markdown",
   "metadata": {},
   "source": [
    "![green-divider](https://user-images.githubusercontent.com/7065401/52071924-c003ad80-2562-11e9-8297-1c6595f8a7ff.png)\n",
    "\n",
    "### A- Determination of optimal tree's depth in Decision tree."
   ]
  },
  {
   "cell_type": "markdown",
   "metadata": {},
   "source": [
    "As the tree gets deeper, the dataset gets sliced up into leaves with fewer houses. The rule followed is: (2)*n= X, where n is the depth of the tree and X is the number of leaves at the bottom.\n",
    "\n",
    "When we divide the houses amongst many leaves, we also have fewer houses in each leaf. Leaves with very few houses will make predictions that are quite close to those homes' actual values, but they may make very unreliable predictions for new data (because each prediction is based on only a few houses). This is a phenomenon called **overfitting**. \n",
    "\n",
    "At an extreme, if a tree divides houses into only 2 or 4, each group still has a wide variety of houses. Resulting predictions may be far off for most houses, even in the training data (and it will be bad in validation too for the same reason). When a model fails to capture important distinctions and patterns in the data, so it performs poorly even in training data, that is called **underfitting**.\n",
    "\n",
    "Since we care about accuracy on new data, which we estimate from our validation data, we want to find the perfect spot between underfitting and overfitting. Visually, we want the low point of the (orange) validation curve in the figure below."
   ]
  },
  {
   "cell_type": "markdown",
   "metadata": {},
   "source": [
    "<img src=\"https://vitalflux.com/wp-content/uploads/2020/12/overfitting-and-underfitting-wrt-model-error-vs-complexity.png\"\n",
    "    style=\"width:600px; float: center; margin: 0 40px 40px 40px;\"></img>"
   ]
  },
  {
   "cell_type": "markdown",
   "metadata": {},
   "source": [
    "For this purpose, let's build a function that allow us to built models taking as argument leaf_nodes for the model X2:"
   ]
  },
  {
   "cell_type": "code",
   "execution_count": 110,
   "metadata": {},
   "outputs": [],
   "source": [
    "def get_mae(max_leaf_nodes):\n",
    "    model = DecisionTreeRegressor(max_leaf_nodes=max_leaf_nodes, random_state=0)\n",
    "    model.fit(train_X2, train_y2)\n",
    "    preds_val = model.predict(val_X2)\n",
    "    mae = mean_absolute_error(val_y2, preds_val)\n",
    "    return(mae)"
   ]
  },
  {
   "cell_type": "markdown",
   "metadata": {},
   "source": [
    "Let's do a quick test of the **get_mae** function:"
   ]
  },
  {
   "cell_type": "code",
   "execution_count": 111,
   "metadata": {},
   "outputs": [
    {
     "data": {
      "text/plain": [
       "44996.39804393829"
      ]
     },
     "execution_count": 111,
     "metadata": {},
     "output_type": "execute_result"
    }
   ],
   "source": [
    "get_mae(2)"
   ]
  },
  {
   "cell_type": "code",
   "execution_count": 112,
   "metadata": {},
   "outputs": [
    {
     "data": {
      "text/plain": [
       "28301.411692836544"
      ]
     },
     "execution_count": 112,
     "metadata": {},
     "output_type": "execute_result"
    }
   ],
   "source": [
    "get_mae(20)"
   ]
  },
  {
   "cell_type": "code",
   "execution_count": 113,
   "metadata": {},
   "outputs": [
    {
     "data": {
      "text/plain": [
       "28112.112673139316"
      ]
     },
     "execution_count": 113,
     "metadata": {},
     "output_type": "execute_result"
    }
   ],
   "source": [
    "get_mae(200)"
   ]
  },
  {
   "cell_type": "code",
   "execution_count": 114,
   "metadata": {},
   "outputs": [
    {
     "data": {
      "text/plain": [
       "29690.18493150685"
      ]
     },
     "execution_count": 114,
     "metadata": {},
     "output_type": "execute_result"
    }
   ],
   "source": [
    "get_mae(2000)"
   ]
  },
  {
   "cell_type": "code",
   "execution_count": 115,
   "metadata": {},
   "outputs": [
    {
     "data": {
      "text/plain": [
       "28405.7699079137"
      ]
     },
     "execution_count": 115,
     "metadata": {},
     "output_type": "execute_result"
    }
   ],
   "source": [
    "get_mae(400)"
   ]
  },
  {
   "cell_type": "markdown",
   "metadata": {},
   "source": [
    "Expressing the content above as a function:"
   ]
  },
  {
   "cell_type": "code",
   "execution_count": 116,
   "metadata": {},
   "outputs": [
    {
     "name": "stdout",
     "output_type": "stream",
     "text": [
      "Max leaf nodes: 2  \t\t Mean Absolute Error:  44996\n",
      "Max leaf nodes: 20  \t\t Mean Absolute Error:  28301\n",
      "Max leaf nodes: 200  \t\t Mean Absolute Error:  28112\n",
      "Max leaf nodes: 400  \t\t Mean Absolute Error:  28405\n",
      "Max leaf nodes: 2000  \t\t Mean Absolute Error:  29690\n"
     ]
    }
   ],
   "source": [
    "for max_leaf_nodes in [2, 20, 200, 400, 2000]:\n",
    "    my_mae = get_mae(max_leaf_nodes)\n",
    "    print(\"Max leaf nodes: %d  \\t\\t Mean Absolute Error:  %d\" %(max_leaf_nodes, my_mae))"
   ]
  },
  {
   "cell_type": "markdown",
   "metadata": {},
   "source": [
    "As we can see, somewhere between 20 and 400 leaves give us the minimun MAE. Let's build a function to find the number of leaves to have the minimum MAE"
   ]
  },
  {
   "cell_type": "code",
   "execution_count": 117,
   "metadata": {},
   "outputs": [],
   "source": [
    "def minimums(get_mae, leaf_nodes):\n",
    "    leaf_nodes = 20\n",
    "    maes = {}\n",
    "    while leaf_nodes<400:\n",
    "        my_mae = get_mae(leaf_nodes)        \n",
    "        maes.update({leaf_nodes: my_mae})\n",
    "        leaf_nodes = leaf_nodes+1\n",
    "    maes_dict = maes\n",
    "    val = maes_dict.values()\n",
    "    minval = min(val)\n",
    "    for i in maes_dict:\n",
    "        if maes_dict[i]== minval:\n",
    "            print(\"Leaf nodes for minimun MAE: %d\" %(i))\n",
    "    return maes_dict"
   ]
  },
  {
   "cell_type": "code",
   "execution_count": 118,
   "metadata": {},
   "outputs": [
    {
     "name": "stdout",
     "output_type": "stream",
     "text": [
      "Leaf nodes for minimun MAE: 74\n",
      "Leaf nodes for minimun MAE: 75\n"
     ]
    },
    {
     "data": {
      "text/plain": [
       "{20: 28301.411692836544,\n",
       " 21: 27665.751731331784,\n",
       " 22: 27464.490886582927,\n",
       " 23: 27912.308645878427,\n",
       " 24: 27516.04455087589,\n",
       " 25: 27266.41506620531,\n",
       " 26: 27512.731130547825,\n",
       " 27: 27672.47466175026,\n",
       " 28: 27768.1888931049,\n",
       " 29: 27909.953080971827,\n",
       " 30: 27768.591019633852,\n",
       " 31: 27553.02027486925,\n",
       " 32: 27490.45927419093,\n",
       " 33: 27032.058298080814,\n",
       " 34: 26714.88016789162,\n",
       " 35: 26852.818157128408,\n",
       " 36: 27385.865645712885,\n",
       " 37: 27487.69612516494,\n",
       " 38: 27142.60639502384,\n",
       " 39: 26825.440789349203,\n",
       " 40: 26721.32969190716,\n",
       " 41: 26504.53249628473,\n",
       " 42: 26361.042998567835,\n",
       " 43: 26193.96200576716,\n",
       " 44: 26248.474459067285,\n",
       " 45: 26500.2447118675,\n",
       " 46: 26401.22471274562,\n",
       " 47: 26521.01029113223,\n",
       " 48: 26588.40613805547,\n",
       " 49: 26646.65850269996,\n",
       " 50: 26662.312378198487,\n",
       " 51: 26669.40368414783,\n",
       " 52: 26955.36258825742,\n",
       " 53: 26955.36258825742,\n",
       " 54: 26996.278250506133,\n",
       " 55: 26944.791949136266,\n",
       " 56: 26790.09342277678,\n",
       " 57: 26813.447423228386,\n",
       " 58: 26590.844683502357,\n",
       " 59: 26436.735094461263,\n",
       " 60: 26140.193998570852,\n",
       " 61: 25963.625048799167,\n",
       " 62: 25808.757142732626,\n",
       " 63: 25556.470901576522,\n",
       " 64: 25503.68546820917,\n",
       " 65: 25288.633413414642,\n",
       " 66: 25123.260622745864,\n",
       " 67: 25040.05485790568,\n",
       " 68: 24854.499035987876,\n",
       " 69: 24950.479092394,\n",
       " 70: 24922.02220278884,\n",
       " 71: 24953.70104601563,\n",
       " 72: 25014.04697078535,\n",
       " 73: 24823.989281509526,\n",
       " 74: 24774.743398017068,\n",
       " 75: 24774.743398017068,\n",
       " 76: 25053.972850071863,\n",
       " 77: 25034.2099780832,\n",
       " 78: 24984.519028963823,\n",
       " 79: 25208.667683747968,\n",
       " 80: 25208.667683747968,\n",
       " 81: 25304.20044630505,\n",
       " 82: 25330.703953008506,\n",
       " 83: 25370.5693169623,\n",
       " 84: 25620.999386678544,\n",
       " 85: 25545.76417668306,\n",
       " 86: 25688.865774856575,\n",
       " 87: 25971.875668311677,\n",
       " 88: 26039.55202901785,\n",
       " 89: 26073.91940100089,\n",
       " 90: 26053.002838111726,\n",
       " 91: 26060.2097704488,\n",
       " 92: 26307.12394645544,\n",
       " 93: 26482.24992492902,\n",
       " 94: 26496.132557022953,\n",
       " 95: 26539.431596216255,\n",
       " 96: 26355.62091128475,\n",
       " 97: 26521.290036679904,\n",
       " 98: 26710.9398083694,\n",
       " 99: 26756.40809251525,\n",
       " 100: 26827.166942876236,\n",
       " 101: 26877.230679558124,\n",
       " 102: 26952.1279398321,\n",
       " 103: 27002.979958685075,\n",
       " 104: 26971.261106760743,\n",
       " 105: 27108.556483473072,\n",
       " 106: 27087.986719916244,\n",
       " 107: 27070.83712690453,\n",
       " 108: 26997.40105384517,\n",
       " 109: 26966.131043101144,\n",
       " 110: 26966.131043101144,\n",
       " 111: 26966.131043101144,\n",
       " 112: 26949.166016118998,\n",
       " 113: 26949.166016118998,\n",
       " 114: 26994.996291722386,\n",
       " 115: 26884.191025131247,\n",
       " 116: 27037.348405707296,\n",
       " 117: 26922.679455935606,\n",
       " 118: 26925.876323381217,\n",
       " 119: 26910.894314434412,\n",
       " 120: 27144.545613629885,\n",
       " 121: 27152.801528947446,\n",
       " 122: 27268.46796730361,\n",
       " 123: 27293.8593567361,\n",
       " 124: 27293.8593567361,\n",
       " 125: 27369.97843362572,\n",
       " 126: 27514.18505463029,\n",
       " 127: 27414.725411106003,\n",
       " 128: 27414.725411106003,\n",
       " 129: 27414.725411106003,\n",
       " 130: 27414.725411106003,\n",
       " 131: 27454.633167732936,\n",
       " 132: 27473.04716149616,\n",
       " 133: 27637.389151093997,\n",
       " 134: 27548.988846679993,\n",
       " 135: 27586.231997364925,\n",
       " 136: 27548.360992798716,\n",
       " 137: 27633.8347546533,\n",
       " 138: 27837.922980354542,\n",
       " 139: 27719.666131039474,\n",
       " 140: 27695.977679745713,\n",
       " 141: 27755.4763098827,\n",
       " 142: 27755.4763098827,\n",
       " 143: 27714.476978924464,\n",
       " 144: 27879.0095136568,\n",
       " 145: 27935.64122027781,\n",
       " 146: 27811.262023393574,\n",
       " 147: 27802.975874230717,\n",
       " 148: 27939.387811608405,\n",
       " 149: 27878.23413689651,\n",
       " 150: 27850.234707672767,\n",
       " 151: 27777.926195146727,\n",
       " 152: 27817.278220101274,\n",
       " 153: 27645.09752049266,\n",
       " 154: 27814.189986246085,\n",
       " 155: 27711.069699227173,\n",
       " 156: 27791.549151281968,\n",
       " 157: 27718.89748787688,\n",
       " 158: 27578.48652897277,\n",
       " 159: 27565.139027754507,\n",
       " 160: 27607.271954829448,\n",
       " 161: 27605.57032811712,\n",
       " 162: 27605.57032811712,\n",
       " 163: 27613.57471408203,\n",
       " 164: 27716.324428693904,\n",
       " 165: 27765.11023193176,\n",
       " 166: 27836.478894091524,\n",
       " 167: 27906.682338275612,\n",
       " 168: 27906.682338275612,\n",
       " 169: 27906.682338275616,\n",
       " 170: 27885.144921853564,\n",
       " 171: 27907.482892743974,\n",
       " 172: 27863.650320445646,\n",
       " 173: 27899.717985657153,\n",
       " 174: 27870.87447614155,\n",
       " 175: 27732.64925454606,\n",
       " 176: 27682.879484932117,\n",
       " 177: 27649.611383170864,\n",
       " 178: 27725.81001330785,\n",
       " 179: 27689.67052437213,\n",
       " 180: 27689.67052437213,\n",
       " 181: 27795.50956546802,\n",
       " 182: 27831.884320849622,\n",
       " 183: 27887.435119936385,\n",
       " 184: 27887.435119936385,\n",
       " 185: 27860.851160972972,\n",
       " 186: 27836.592800779577,\n",
       " 187: 27742.414718587796,\n",
       " 188: 27758.650944022902,\n",
       " 189: 27910.306195164456,\n",
       " 190: 27957.823318452127,\n",
       " 191: 27930.53260307922,\n",
       " 192: 27905.2005150759,\n",
       " 193: 27931.051490584407,\n",
       " 194: 27931.051490584407,\n",
       " 195: 27974.316280588926,\n",
       " 196: 28060.716138743843,\n",
       " 197: 28159.42285107261,\n",
       " 198: 28174.79460807082,\n",
       " 199: 28156.818723367625,\n",
       " 200: 28112.112673139316,\n",
       " 201: 28139.876371769453,\n",
       " 202: 28090.218837522876,\n",
       " 203: 28090.218837522876,\n",
       " 204: 28079.306633288754,\n",
       " 205: 28051.148338007173,\n",
       " 206: 28078.441056103784,\n",
       " 207: 28028.410536740306,\n",
       " 208: 28007.838714061465,\n",
       " 209: 28007.838714061465,\n",
       " 210: 27980.146552722043,\n",
       " 211: 27985.63353902341,\n",
       " 212: 27863.554282663332,\n",
       " 213: 27978.68148422889,\n",
       " 214: 28071.71801390926,\n",
       " 215: 28048.509965964055,\n",
       " 216: 28048.50996596405,\n",
       " 217: 28066.408082402406,\n",
       " 218: 28066.408082402402,\n",
       " 219: 28076.107996785966,\n",
       " 220: 28076.10799678597,\n",
       " 221: 27980.431626922957,\n",
       " 222: 27995.628544731175,\n",
       " 223: 28013.322608658116,\n",
       " 224: 27927.192471671813,\n",
       " 225: 27927.192471671813,\n",
       " 226: 27952.021238795103,\n",
       " 227: 27989.2514390944,\n",
       " 228: 27960.696004802663,\n",
       " 229: 27883.469977405402,\n",
       " 230: 27759.953995670243,\n",
       " 231: 27759.953995670243,\n",
       " 232: 27804.00487629646,\n",
       " 233: 27784.36446533756,\n",
       " 234: 27695.123139915733,\n",
       " 235: 27739.004418454548,\n",
       " 236: 27764.405592622847,\n",
       " 237: 27689.376483033808,\n",
       " 238: 27716.007272335828,\n",
       " 239: 27716.007272335828,\n",
       " 240: 27716.007272335828,\n",
       " 241: 27687.378766138827,\n",
       " 242: 27706.671003581752,\n",
       " 243: 27693.657304951616,\n",
       " 244: 27723.908446504127,\n",
       " 245: 27723.908446504127,\n",
       " 246: 27723.908446504127,\n",
       " 247: 27723.908446504127,\n",
       " 248: 27723.908446504127,\n",
       " 249: 27741.047620781144,\n",
       " 250: 27852.2584818379,\n",
       " 251: 27917.326974988584,\n",
       " 252: 27953.48035072244,\n",
       " 253: 28043.406312888124,\n",
       " 254: 28043.406312888124,\n",
       " 255: 28033.86708499273,\n",
       " 256: 28063.97013605126,\n",
       " 257: 28108.887601804687,\n",
       " 258: 27928.653051315083,\n",
       " 259: 28025.750330747982,\n",
       " 260: 27935.570525849682,\n",
       " 261: 27975.81025187708,\n",
       " 262: 28024.90699845242,\n",
       " 263: 28024.90699845242,\n",
       " 264: 27855.51316283598,\n",
       " 265: 27873.260080644202,\n",
       " 266: 27873.260080644202,\n",
       " 267: 27873.260080644202,\n",
       " 268: 27874.544327219544,\n",
       " 269: 27848.72485559528,\n",
       " 270: 27809.341293951442,\n",
       " 271: 27837.166636417194,\n",
       " 272: 27837.166636417194,\n",
       " 273: 27820.34955341961,\n",
       " 274: 27807.203760856013,\n",
       " 275: 27807.203760856013,\n",
       " 276: 27807.203760856013,\n",
       " 277: 27822.143829349163,\n",
       " 278: 27761.588820578287,\n",
       " 279: 27744.385624231258,\n",
       " 280: 27759.682427884225,\n",
       " 281: 27745.42117543804,\n",
       " 282: 27745.42117543804,\n",
       " 283: 27767.473111604148,\n",
       " 284: 27754.88416835561,\n",
       " 285: 27721.509412974003,\n",
       " 286: 27707.58157540062,\n",
       " 287: 27736.023356222537,\n",
       " 288: 27795.489109647195,\n",
       " 289: 27857.989109647195,\n",
       " 290: 27869.42331081745,\n",
       " 291: 27850.267620617236,\n",
       " 292: 27886.226524726826,\n",
       " 293: 27870.290451667464,\n",
       " 294: 27872.61160844068,\n",
       " 295: 27851.95902092165,\n",
       " 296: 27837.832308592882,\n",
       " 297: 27881.582308592882,\n",
       " 298: 27920.699507984056,\n",
       " 299: 27945.37606810582,\n",
       " 300: 27945.37606810582,\n",
       " 301: 27895.387483630933,\n",
       " 302: 27900.809858060158,\n",
       " 303: 27929.824317725306,\n",
       " 304: 27949.113358821196,\n",
       " 305: 27949.113358821192,\n",
       " 306: 28011.556281195622,\n",
       " 307: 28021.10765105863,\n",
       " 308: 27982.18784512256,\n",
       " 309: 27964.56553592491,\n",
       " 310: 28024.497042774226,\n",
       " 311: 28024.497042774226,\n",
       " 312: 27911.312111267376,\n",
       " 313: 27887.567819029933,\n",
       " 314: 27769.41713409843,\n",
       " 315: 27699.09749939523,\n",
       " 316: 27699.09749939523,\n",
       " 317: 27668.960513093858,\n",
       " 318: 27729.051837294774,\n",
       " 319: 27731.748294799563,\n",
       " 320: 27731.748294799563,\n",
       " 321: 27806.348751420566,\n",
       " 322: 27777.624436352075,\n",
       " 323: 27799.163086058532,\n",
       " 324: 27758.923360031138,\n",
       " 325: 27838.97472989415,\n",
       " 326: 27838.97472989415,\n",
       " 327: 27913.708367641484,\n",
       " 328: 27913.708367641484,\n",
       " 329: 27913.708367641484,\n",
       " 330: 27968.502888189432,\n",
       " 331: 28024.849920152898,\n",
       " 332: 28052.30154007027,\n",
       " 333: 28106.594348289447,\n",
       " 334: 28106.594348289447,\n",
       " 335: 28050.917635960683,\n",
       " 336: 28050.917635960683,\n",
       " 337: 28050.917635960683,\n",
       " 338: 28050.917635960683,\n",
       " 339: 28037.94317819813,\n",
       " 340: 28035.33757053229,\n",
       " 341: 28099.54989929941,\n",
       " 342: 28166.800388536205,\n",
       " 343: 28142.44404852918,\n",
       " 344: 28225.13811245612,\n",
       " 345: 28225.13811245612,\n",
       " 346: 28208.836742593106,\n",
       " 347: 28208.836742593106,\n",
       " 348: 28186.69062387165,\n",
       " 349: 28186.69062387165,\n",
       " 350: 28189.282672867805,\n",
       " 351: 28186.96151609459,\n",
       " 352: 28175.56112895939,\n",
       " 353: 28184.92084030969,\n",
       " 354: 28184.92084030969,\n",
       " 355: 28156.467643962656,\n",
       " 356: 28181.901433916995,\n",
       " 357: 28210.31981291243,\n",
       " 358: 28210.31981291243,\n",
       " 359: 28174.629989037672,\n",
       " 360: 28155.908527850457,\n",
       " 361: 28166.292313328122,\n",
       " 362: 28182.877440529683,\n",
       " 363: 28182.877440529683,\n",
       " 364: 28200.60004326941,\n",
       " 365: 28235.2567213516,\n",
       " 366: 28212.666212545337,\n",
       " 367: 28224.951491953907,\n",
       " 368: 28209.540533049796,\n",
       " 369: 28265.5907613603,\n",
       " 370: 28265.5907613603,\n",
       " 371: 28260.721600840454,\n",
       " 372: 28258.52455131464,\n",
       " 373: 28270.93322711373,\n",
       " 374: 28296.59532757035,\n",
       " 375: 28338.728128179173,\n",
       " 376: 28340.83926856086,\n",
       " 377: 28375.085843903325,\n",
       " 378: 28387.263135789526,\n",
       " 379: 28390.38368818234,\n",
       " 380: 28336.388254392386,\n",
       " 381: 28336.388254392386,\n",
       " 382: 28324.359487269092,\n",
       " 383: 28343.37347128736,\n",
       " 384: 28343.37347128736,\n",
       " 385: 28343.37347128736,\n",
       " 386: 28343.37347128736,\n",
       " 387: 28343.37347128736,\n",
       " 388: 28362.06639366179,\n",
       " 389: 28389.178265807906,\n",
       " 390: 28382.17574237604,\n",
       " 391: 28385.02962365458,\n",
       " 392: 28400.516320177234,\n",
       " 393: 28400.516320177234,\n",
       " 394: 28452.68526994892,\n",
       " 395: 28452.68526994892,\n",
       " 396: 28468.832530222895,\n",
       " 397: 28432.873626113305,\n",
       " 398: 28432.873626113305,\n",
       " 399: 28405.7699079137}"
      ]
     },
     "execution_count": 118,
     "metadata": {},
     "output_type": "execute_result"
    }
   ],
   "source": [
    "minimums(get_mae, 20)"
   ]
  },
  {
   "cell_type": "markdown",
   "metadata": {},
   "source": [
    "As we can see, the number of Leaf nodes for getting the minimun MAE: 74-75, which gives us a mae of: "
   ]
  },
  {
   "cell_type": "code",
   "execution_count": 119,
   "metadata": {},
   "outputs": [
    {
     "data": {
      "text/plain": [
       "24774.743398017068"
      ]
     },
     "execution_count": 119,
     "metadata": {},
     "output_type": "execute_result"
    }
   ],
   "source": [
    "get_mae(74)"
   ]
  },
  {
   "cell_type": "code",
   "execution_count": 120,
   "metadata": {},
   "outputs": [
    {
     "data": {
      "text/plain": [
       "24774.743398017068"
      ]
     },
     "execution_count": 120,
     "metadata": {},
     "output_type": "execute_result"
    }
   ],
   "source": [
    "get_mae(75)"
   ]
  },
  {
   "cell_type": "markdown",
   "metadata": {},
   "source": [
    "The Mean price of sales is 180921(dollars), the optimized model gives us a MAE of 24775(dollars),  Around 13.69% error.\n",
    "\n",
    "Let's find the minimun value for the **X1** and **X3** groups of features:"
   ]
  },
  {
   "cell_type": "code",
   "execution_count": 121,
   "metadata": {},
   "outputs": [],
   "source": [
    "def get_mae1(max_leaf_nodes1):\n",
    "    model1 = DecisionTreeRegressor(max_leaf_nodes=max_leaf_nodes1, random_state=0)\n",
    "    model1.fit(train_X1, train_y1)\n",
    "    preds_val1 = model1.predict(val_X1)\n",
    "    mae1 = mean_absolute_error(val_y1, preds_val1)\n",
    "    return(mae1)"
   ]
  },
  {
   "cell_type": "markdown",
   "metadata": {},
   "source": [
    "Let's do a quick test of the **get_mae1** function:"
   ]
  },
  {
   "cell_type": "code",
   "execution_count": 122,
   "metadata": {},
   "outputs": [
    {
     "data": {
      "text/plain": [
       "44996.39804393829"
      ]
     },
     "execution_count": 122,
     "metadata": {},
     "output_type": "execute_result"
    }
   ],
   "source": [
    "get_mae1(2)"
   ]
  },
  {
   "cell_type": "code",
   "execution_count": 123,
   "metadata": {},
   "outputs": [
    {
     "data": {
      "text/plain": [
       "24199.85082266677"
      ]
     },
     "execution_count": 123,
     "metadata": {},
     "output_type": "execute_result"
    }
   ],
   "source": [
    "get_mae1(20)"
   ]
  },
  {
   "cell_type": "code",
   "execution_count": 124,
   "metadata": {},
   "outputs": [
    {
     "data": {
      "text/plain": [
       "25831.53690060803"
      ]
     },
     "execution_count": 124,
     "metadata": {},
     "output_type": "execute_result"
    }
   ],
   "source": [
    "get_mae1(200)"
   ]
  },
  {
   "cell_type": "code",
   "execution_count": 125,
   "metadata": {},
   "outputs": [
    {
     "data": {
      "text/plain": [
       "28650.58219178082"
      ]
     },
     "execution_count": 125,
     "metadata": {},
     "output_type": "execute_result"
    }
   ],
   "source": [
    "get_mae1(2000)"
   ]
  },
  {
   "cell_type": "markdown",
   "metadata": {},
   "source": [
    "As we can see, somewhere between 20 and 200 leaves give us the minimun MAE1. Let's build a function to find the number of leaves to have the minimum MAE1:"
   ]
  },
  {
   "cell_type": "code",
   "execution_count": 126,
   "metadata": {},
   "outputs": [],
   "source": [
    "def minimums1(get_mae1, leaf_nodes1):\n",
    "    leaf_nodes1 = 20\n",
    "    maes1 = {}\n",
    "    while leaf_nodes1<200:\n",
    "        my_mae1 = get_mae1(leaf_nodes1)        \n",
    "        maes1.update({leaf_nodes1: my_mae1})\n",
    "        leaf_nodes1 = leaf_nodes1+1\n",
    "    maes_dict1 = maes1\n",
    "    val1 = maes_dict1.values()\n",
    "    minval1 = min(val1)\n",
    "    for i in maes_dict1:\n",
    "        if maes_dict1[i]== minval1:\n",
    "            print(\"Leaf nodes for minimun MAE: %d\" %(i))\n",
    "    return maes_dict1"
   ]
  },
  {
   "cell_type": "code",
   "execution_count": 127,
   "metadata": {},
   "outputs": [
    {
     "name": "stdout",
     "output_type": "stream",
     "text": [
      "Leaf nodes for minimun MAE: 80\n"
     ]
    },
    {
     "data": {
      "text/plain": [
       "{20: 24199.85082266677,\n",
       " 21: 24647.668581962265,\n",
       " 22: 24665.831998154146,\n",
       " 23: 24760.15017043537,\n",
       " 24: 24595.51906648694,\n",
       " 25: 24991.629893009333,\n",
       " 26: 24960.469447803855,\n",
       " 27: 24775.124503574563,\n",
       " 28: 25003.30946348788,\n",
       " 29: 24958.92332094272,\n",
       " 30: 24816.533749956827,\n",
       " 31: 24819.951558176002,\n",
       " 32: 24921.782037628058,\n",
       " 33: 24907.116564402655,\n",
       " 34: 24626.26839088667,\n",
       " 35: 24294.813767599,\n",
       " 36: 24325.75521828153,\n",
       " 37: 24239.043521996206,\n",
       " 38: 24095.55402427931,\n",
       " 39: 24181.79686867457,\n",
       " 40: 24468.43258231742,\n",
       " 41: 24439.585748625905,\n",
       " 42: 24410.792697164525,\n",
       " 43: 24530.578275551128,\n",
       " 44: 24667.472777073195,\n",
       " 45: 24894.057708580047,\n",
       " 46: 24894.057708580047,\n",
       " 47: 25220.63692631617,\n",
       " 48: 24991.890840210493,\n",
       " 49: 24991.890840210493,\n",
       " 50: 25063.711072752612,\n",
       " 51: 24890.18481704485,\n",
       " 52: 24969.263584168137,\n",
       " 53: 24938.207388651328,\n",
       " 54: 24910.770027148505,\n",
       " 55: 24561.451748038915,\n",
       " 56: 24839.393001990444,\n",
       " 57: 24685.28341294935,\n",
       " 58: 24646.99218378834,\n",
       " 59: 24554.389280983385,\n",
       " 60: 24670.608281928115,\n",
       " 61: 24670.608281928115,\n",
       " 62: 24795.454172339072,\n",
       " 63: 24759.530035948366,\n",
       " 64: 24783.30000819683,\n",
       " 65: 24783.30000819683,\n",
       " 66: 24615.162092124185,\n",
       " 67: 24639.929198115606,\n",
       " 68: 24639.929198115606,\n",
       " 69: 24554.395282715934,\n",
       " 70: 24575.428090798196,\n",
       " 71: 24295.879451336274,\n",
       " 72: 24171.09097496248,\n",
       " 73: 24009.263308621976,\n",
       " 74: 23979.566105425627,\n",
       " 75: 24065.31953008316,\n",
       " 76: 23997.620786351883,\n",
       " 77: 23756.431573411875,\n",
       " 78: 23735.515010522715,\n",
       " 79: 23573.895207590725,\n",
       " 80: 23551.371234987982,\n",
       " 81: 23682.03561854963,\n",
       " 82: 23851.670321745976,\n",
       " 83: 24125.417182476573,\n",
       " 84: 24125.417182476573,\n",
       " 85: 24125.417182476573,\n",
       " 86: 24115.597888998313,\n",
       " 87: 23956.02329929544,\n",
       " 88: 23871.294158573153,\n",
       " 89: 23795.061281860824,\n",
       " 90: 23896.06941542247,\n",
       " 91: 23733.52192683799,\n",
       " 92: 23834.344073077005,\n",
       " 93: 23809.92383905874,\n",
       " 94: 23831.15753301889,\n",
       " 95: 23960.032044023817,\n",
       " 96: 24005.681239973786,\n",
       " 97: 24076.281872218253,\n",
       " 98: 24312.007899615513,\n",
       " 99: 24498.15601605387,\n",
       " 100: 24483.972034111153,\n",
       " 101: 24693.529441731735,\n",
       " 102: 24764.21116262215,\n",
       " 103: 24673.59540919749,\n",
       " 104: 24673.59540919749,\n",
       " 105: 24537.461897186375,\n",
       " 106: 24524.659742506006,\n",
       " 107: 24478.796728807378,\n",
       " 108: 24474.687710542537,\n",
       " 109: 24493.98037536473,\n",
       " 110: 24517.204233103177,\n",
       " 111: 24517.204233103177,\n",
       " 112: 24667.51682576166,\n",
       " 113: 24544.22855627595,\n",
       " 114: 24544.22855627595,\n",
       " 115: 24544.22855627595,\n",
       " 116: 24536.394433571197,\n",
       " 117: 24566.175782359398,\n",
       " 118: 24566.175782359398,\n",
       " 119: 24566.175782359398,\n",
       " 120: 24566.175782359398,\n",
       " 121: 24566.175782359398,\n",
       " 122: 24492.260257245245,\n",
       " 123: 24492.260257245245,\n",
       " 124: 24449.996130532916,\n",
       " 125: 24461.612283500952,\n",
       " 126: 24461.612283500952,\n",
       " 127: 24461.612283500952,\n",
       " 128: 24449.185640215237,\n",
       " 129: 24459.299963341746,\n",
       " 130: 24437.914403981016,\n",
       " 131: 24505.20892452896,\n",
       " 132: 24558.405271560925,\n",
       " 133: 24581.807098044945,\n",
       " 134: 24654.689737665594,\n",
       " 135: 24633.920267409823,\n",
       " 136: 24503.108842169368,\n",
       " 137: 24565.274279471792,\n",
       " 138: 24545.94352461021,\n",
       " 139: 24542.21272344791,\n",
       " 140: 24404.0569015301,\n",
       " 141: 24429.09970974928,\n",
       " 142: 24449.03203199324,\n",
       " 143: 24460.809048736017,\n",
       " 144: 24460.809048736017,\n",
       " 145: 24469.853155677978,\n",
       " 146: 24493.16414632579,\n",
       " 147: 24461.21118347814,\n",
       " 148: 24622.328839490314,\n",
       " 149: 24499.573892762768,\n",
       " 150: 24642.35135717319,\n",
       " 151: 24663.174498073382,\n",
       " 152: 24631.7366121137,\n",
       " 153: 24539.735111694743,\n",
       " 154: 24539.735111694743,\n",
       " 155: 24539.735111694743,\n",
       " 156: 24619.187166489264,\n",
       " 157: 24530.928849463828,\n",
       " 158: 24752.62028781999,\n",
       " 159: 24674.74456915029,\n",
       " 160: 24674.74456915029,\n",
       " 161: 24865.992122966338,\n",
       " 162: 24889.576106106488,\n",
       " 163: 25217.795284188676,\n",
       " 164: 25196.58018802153,\n",
       " 165: 25386.763901872368,\n",
       " 166: 25526.118016716635,\n",
       " 167: 25271.936796139005,\n",
       " 168: 25211.354153745353,\n",
       " 169: 25211.354153745353,\n",
       " 170: 25483.27196196453,\n",
       " 171: 25567.746847809274,\n",
       " 172: 25713.466025891466,\n",
       " 173: 25544.574962616836,\n",
       " 174: 25543.08246424763,\n",
       " 175: 25543.08246424763,\n",
       " 176: 25416.027669727082,\n",
       " 177: 25416.027669727082,\n",
       " 178: 25385.38484374664,\n",
       " 179: 25385.38484374664,\n",
       " 180: 25401.59353316587,\n",
       " 181: 25466.73387227881,\n",
       " 182: 25505.650435167976,\n",
       " 183: 25490.577314101705,\n",
       " 184: 25477.556361424242,\n",
       " 185: 25448.841064620592,\n",
       " 186: 25448.841064620592,\n",
       " 187: 25510.04730510765,\n",
       " 188: 25599.773332504912,\n",
       " 189: 25599.773332504912,\n",
       " 190: 25573.994222915873,\n",
       " 191: 25484.350754227027,\n",
       " 192: 25488.513853542096,\n",
       " 193: 25561.701801396077,\n",
       " 194: 25540.940241429624,\n",
       " 195: 25570.170808176874,\n",
       " 196: 25656.023547902896,\n",
       " 197: 25590.098890368652,\n",
       " 198: 25687.545617918116,\n",
       " 199: 25699.89306499159}"
      ]
     },
     "execution_count": 127,
     "metadata": {},
     "output_type": "execute_result"
    }
   ],
   "source": [
    "minimums1(get_mae1, 20)"
   ]
  },
  {
   "cell_type": "markdown",
   "metadata": {},
   "source": [
    "As we can see, the number of Leaf nodes for getting the minimun **MAE1** is 80, which gives us a mae of: "
   ]
  },
  {
   "cell_type": "code",
   "execution_count": 128,
   "metadata": {},
   "outputs": [
    {
     "data": {
      "text/plain": [
       "23551.371234987982"
      ]
     },
     "execution_count": 128,
     "metadata": {},
     "output_type": "execute_result"
    }
   ],
   "source": [
    "get_mae1(80)"
   ]
  },
  {
   "cell_type": "markdown",
   "metadata": {},
   "source": [
    "The Mean price of sales is 180921(dollars), the optimized model gives us a MAE of 23552(dollars),  Around 13% error.\n",
    "\n",
    "Let's find the minimun value for the **X3**:"
   ]
  },
  {
   "cell_type": "code",
   "execution_count": 129,
   "metadata": {},
   "outputs": [],
   "source": [
    "def get_mae3(max_leaf_nodes3):\n",
    "    model3 = DecisionTreeRegressor(max_leaf_nodes=max_leaf_nodes3, random_state=0)\n",
    "    model3.fit(train_X3, train_y3)\n",
    "    preds_val3 = model3.predict(val_X3)\n",
    "    mae3 = mean_absolute_error(val_y3, preds_val3)\n",
    "    return(mae3)"
   ]
  },
  {
   "cell_type": "markdown",
   "metadata": {},
   "source": [
    "Let's do a quick test of the **get_mae3** function:"
   ]
  },
  {
   "cell_type": "code",
   "execution_count": 130,
   "metadata": {},
   "outputs": [
    {
     "data": {
      "text/plain": [
       "44996.39804393829"
      ]
     },
     "execution_count": 130,
     "metadata": {},
     "output_type": "execute_result"
    }
   ],
   "source": [
    "get_mae3(2)"
   ]
  },
  {
   "cell_type": "code",
   "execution_count": 131,
   "metadata": {},
   "outputs": [
    {
     "data": {
      "text/plain": [
       "28992.83032283407"
      ]
     },
     "execution_count": 131,
     "metadata": {},
     "output_type": "execute_result"
    }
   ],
   "source": [
    "get_mae3(20)"
   ]
  },
  {
   "cell_type": "code",
   "execution_count": 132,
   "metadata": {},
   "outputs": [
    {
     "data": {
      "text/plain": [
       "30681.33477693426"
      ]
     },
     "execution_count": 132,
     "metadata": {},
     "output_type": "execute_result"
    }
   ],
   "source": [
    "get_mae3(200)"
   ]
  },
  {
   "cell_type": "code",
   "execution_count": 133,
   "metadata": {},
   "outputs": [
    {
     "data": {
      "text/plain": [
       "31491.707762557075"
      ]
     },
     "execution_count": 133,
     "metadata": {},
     "output_type": "execute_result"
    }
   ],
   "source": [
    "get_mae3(2000)"
   ]
  },
  {
   "cell_type": "markdown",
   "metadata": {},
   "source": [
    "As we can see, somewhere between 20 and 200 leaves give us the minimun MAE3. Let's build a function to find the number of leaves to have the minimum MAE3:"
   ]
  },
  {
   "cell_type": "code",
   "execution_count": 134,
   "metadata": {},
   "outputs": [],
   "source": [
    "def minimums3(get_mae3, leaf_nodes3):\n",
    "    leaf_nodes3 = 20\n",
    "    maes3 = {}\n",
    "    while leaf_nodes3<200:\n",
    "        my_mae3 = get_mae3(leaf_nodes3)        \n",
    "        maes3.update({leaf_nodes3: my_mae3})\n",
    "        leaf_nodes3 = leaf_nodes3+1\n",
    "    maes_dict3 = maes3\n",
    "    val3 = maes_dict3.values()\n",
    "    minval3 = min(val3)\n",
    "    for i in maes_dict3:\n",
    "        if maes_dict3[i]== minval3:\n",
    "            print(\"Leaf nodes for minimun MAE: %d\" %(i))\n",
    "    return maes_dict3"
   ]
  },
  {
   "cell_type": "code",
   "execution_count": 135,
   "metadata": {},
   "outputs": [
    {
     "name": "stdout",
     "output_type": "stream",
     "text": [
      "Leaf nodes for minimun MAE: 30\n"
     ]
    },
    {
     "data": {
      "text/plain": [
       "{20: 28992.83032283407,\n",
       " 21: 28357.170361329318,\n",
       " 22: 27960.90626632678,\n",
       " 23: 28544.870062804275,\n",
       " 24: 28295.240578133697,\n",
       " 25: 28400.43663324536,\n",
       " 26: 28696.294935469836,\n",
       " 27: 28348.150990196875,\n",
       " 28: 28101.60319881208,\n",
       " 29: 28026.069380230576,\n",
       " 30: 27708.89125004138,\n",
       " 31: 27897.47246648899,\n",
       " 32: 28035.41045572578,\n",
       " 33: 28568.457944310256,\n",
       " 34: 28470.990009464356,\n",
       " 35: 28572.82048891641,\n",
       " 36: 28624.240694395867,\n",
       " 37: 28564.619053639894,\n",
       " 38: 28619.012217048006,\n",
       " 39: 28198.94197782809,\n",
       " 40: 28085.988479321695,\n",
       " 41: 28337.758732121918,\n",
       " 42: 28337.758732121918,\n",
       " 43: 28457.544310508518,\n",
       " 44: 28594.438812030592,\n",
       " 45: 28601.530117979935,\n",
       " 46: 28887.489022089525,\n",
       " 47: 28869.133833150212,\n",
       " 48: 28869.133833150212,\n",
       " 49: 28869.133833150212,\n",
       " 50: 29314.339312602267,\n",
       " 51: 29091.73657287624,\n",
       " 52: 29086.531393081714,\n",
       " 53: 29053.489992777308,\n",
       " 54: 29087.122068507088,\n",
       " 55: 29202.55063993566,\n",
       " 56: 29585.630874769315,\n",
       " 57: 29526.105411433302,\n",
       " 58: 29442.899646593116,\n",
       " 59: 29474.578489819913,\n",
       " 60: 29440.59612835583,\n",
       " 61: 29630.64100863671,\n",
       " 62: 29479.37757547629,\n",
       " 63: 29487.199387100205,\n",
       " 64: 29188.022935697732,\n",
       " 65: 29232.59812707565,\n",
       " 66: 29172.157773194376,\n",
       " 67: 29302.721485167327,\n",
       " 68: 29444.977811270834,\n",
       " 69: 29371.94365982486,\n",
       " 70: 29371.94365982486,\n",
       " 71: 29622.37372954111,\n",
       " 72: 29547.13851954562,\n",
       " 73: 29546.372537810465,\n",
       " 74: 29603.442335087704,\n",
       " 75: 29591.14593614527,\n",
       " 76: 29670.774931579057,\n",
       " 77: 29738.55461194435,\n",
       " 78: 29738.55461194435,\n",
       " 79: 29738.55461194435,\n",
       " 80: 29738.55461194435,\n",
       " 81: 29823.61073827616,\n",
       " 82: 29823.61073827616,\n",
       " 83: 29716.767087064363,\n",
       " 84: 29661.097917763345,\n",
       " 85: 29595.338214566997,\n",
       " 86: 29492.291024800685,\n",
       " 87: 29393.148312361667,\n",
       " 88: 29367.675738400576,\n",
       " 89: 29445.92524916378,\n",
       " 90: 29411.0205507254,\n",
       " 91: 29471.34208801612,\n",
       " 92: 29536.905253921752,\n",
       " 93: 29723.053370360107,\n",
       " 94: 29773.11710704199,\n",
       " 95: 29782.142006779337,\n",
       " 96: 29719.230299630726,\n",
       " 97: 29592.967457164978,\n",
       " 98: 29444.457183192375,\n",
       " 99: 29456.82602985609,\n",
       " 100: 29303.771235335542,\n",
       " 101: 29322.62218083054,\n",
       " 102: 29217.48164756244,\n",
       " 103: 29247.042149845543,\n",
       " 104: 29211.004764000794,\n",
       " 105: 29130.30613386381,\n",
       " 106: 29100.048529109572,\n",
       " 107: 29045.958642968322,\n",
       " 108: 29199.116023544368,\n",
       " 109: 29084.447073772677,\n",
       " 110: 29008.538532273888,\n",
       " 111: 29008.538532273884,\n",
       " 112: 29092.00559032998,\n",
       " 113: 29143.097199919022,\n",
       " 114: 29143.097199919022,\n",
       " 115: 29289.154155235392,\n",
       " 116: 29205.499500814476,\n",
       " 117: 29366.13372959939,\n",
       " 118: 29461.26017849296,\n",
       " 119: 29490.27756521583,\n",
       " 120: 29449.010441928156,\n",
       " 121: 29449.010441928156,\n",
       " 122: 29514.763866585694,\n",
       " 123: 29410.42281992743,\n",
       " 124: 29571.24045691374,\n",
       " 125: 29393.407851812175,\n",
       " 126: 29537.614472816742,\n",
       " 127: 29537.614472816742,\n",
       " 128: 29752.98776048797,\n",
       " 129: 29671.028742739676,\n",
       " 130: 29625.720235775243,\n",
       " 131: 29428.86798528601,\n",
       " 132: 29329.27439394584,\n",
       " 133: 29441.881025328155,\n",
       " 134: 29408.38958697199,\n",
       " 135: 29244.357052725416,\n",
       " 136: 29244.357052725416,\n",
       " 137: 29276.00208697199,\n",
       " 138: 29424.18016916377,\n",
       " 139: 29353.5431828624,\n",
       " 140: 29433.488632960245,\n",
       " 141: 29319.29711060305,\n",
       " 142: 29190.98848852408,\n",
       " 143: 29190.98848852408,\n",
       " 144: 29245.811547884812,\n",
       " 145: 29312.132166685,\n",
       " 146: 29230.653856182715,\n",
       " 147: 29230.653856182715,\n",
       " 148: 29170.60127558219,\n",
       " 149: 29135.531640878995,\n",
       " 150: 29126.833010742015,\n",
       " 151: 29205.806039923762,\n",
       " 152: 29258.40765576837,\n",
       " 153: 29626.298066727282,\n",
       " 154: 29807.34829503778,\n",
       " 155: 30068.852100212815,\n",
       " 156: 29969.286566086408,\n",
       " 157: 29879.118187090968,\n",
       " 158: 29873.08300989183,\n",
       " 159: 29894.94268553346,\n",
       " 160: 29905.59288924845,\n",
       " 161: 29963.78093408033,\n",
       " 162: 29963.78093408033,\n",
       " 163: 30091.748970610013,\n",
       " 164: 30105.286745620386,\n",
       " 165: 30089.853993441062,\n",
       " 166: 30089.853993441062,\n",
       " 167: 30026.52922175156,\n",
       " 168: 29904.12511216252,\n",
       " 169: 29904.12511216252,\n",
       " 170: 30068.582874719603,\n",
       " 171: 29950.326025404534,\n",
       " 172: 29950.326025404534,\n",
       " 173: 29946.562111905903,\n",
       " 174: 29918.562682682164,\n",
       " 175: 30044.17092756254,\n",
       " 176: 30044.17092756254,\n",
       " 177: 30116.233332433163,\n",
       " 178: 30061.333218277912,\n",
       " 179: 30007.6773963601,\n",
       " 180: 29975.8494854012,\n",
       " 181: 29975.8494854012,\n",
       " 182: 29975.8494854012,\n",
       " 183: 29932.72733928248,\n",
       " 184: 29974.79873820319,\n",
       " 185: 30085.433978600722,\n",
       " 186: 30166.17849914866,\n",
       " 187: 30192.577370165287,\n",
       " 188: 30300.113181855613,\n",
       " 189: 30365.766720668387,\n",
       " 190: 30365.766720668387,\n",
       " 191: 30500.104620211776,\n",
       " 192: 30532.453364504017,\n",
       " 193: 30675.24017957251,\n",
       " 194: 30837.45479144465,\n",
       " 195: 30808.611281929054,\n",
       " 196: 30761.18859258879,\n",
       " 197: 30583.181120608715,\n",
       " 198: 30600.03340707125,\n",
       " 199: 30578.629297482206}"
      ]
     },
     "execution_count": 135,
     "metadata": {},
     "output_type": "execute_result"
    }
   ],
   "source": [
    "minimums1(get_mae3, 20)"
   ]
  },
  {
   "cell_type": "markdown",
   "metadata": {},
   "source": [
    "As we can see, the number of Leaf nodes for getting the minimun **MAE3** is 30, which gives us a mae of:"
   ]
  },
  {
   "cell_type": "code",
   "execution_count": 136,
   "metadata": {},
   "outputs": [
    {
     "data": {
      "text/plain": [
       "27708.89125004138"
      ]
     },
     "execution_count": 136,
     "metadata": {},
     "output_type": "execute_result"
    }
   ],
   "source": [
    "get_mae3(30)"
   ]
  },
  {
   "cell_type": "markdown",
   "metadata": {},
   "source": [
    "The Mean price of sales is 180921(dollars), the optimized model3 gives us a MAE of 27708(dollars),  Around 15% error."
   ]
  },
  {
   "cell_type": "markdown",
   "metadata": {},
   "source": [
    "![green-divider](https://user-images.githubusercontent.com/7065401/52071924-c003ad80-2562-11e9-8297-1c6595f8a7ff.png)\n",
    "\n",
    "### B- Using Random Forest model."
   ]
  },
  {
   "cell_type": "markdown",
   "metadata": {},
   "source": [
    "The random forest uses many trees, and it makes a prediction by averaging the predictions of each component tree. It generally has much better predictive accuracy than a single decision tree and it works well with default parameters. Let's test this model for each group of features:"
   ]
  },
  {
   "cell_type": "markdown",
   "metadata": {},
   "source": [
    "<img src=\"https://www.researchgate.net/profile/Fahimeh-Mirchooli/publication/343886855/figure/fig5/AS:928777047654401@1598449112454/The-general-framework-of-the-random-forest-RF-approach.jpg\"\n",
    "    style=\"width:600px; float: center; margin: 0 40px 40px 40px;\"></img>"
   ]
  },
  {
   "cell_type": "markdown",
   "metadata": {},
   "source": [
    "For  **X1**: "
   ]
  },
  {
   "cell_type": "code",
   "execution_count": 137,
   "metadata": {},
   "outputs": [
    {
     "name": "stdout",
     "output_type": "stream",
     "text": [
      "21838.695073793217\n"
     ]
    }
   ],
   "source": [
    "from sklearn.ensemble import RandomForestRegressor\n",
    "\n",
    "forest_model1 = RandomForestRegressor(random_state=1)\n",
    "forest_model1.fit(train_X1, train_y1)\n",
    "melb_preds1 = forest_model1.predict(val_X1)\n",
    "print(mean_absolute_error(val_y1, melb_preds1))"
   ]
  },
  {
   "cell_type": "markdown",
   "metadata": {},
   "source": [
    "For  **X2**: "
   ]
  },
  {
   "cell_type": "code",
   "execution_count": 138,
   "metadata": {},
   "outputs": [
    {
     "name": "stdout",
     "output_type": "stream",
     "text": [
      "20613.45164155251\n"
     ]
    }
   ],
   "source": [
    "forest_model2 = RandomForestRegressor(random_state=1)\n",
    "forest_model2.fit(train_X2, train_y2)\n",
    "melb_preds2 = forest_model2.predict(val_X2)\n",
    "print(mean_absolute_error(val_y2, melb_preds2))"
   ]
  },
  {
   "cell_type": "markdown",
   "metadata": {},
   "source": [
    "For  **X3**: "
   ]
  },
  {
   "cell_type": "code",
   "execution_count": 139,
   "metadata": {},
   "outputs": [
    {
     "name": "stdout",
     "output_type": "stream",
     "text": [
      "25524.213599641225\n"
     ]
    }
   ],
   "source": [
    "forest_model3 = RandomForestRegressor(random_state=1)\n",
    "forest_model3.fit(train_X3, train_y3)\n",
    "melb_preds3 = forest_model3.predict(val_X3)\n",
    "print(mean_absolute_error(val_y3, melb_preds3))"
   ]
  },
  {
   "cell_type": "markdown",
   "metadata": {},
   "source": [
    "Now, let's build a function that allow us to optimize the number of leaf_tree to get the minumin MAE.\n",
    "\n",
    "Let's start with  **X1**:"
   ]
  },
  {
   "cell_type": "code",
   "execution_count": 140,
   "metadata": {},
   "outputs": [],
   "source": [
    "def get_RFmae1(max_leaf_nodes1):\n",
    "    RFmodel1 = RandomForestRegressor(max_leaf_nodes=max_leaf_nodes1, random_state=0)\n",
    "    RFmodel1.fit(train_X1, train_y1)\n",
    "    RFpreds_val1 = RFmodel1.predict(val_X1)\n",
    "    RFmae1 = mean_absolute_error(val_y1, RFpreds_val1)\n",
    "    return(RFmae1)"
   ]
  },
  {
   "cell_type": "markdown",
   "metadata": {},
   "source": [
    "Let's do a quick test of the **get_RFmae1** function:"
   ]
  },
  {
   "cell_type": "code",
   "execution_count": 141,
   "metadata": {},
   "outputs": [
    {
     "data": {
      "text/plain": [
       "41186.874066542616"
      ]
     },
     "execution_count": 141,
     "metadata": {},
     "output_type": "execute_result"
    }
   ],
   "source": [
    "get_RFmae1(2)"
   ]
  },
  {
   "cell_type": "code",
   "execution_count": 142,
   "metadata": {},
   "outputs": [
    {
     "data": {
      "text/plain": [
       "23028.652736390468"
      ]
     },
     "execution_count": 142,
     "metadata": {},
     "output_type": "execute_result"
    }
   ],
   "source": [
    "get_RFmae1(20)"
   ]
  },
  {
   "cell_type": "code",
   "execution_count": 143,
   "metadata": {},
   "outputs": [
    {
     "data": {
      "text/plain": [
       "20818.35276487528"
      ]
     },
     "execution_count": 143,
     "metadata": {},
     "output_type": "execute_result"
    }
   ],
   "source": [
    "get_RFmae1(100)"
   ]
  },
  {
   "cell_type": "code",
   "execution_count": 144,
   "metadata": {},
   "outputs": [
    {
     "data": {
      "text/plain": [
       "21200.440748082416"
      ]
     },
     "execution_count": 144,
     "metadata": {},
     "output_type": "execute_result"
    }
   ],
   "source": [
    "get_RFmae1(200)"
   ]
  },
  {
   "cell_type": "code",
   "execution_count": 145,
   "metadata": {},
   "outputs": [
    {
     "data": {
      "text/plain": [
       "21459.009990596882"
      ]
     },
     "execution_count": 145,
     "metadata": {},
     "output_type": "execute_result"
    }
   ],
   "source": [
    "get_RFmae1(300)"
   ]
  },
  {
   "cell_type": "code",
   "execution_count": 146,
   "metadata": {},
   "outputs": [
    {
     "data": {
      "text/plain": [
       "21603.150548100464"
      ]
     },
     "execution_count": 146,
     "metadata": {},
     "output_type": "execute_result"
    }
   ],
   "source": [
    "get_RFmae1(500)"
   ]
  },
  {
   "cell_type": "markdown",
   "metadata": {},
   "source": [
    "As we can see, somewhere between 20 and 200 leaves give us the minimun RFmae1. Let's build a function to find the number of leaves to have the minimum **RFmae1**:"
   ]
  },
  {
   "cell_type": "code",
   "execution_count": 147,
   "metadata": {},
   "outputs": [],
   "source": [
    "def RFminimums1(get_RFmae1, RFleaf_nodes1):\n",
    "    RFleaf_nodes1 = 20\n",
    "    RFmaes1 = {}\n",
    "    while RFleaf_nodes1<200:\n",
    "        my_RFmae1 = get_RFmae1(RFleaf_nodes1)        \n",
    "        RFmaes1.update({RFleaf_nodes1: my_RFmae1})\n",
    "        RFleaf_nodes1 = RFleaf_nodes1+1\n",
    "    RFmaes_dict1 = RFmaes1\n",
    "    RFval1 = RFmaes_dict1.values()\n",
    "    RFminval1 = min(RFval1)\n",
    "    for i in RFmaes_dict1:\n",
    "        if RFmaes_dict1[i]== RFminval1:\n",
    "            print(\"Leaf nodes for minimun MAE: %d\" %(i))\n",
    "    return RFmaes_dict1"
   ]
  },
  {
   "cell_type": "code",
   "execution_count": 148,
   "metadata": {},
   "outputs": [
    {
     "name": "stdout",
     "output_type": "stream",
     "text": [
      "Leaf nodes for minimun MAE: 89\n"
     ]
    },
    {
     "data": {
      "text/plain": [
       "{20: 23028.652736390468,\n",
       " 21: 22934.077675888762,\n",
       " 22: 22793.54732420867,\n",
       " 23: 22657.35734511727,\n",
       " 24: 22545.81300512677,\n",
       " 25: 22425.984656500572,\n",
       " 26: 22359.39055722299,\n",
       " 27: 22251.854702068482,\n",
       " 28: 22130.713507331468,\n",
       " 29: 22065.637858576105,\n",
       " 30: 21984.429127521333,\n",
       " 31: 21935.72425746137,\n",
       " 32: 21858.87287437757,\n",
       " 33: 21762.673776479045,\n",
       " 34: 21720.350937663545,\n",
       " 35: 21703.42196141039,\n",
       " 36: 21679.06566610753,\n",
       " 37: 21631.97892759045,\n",
       " 38: 21569.934320481487,\n",
       " 39: 21509.695037130576,\n",
       " 40: 21474.60290529229,\n",
       " 41: 21472.15735347621,\n",
       " 42: 21401.23450170842,\n",
       " 43: 21370.576382950945,\n",
       " 44: 21342.618338587967,\n",
       " 45: 21314.003121077694,\n",
       " 46: 21290.22745427205,\n",
       " 47: 21261.23450613468,\n",
       " 48: 21248.752941341707,\n",
       " 49: 21225.78355563408,\n",
       " 50: 21207.906707420014,\n",
       " 51: 21165.637578732105,\n",
       " 52: 21140.962438379785,\n",
       " 53: 21129.077413232226,\n",
       " 54: 21107.740821256393,\n",
       " 55: 21087.507783957277,\n",
       " 56: 21070.725878395242,\n",
       " 57: 21032.700356124926,\n",
       " 58: 21046.479561772627,\n",
       " 59: 21031.615195283863,\n",
       " 60: 21025.484562310998,\n",
       " 61: 21006.395060420302,\n",
       " 62: 20996.29167091957,\n",
       " 63: 20975.7528270708,\n",
       " 64: 20973.85744464453,\n",
       " 65: 20969.502488827202,\n",
       " 66: 20943.729410100153,\n",
       " 67: 20948.89726994737,\n",
       " 68: 20946.19578215895,\n",
       " 69: 20954.075991771988,\n",
       " 70: 20943.801350134454,\n",
       " 71: 20939.865220383064,\n",
       " 72: 20925.60625267126,\n",
       " 73: 20916.303939582067,\n",
       " 74: 20904.027905675615,\n",
       " 75: 20904.750731057768,\n",
       " 76: 20894.568608143498,\n",
       " 77: 20866.364368652394,\n",
       " 78: 20844.92177764947,\n",
       " 79: 20847.35897102008,\n",
       " 80: 20827.704667316066,\n",
       " 81: 20814.592288950076,\n",
       " 82: 20821.38817157165,\n",
       " 83: 20814.454291408092,\n",
       " 84: 20814.771806213976,\n",
       " 85: 20818.372007950573,\n",
       " 86: 20802.65707424045,\n",
       " 87: 20808.39097838708,\n",
       " 88: 20813.213161832195,\n",
       " 89: 20787.28957259479,\n",
       " 90: 20790.775302020953,\n",
       " 91: 20789.425658981483,\n",
       " 92: 20802.759543659107,\n",
       " 93: 20793.159113948368,\n",
       " 94: 20808.381692522595,\n",
       " 95: 20808.7082072489,\n",
       " 96: 20812.57730313613,\n",
       " 97: 20808.22862670274,\n",
       " 98: 20808.382233281638,\n",
       " 99: 20810.69962673214,\n",
       " 100: 20818.35276487528,\n",
       " 101: 20815.700478079332,\n",
       " 102: 20810.72378677764,\n",
       " 103: 20816.218796359968,\n",
       " 104: 20831.308879684526,\n",
       " 105: 20822.12444013343,\n",
       " 106: 20835.30312520942,\n",
       " 107: 20837.39154883642,\n",
       " 108: 20829.34575430492,\n",
       " 109: 20820.863103936015,\n",
       " 110: 20821.070637579396,\n",
       " 111: 20821.98419922871,\n",
       " 112: 20827.959062291324,\n",
       " 113: 20836.614804054087,\n",
       " 114: 20842.62974590574,\n",
       " 115: 20846.64239953736,\n",
       " 116: 20840.013811775694,\n",
       " 117: 20829.158129502703,\n",
       " 118: 20824.43243363668,\n",
       " 119: 20816.442180698683,\n",
       " 120: 20827.135336473664,\n",
       " 121: 20827.398753615267,\n",
       " 122: 20824.677769315935,\n",
       " 123: 20838.283653351966,\n",
       " 124: 20833.63218079353,\n",
       " 125: 20817.71899678979,\n",
       " 126: 20814.331810696058,\n",
       " 127: 20819.596372648,\n",
       " 128: 20827.400033346385,\n",
       " 129: 20837.8866051178,\n",
       " 130: 20856.31214897808,\n",
       " 131: 20870.70798660416,\n",
       " 132: 20856.243802982564,\n",
       " 133: 20862.182096437264,\n",
       " 134: 20859.801212521852,\n",
       " 135: 20879.436572419523,\n",
       " 136: 20881.591168844185,\n",
       " 137: 20891.421762628033,\n",
       " 138: 20916.104960579643,\n",
       " 139: 20933.32013757509,\n",
       " 140: 20930.21896337683,\n",
       " 141: 20932.937637452018,\n",
       " 142: 20937.57686548759,\n",
       " 143: 20954.85191601525,\n",
       " 144: 20947.71737799921,\n",
       " 145: 20963.55528498358,\n",
       " 146: 20975.741260114915,\n",
       " 147: 20989.661547977437,\n",
       " 148: 20976.379275238985,\n",
       " 149: 20979.139232017493,\n",
       " 150: 20996.058222926924,\n",
       " 151: 21007.82286637136,\n",
       " 152: 21005.14508130552,\n",
       " 153: 21006.258213133326,\n",
       " 154: 21024.88164870043,\n",
       " 155: 21036.51713293205,\n",
       " 156: 21038.504458871856,\n",
       " 157: 21030.017879924315,\n",
       " 158: 21030.48613984285,\n",
       " 159: 21027.132790087882,\n",
       " 160: 21049.582464448573,\n",
       " 161: 21047.34898375663,\n",
       " 162: 21055.564836903934,\n",
       " 163: 21067.425492297476,\n",
       " 164: 21067.213744012424,\n",
       " 165: 21078.224481236623,\n",
       " 166: 21069.75740593729,\n",
       " 167: 21066.086970067507,\n",
       " 168: 21080.279913439765,\n",
       " 169: 21079.858470640986,\n",
       " 170: 21094.121224871797,\n",
       " 171: 21099.279680621683,\n",
       " 172: 21107.181245436026,\n",
       " 173: 21095.13947989528,\n",
       " 174: 21101.78311407868,\n",
       " 175: 21104.505747101914,\n",
       " 176: 21103.581600222038,\n",
       " 177: 21110.84377380248,\n",
       " 178: 21116.94486862383,\n",
       " 179: 21114.97718480077,\n",
       " 180: 21110.62401508526,\n",
       " 181: 21124.084701030388,\n",
       " 182: 21129.118689865933,\n",
       " 183: 21137.584252079017,\n",
       " 184: 21141.324090556816,\n",
       " 185: 21139.371537753235,\n",
       " 186: 21137.200829712667,\n",
       " 187: 21136.99603283515,\n",
       " 188: 21144.71017345814,\n",
       " 189: 21144.40448346985,\n",
       " 190: 21150.066412666856,\n",
       " 191: 21150.073456926115,\n",
       " 192: 21163.436372934953,\n",
       " 193: 21166.208531323962,\n",
       " 194: 21166.7340015575,\n",
       " 195: 21168.247574232042,\n",
       " 196: 21184.408410881588,\n",
       " 197: 21179.12241063826,\n",
       " 198: 21185.521999084034,\n",
       " 199: 21193.367133946766}"
      ]
     },
     "execution_count": 148,
     "metadata": {},
     "output_type": "execute_result"
    }
   ],
   "source": [
    "RFminimums1(get_RFmae1, 20)"
   ]
  },
  {
   "cell_type": "markdown",
   "metadata": {},
   "source": [
    "As we can see, the number of Leaf nodes for getting the minimun **RFmae1** is 89, which gives us a mae of:"
   ]
  },
  {
   "cell_type": "code",
   "execution_count": 149,
   "metadata": {},
   "outputs": [
    {
     "data": {
      "text/plain": [
       "20787.28957259479"
      ]
     },
     "execution_count": 149,
     "metadata": {},
     "output_type": "execute_result"
    }
   ],
   "source": [
    "get_RFmae1(89)"
   ]
  },
  {
   "cell_type": "markdown",
   "metadata": {},
   "source": [
    "The Mean price of sales is 180921(dollars), the optimized RFmodel1 gives us a MAE of 20787(dollars),  Around 11.50% error."
   ]
  },
  {
   "cell_type": "markdown",
   "metadata": {},
   "source": [
    "Now, let's do  **X2**:"
   ]
  },
  {
   "cell_type": "code",
   "execution_count": 150,
   "metadata": {},
   "outputs": [],
   "source": [
    "def get_RFmae2(max_leaf_nodes2):\n",
    "    RFmodel2 = RandomForestRegressor(max_leaf_nodes=max_leaf_nodes2, random_state=0)\n",
    "    RFmodel2.fit(train_X2, train_y2)\n",
    "    RFpreds_val2 = RFmodel2.predict(val_X2)\n",
    "    RFmae2 = mean_absolute_error(val_y2, RFpreds_val2)\n",
    "    return(RFmae2)"
   ]
  },
  {
   "cell_type": "markdown",
   "metadata": {},
   "source": [
    "Let's do a quick test of the **get_RFmae2** function:"
   ]
  },
  {
   "cell_type": "code",
   "execution_count": 151,
   "metadata": {},
   "outputs": [
    {
     "data": {
      "text/plain": [
       "41186.874066542616"
      ]
     },
     "execution_count": 151,
     "metadata": {},
     "output_type": "execute_result"
    }
   ],
   "source": [
    "get_RFmae2(2)"
   ]
  },
  {
   "cell_type": "code",
   "execution_count": 152,
   "metadata": {},
   "outputs": [
    {
     "data": {
      "text/plain": [
       "23657.365338668784"
      ]
     },
     "execution_count": 152,
     "metadata": {},
     "output_type": "execute_result"
    }
   ],
   "source": [
    "get_RFmae2(20)"
   ]
  },
  {
   "cell_type": "code",
   "execution_count": 153,
   "metadata": {},
   "outputs": [
    {
     "data": {
      "text/plain": [
       "20940.775941542288"
      ]
     },
     "execution_count": 153,
     "metadata": {},
     "output_type": "execute_result"
    }
   ],
   "source": [
    "get_RFmae2(100)"
   ]
  },
  {
   "cell_type": "code",
   "execution_count": 154,
   "metadata": {},
   "outputs": [
    {
     "data": {
      "text/plain": [
       "20671.729832291672"
      ]
     },
     "execution_count": 154,
     "metadata": {},
     "output_type": "execute_result"
    }
   ],
   "source": [
    "get_RFmae2(200)"
   ]
  },
  {
   "cell_type": "code",
   "execution_count": 155,
   "metadata": {},
   "outputs": [
    {
     "data": {
      "text/plain": [
       "20663.478063154416"
      ]
     },
     "execution_count": 155,
     "metadata": {},
     "output_type": "execute_result"
    }
   ],
   "source": [
    "get_RFmae2(300)"
   ]
  },
  {
   "cell_type": "code",
   "execution_count": 156,
   "metadata": {},
   "outputs": [
    {
     "data": {
      "text/plain": [
       "20575.277882849656"
      ]
     },
     "execution_count": 156,
     "metadata": {},
     "output_type": "execute_result"
    }
   ],
   "source": [
    "get_RFmae2(500)"
   ]
  },
  {
   "cell_type": "code",
   "execution_count": 157,
   "metadata": {},
   "outputs": [
    {
     "data": {
      "text/plain": [
       "20573.973221624263"
      ]
     },
     "execution_count": 157,
     "metadata": {},
     "output_type": "execute_result"
    }
   ],
   "source": [
    "get_RFmae2(2000)"
   ]
  },
  {
   "cell_type": "code",
   "execution_count": 158,
   "metadata": {},
   "outputs": [
    {
     "data": {
      "text/plain": [
       "20573.973221624263"
      ]
     },
     "execution_count": 158,
     "metadata": {},
     "output_type": "execute_result"
    }
   ],
   "source": [
    "get_RFmae2(10000)"
   ]
  },
  {
   "cell_type": "code",
   "execution_count": 159,
   "metadata": {},
   "outputs": [
    {
     "data": {
      "text/plain": [
       "20573.973221624263"
      ]
     },
     "execution_count": 159,
     "metadata": {},
     "output_type": "execute_result"
    }
   ],
   "source": [
    "get_RFmae2(10000000)"
   ]
  },
  {
   "cell_type": "markdown",
   "metadata": {},
   "source": [
    "For some reason, with the random forest model in X2, the model reaches a minimun value from 2000 tree_leaves ahead.\n",
    "\n",
    "The Mean price of sales is 180921(dollars), the optimized RFmodel2 gives us a MAE of 20573(dollars),  Around 11.37% error."
   ]
  },
  {
   "cell_type": "markdown",
   "metadata": {},
   "source": [
    "Now, let's do  **X3**:"
   ]
  },
  {
   "cell_type": "code",
   "execution_count": 160,
   "metadata": {},
   "outputs": [],
   "source": [
    "def get_RFmae3(max_leaf_nodes3):\n",
    "    RFmodel3 = RandomForestRegressor(max_leaf_nodes=max_leaf_nodes3, random_state=0)\n",
    "    RFmodel3.fit(train_X3, train_y3)\n",
    "    RFpreds_val3 = RFmodel3.predict(val_X3)\n",
    "    RFmae3 = mean_absolute_error(val_y3, RFpreds_val3)\n",
    "    return(RFmae3)"
   ]
  },
  {
   "cell_type": "markdown",
   "metadata": {},
   "source": [
    "Let's do a quick test of the **get_RFmae3** function:"
   ]
  },
  {
   "cell_type": "code",
   "execution_count": 161,
   "metadata": {},
   "outputs": [
    {
     "data": {
      "text/plain": [
       "41186.874066542616"
      ]
     },
     "execution_count": 161,
     "metadata": {},
     "output_type": "execute_result"
    }
   ],
   "source": [
    "get_RFmae3(2)"
   ]
  },
  {
   "cell_type": "code",
   "execution_count": 162,
   "metadata": {},
   "outputs": [
    {
     "data": {
      "text/plain": [
       "25800.045310092184"
      ]
     },
     "execution_count": 162,
     "metadata": {},
     "output_type": "execute_result"
    }
   ],
   "source": [
    "get_RFmae3(20)"
   ]
  },
  {
   "cell_type": "code",
   "execution_count": 163,
   "metadata": {},
   "outputs": [
    {
     "data": {
      "text/plain": [
       "25379.147806943543"
      ]
     },
     "execution_count": 163,
     "metadata": {},
     "output_type": "execute_result"
    }
   ],
   "source": [
    "get_RFmae3(100)"
   ]
  },
  {
   "cell_type": "code",
   "execution_count": 164,
   "metadata": {},
   "outputs": [
    {
     "data": {
      "text/plain": [
       "25258.531474093375"
      ]
     },
     "execution_count": 164,
     "metadata": {},
     "output_type": "execute_result"
    }
   ],
   "source": [
    "get_RFmae3(200)"
   ]
  },
  {
   "cell_type": "code",
   "execution_count": 165,
   "metadata": {},
   "outputs": [
    {
     "data": {
      "text/plain": [
       "25396.28203800319"
      ]
     },
     "execution_count": 165,
     "metadata": {},
     "output_type": "execute_result"
    }
   ],
   "source": [
    "get_RFmae3(300)"
   ]
  },
  {
   "cell_type": "code",
   "execution_count": 166,
   "metadata": {},
   "outputs": [
    {
     "data": {
      "text/plain": [
       "25534.12708144502"
      ]
     },
     "execution_count": 166,
     "metadata": {},
     "output_type": "execute_result"
    }
   ],
   "source": [
    "get_RFmae3(500)"
   ]
  },
  {
   "cell_type": "code",
   "execution_count": 167,
   "metadata": {},
   "outputs": [
    {
     "data": {
      "text/plain": [
       "25562.75156735159"
      ]
     },
     "execution_count": 167,
     "metadata": {},
     "output_type": "execute_result"
    }
   ],
   "source": [
    "get_RFmae3(2000)"
   ]
  },
  {
   "cell_type": "markdown",
   "metadata": {},
   "source": [
    "As we can see, somewhere between 100 and 200 leaves give us the minimun RFmae1. Let's build a function to find the number of leaves to have the minimum **RFmae3**:"
   ]
  },
  {
   "cell_type": "code",
   "execution_count": 168,
   "metadata": {},
   "outputs": [],
   "source": [
    "def RFminimums3(get_RFmae3, RFleaf_nodes3):\n",
    "    RFleaf_nodes3 = 100\n",
    "    RFmaes3 = {}\n",
    "    while RFleaf_nodes3<200:\n",
    "        my_RFmae3 = get_RFmae3(RFleaf_nodes3)        \n",
    "        RFmaes3.update({RFleaf_nodes3: my_RFmae3})\n",
    "        RFleaf_nodes3 = RFleaf_nodes3+1\n",
    "    RFmaes_dict3 = RFmaes3\n",
    "    RFval3 = RFmaes_dict3.values()\n",
    "    RFminval3 = min(RFval3)\n",
    "    for i in RFmaes_dict3:\n",
    "        if RFmaes_dict3[i]== RFminval3:\n",
    "            print(\"Leaf nodes for minimun MAE: %d\" %(i))\n",
    "    return RFmaes_dict3"
   ]
  },
  {
   "cell_type": "code",
   "execution_count": 169,
   "metadata": {},
   "outputs": [
    {
     "name": "stdout",
     "output_type": "stream",
     "text": [
      "Leaf nodes for minimun MAE: 156\n"
     ]
    },
    {
     "data": {
      "text/plain": [
       "{100: 25379.147806943543,\n",
       " 101: 25387.944494461626,\n",
       " 102: 25402.53640655972,\n",
       " 103: 25397.057989667926,\n",
       " 104: 25400.545221277836,\n",
       " 105: 25386.277353888338,\n",
       " 106: 25375.67857529941,\n",
       " 107: 25352.91934164394,\n",
       " 108: 25343.7270729608,\n",
       " 109: 25347.19616442033,\n",
       " 110: 25336.185069105406,\n",
       " 111: 25319.78342344352,\n",
       " 112: 25327.763142080308,\n",
       " 113: 25340.127012435878,\n",
       " 114: 25335.038610867843,\n",
       " 115: 25319.352267583276,\n",
       " 116: 25313.031202986513,\n",
       " 117: 25315.116800769247,\n",
       " 118: 25331.707233469333,\n",
       " 119: 25324.280396740814,\n",
       " 120: 25317.036896169775,\n",
       " 121: 25325.56675571459,\n",
       " 122: 25301.906235434868,\n",
       " 123: 25293.29776940168,\n",
       " 124: 25298.74337019819,\n",
       " 125: 25276.23813295451,\n",
       " 126: 25280.03699749666,\n",
       " 127: 25280.163581857025,\n",
       " 128: 25283.83906743369,\n",
       " 129: 25292.09657298257,\n",
       " 130: 25280.359610601445,\n",
       " 131: 25274.02309338287,\n",
       " 132: 25269.071373506184,\n",
       " 133: 25265.609168775445,\n",
       " 134: 25260.726388319905,\n",
       " 135: 25269.946377358276,\n",
       " 136: 25266.59011420023,\n",
       " 137: 25254.48561100865,\n",
       " 138: 25266.3413469386,\n",
       " 139: 25258.09710360257,\n",
       " 140: 25279.384133837044,\n",
       " 141: 25264.65248825083,\n",
       " 142: 25270.400670984607,\n",
       " 143: 25257.68043934122,\n",
       " 144: 25251.11282269511,\n",
       " 145: 25244.446387540454,\n",
       " 146: 25255.783452639742,\n",
       " 147: 25250.412035521942,\n",
       " 148: 25242.411290845732,\n",
       " 149: 25241.00542654414,\n",
       " 150: 25217.137327324377,\n",
       " 151: 25214.043302753744,\n",
       " 152: 25208.88096168617,\n",
       " 153: 25200.671017088032,\n",
       " 154: 25201.148846200344,\n",
       " 155: 25192.17578295378,\n",
       " 156: 25182.05079320351,\n",
       " 157: 25205.24039903571,\n",
       " 158: 25229.67332270893,\n",
       " 159: 25233.291055468715,\n",
       " 160: 25236.726076279036,\n",
       " 161: 25235.391706076203,\n",
       " 162: 25227.669423830925,\n",
       " 163: 25227.6186918604,\n",
       " 164: 25231.55791406007,\n",
       " 165: 25220.695314981003,\n",
       " 166: 25214.944088000506,\n",
       " 167: 25218.62324495253,\n",
       " 168: 25223.39831211321,\n",
       " 169: 25231.641354796902,\n",
       " 170: 25231.38190497067,\n",
       " 171: 25232.51501215984,\n",
       " 172: 25243.085721472216,\n",
       " 173: 25242.041672632273,\n",
       " 174: 25239.58367351169,\n",
       " 175: 25247.21393169065,\n",
       " 176: 25236.917422276623,\n",
       " 177: 25241.81174867951,\n",
       " 178: 25242.486975440952,\n",
       " 179: 25249.03047851615,\n",
       " 180: 25241.479645756157,\n",
       " 181: 25237.577927787883,\n",
       " 182: 25226.563403644454,\n",
       " 183: 25244.9096053126,\n",
       " 184: 25246.30634643848,\n",
       " 185: 25253.872619423044,\n",
       " 186: 25245.214388011653,\n",
       " 187: 25258.82241393668,\n",
       " 188: 25255.5458133206,\n",
       " 189: 25256.091139300363,\n",
       " 190: 25256.365840220747,\n",
       " 191: 25261.92107769725,\n",
       " 192: 25257.45739260448,\n",
       " 193: 25262.581574975833,\n",
       " 194: 25277.172638710912,\n",
       " 195: 25261.985304724247,\n",
       " 196: 25263.652690126873,\n",
       " 197: 25259.56212723468,\n",
       " 198: 25260.72522781862,\n",
       " 199: 25257.525897474792}"
      ]
     },
     "execution_count": 169,
     "metadata": {},
     "output_type": "execute_result"
    }
   ],
   "source": [
    "RFminimums3(get_RFmae3, 100)"
   ]
  },
  {
   "cell_type": "markdown",
   "metadata": {},
   "source": [
    "As we can see, the number of Leaf nodes for getting the minimun **RFmae1** is 156, which gives us a mae of:"
   ]
  },
  {
   "cell_type": "code",
   "execution_count": 170,
   "metadata": {
    "scrolled": true
   },
   "outputs": [
    {
     "data": {
      "text/plain": [
       "25182.05079320351"
      ]
     },
     "execution_count": 170,
     "metadata": {},
     "output_type": "execute_result"
    }
   ],
   "source": [
    "get_RFmae3(156)"
   ]
  },
  {
   "cell_type": "markdown",
   "metadata": {},
   "source": [
    "The Mean price of sales is 180921(dollars), the optimized RFmodel1 gives us a MAE of 25182(dollars),  Around 13.91% error."
   ]
  },
  {
   "cell_type": "markdown",
   "metadata": {},
   "source": [
    "Now, let's analyse the result so far."
   ]
  },
  {
   "attachments": {
    "image-3.png": {
     "image/png": "[encoded data removed]"
    }
   },
   "cell_type": "markdown",
   "metadata": {},
   "source": [
    "### CONCLUSIONS:\n",
    "\t\t\t\t\t\t\t\n",
    "![image-3.png](attachment:image-3.png)"
   ]
  },
  {
   "cell_type": "markdown",
   "metadata": {},
   "source": [
    "* Random forest perform better than decision tree\n",
    "* The search for the Number of leave optimal for minimal MAE brought and improvement in 2 percentual points in the decision tree method, and around 1% in the random forest method.\n",
    "* Features X2 are the ones that perform the best. X1 had extremely off results with the default option for decision tree, but it improved considerably after looking for the optimal number of leaves.\n",
    "* So far, we have manage to optimize the model in 6 percentual points, moving from 17.49% to 11.37%."
   ]
  },
  {
   "cell_type": "markdown",
   "metadata": {},
   "source": [
    "![green-divider](https://user-images.githubusercontent.com/7065401/52071924-c003ad80-2562-11e9-8297-1c6595f8a7ff.png)\n",
    "\n",
    "### C- Using the ''Cross-Validation'' Method."
   ]
  },
  {
   "cell_type": "markdown",
   "metadata": {},
   "source": [
    "In cross-validation, we run our modeling process on different subsets of the data to get multiple measures of model quality.\n",
    "\n",
    "For example, we could begin by dividing the data into 5 pieces, each 20% of the full dataset. In this case, we say that we have broken the data into 5 \"folds\", Then we run one experiment for each fold.\n",
    "\n",
    "Cross-validation gives a more accurate measure of model quality, which is especially important if you are making a lot of modeling decisions. However, it can take longer to run, because it estimates multiple models (one for each fold).\n",
    "\n",
    "So, given these tradeoffs, we should use this approach for small datasets, where extra computational burden isn't a big deal, you should run cross-validation."
   ]
  },
  {
   "cell_type": "markdown",
   "metadata": {},
   "source": [
    "<img src=\"https://www.dummies.com/wp-content/uploads/9781119245513-fg1104.jpg\"\n",
    "    style=\"width:600px; float: center; margin: 0 40px 40px 40px;\"></img>"
   ]
  },
  {
   "cell_type": "code",
   "execution_count": 171,
   "metadata": {},
   "outputs": [],
   "source": [
    "# Let's import the library:\n",
    "from sklearn.model_selection import cross_val_score"
   ]
  },
  {
   "cell_type": "markdown",
   "metadata": {},
   "source": [
    "Let's do the process for **X1**:"
   ]
  },
  {
   "cell_type": "code",
   "execution_count": 172,
   "metadata": {
    "scrolled": true
   },
   "outputs": [
    {
     "name": "stdout",
     "output_type": "stream",
     "text": [
      "RF - ''Cross-Validation'' - MAE scores for X1:\n",
      " [21601.03205637 23651.87940944 22655.91485222 23724.2215747\n",
      " 19714.76448275]\n",
      "RF - ''Cross-Validation''-Average MAE score1 (across experiments):\n",
      "22269.562475096893\n"
     ]
    }
   ],
   "source": [
    "# Multiply by -1 since sklearn calculates *negative* MAE\n",
    "scores1 = -1 * cross_val_score(forest_model1, train_X1, train_y1,\n",
    "                              cv=5,\n",
    "                              scoring='neg_mean_absolute_error')\n",
    "\n",
    "print(\"RF - ''Cross-Validation'' - MAE scores for X1:\\n\", scores1)\n",
    "print(\"RF - ''Cross-Validation''-Average MAE score1 (across experiments):\")\n",
    "print(scores1.mean())"
   ]
  },
  {
   "cell_type": "markdown",
   "metadata": {},
   "source": [
    "Let's do the process for **X2**:"
   ]
  },
  {
   "cell_type": "code",
   "execution_count": 173,
   "metadata": {
    "scrolled": true
   },
   "outputs": [
    {
     "name": "stdout",
     "output_type": "stream",
     "text": [
      "RF - ''Cross-Validation'' - MAE scores for X2:\n",
      " [19435.18473911 22466.3335641  20191.62123321 21658.50686287\n",
      " 19211.28538627]\n",
      "RF - ''Cross-Validation''-Average MAE score2 (across experiments):\n",
      "20592.586357111588\n"
     ]
    }
   ],
   "source": [
    "# Multiply by -1 since sklearn calculates *negative* MAE\n",
    "scores2 = -1 * cross_val_score(forest_model2, train_X2, train_y2,\n",
    "                              cv=5,\n",
    "                              scoring='neg_mean_absolute_error')\n",
    "\n",
    "print(\"RF - ''Cross-Validation'' - MAE scores for X2:\\n\", scores2)\n",
    "print(\"RF - ''Cross-Validation''-Average MAE score2 (across experiments):\")\n",
    "print(scores2.mean())"
   ]
  },
  {
   "cell_type": "markdown",
   "metadata": {},
   "source": [
    "Let's do the process for **X3**:"
   ]
  },
  {
   "cell_type": "code",
   "execution_count": 174,
   "metadata": {
    "scrolled": false
   },
   "outputs": [
    {
     "name": "stdout",
     "output_type": "stream",
     "text": [
      "RF - ''Cross-Validation'' - MAE scores for X3:\n",
      " [22809.95526862 25618.91193205 25071.69685999 26611.01679389\n",
      " 22169.64480217]\n",
      "RF - ''Cross-Validation''-Average MAE score3 (across experiments):\n",
      "24456.24513134343\n"
     ]
    }
   ],
   "source": [
    "# Multiply by -1 since sklearn calculates *negative* MAE\n",
    "scores3 = -1 * cross_val_score(forest_model3, train_X3, train_y3,\n",
    "                              cv=5,\n",
    "                              scoring='neg_mean_absolute_error')\n",
    "\n",
    "print(\"RF - ''Cross-Validation'' - MAE scores for X3:\\n\", scores3)\n",
    "print(\"RF - ''Cross-Validation''-Average MAE score3 (across experiments):\")\n",
    "print(scores3.mean())"
   ]
  },
  {
   "cell_type": "markdown",
   "metadata": {},
   "source": [
    "* This cross validation method help us to confirm that in features **X2** performs in general terms better."
   ]
  },
  {
   "cell_type": "markdown",
   "metadata": {},
   "source": [
    "![green-divider](https://user-images.githubusercontent.com/7065401/52071924-c003ad80-2562-11e9-8297-1c6595f8a7ff.png)\n",
    "\n",
    "### D- Using the ''XGBoost'' Method."
   ]
  },
  {
   "cell_type": "markdown",
   "metadata": {},
   "source": [
    "Gradient boosting is a method that goes through cycles to iteratively add models into an ensemble.\n",
    "\n",
    "It begins by initializing the ensemble with a single model, whose predictions can be pretty naive. (Even if its predictions are wildly inaccurate, subsequent additions to the ensemble will address those errors.)\n",
    "\n",
    "Then, we start the cycle:\n",
    "\n",
    "* First, we use the current ensemble to generate predictions for each observation in the dataset. To make a prediction, we add the predictions from all models in the ensemble.\n",
    "* These predictions are used to calculate a loss function (like mean squared error, for instance).\n",
    "* Then, we use the loss function to fit a new model that will be added to the ensemble. Specifically, we determine model parameters so that adding this new model to the ensemble will reduce the loss. (Side note: The \"gradient\" in \"gradient boosting\" refers to the fact that we'll use gradient descent on the loss function to determine the parameters in this new model.)\n",
    "* Finally, we add the new model to ensemble, and repeat."
   ]
  },
  {
   "cell_type": "markdown",
   "metadata": {},
   "source": [
    "<img src=\"https://www.researchgate.net/profile/Salih-Awadh/publication/344683182/figure/fig4/AS:949696809938952@1603436772830/Schematic-diagram-of-XGBoost-working-model-from-the-feature-input-regularization-loss.png\"\n",
    "    style=\"width:600px; float: center; margin: 0 40px 40px 40px;\"></img>"
   ]
  },
  {
   "cell_type": "code",
   "execution_count": 175,
   "metadata": {},
   "outputs": [],
   "source": [
    "#let's import the library\n",
    "from xgboost import XGBRegressor"
   ]
  },
  {
   "cell_type": "markdown",
   "metadata": {},
   "source": [
    "Let's do the process for **X1**:"
   ]
  },
  {
   "cell_type": "code",
   "execution_count": 176,
   "metadata": {},
   "outputs": [
    {
     "name": "stdout",
     "output_type": "stream",
     "text": [
      "Mean Absolute Error: 19178.22588024401\n"
     ]
    }
   ],
   "source": [
    "#Parameters already Tuned\n",
    "my_modelXG1 = XGBRegressor(n_estimators=500, learning_rate=0.05, n_jobs=3)\n",
    "my_modelXG1.fit(train_X1, train_y1, \n",
    "             early_stopping_rounds=5, \n",
    "             eval_set=[(val_X1, val_y1)],\n",
    "             verbose=False)\n",
    "predictionsXG1 = my_modelXG1.predict(val_X1)\n",
    "print(\"Mean Absolute Error: \" + str(mean_absolute_error(predictionsXG1, val_y1)))"
   ]
  },
  {
   "cell_type": "markdown",
   "metadata": {},
   "source": [
    "Let's do the process for **X2**:"
   ]
  },
  {
   "cell_type": "code",
   "execution_count": 177,
   "metadata": {},
   "outputs": [
    {
     "name": "stdout",
     "output_type": "stream",
     "text": [
      "Mean Absolute Error: 19557.393527932363\n"
     ]
    }
   ],
   "source": [
    "#Parameters already Tuned\n",
    "my_modelXG2 = XGBRegressor(n_estimators=500, learning_rate=0.05, n_jobs=3)\n",
    "my_modelXG2.fit(train_X2, train_y2, \n",
    "             early_stopping_rounds=5, \n",
    "             eval_set=[(val_X2, val_y2)],\n",
    "             verbose=False)\n",
    "predictionsXG2 = my_modelXG2.predict(val_X2)\n",
    "print(\"Mean Absolute Error: \" + str(mean_absolute_error(predictionsXG2, val_y2)))"
   ]
  },
  {
   "cell_type": "markdown",
   "metadata": {},
   "source": [
    "Let's do the process for **X3**:"
   ]
  },
  {
   "cell_type": "code",
   "execution_count": 178,
   "metadata": {
    "scrolled": true
   },
   "outputs": [
    {
     "name": "stdout",
     "output_type": "stream",
     "text": [
      "Mean Absolute Error: 24722.722468964042\n"
     ]
    }
   ],
   "source": [
    "#Parameters already Tuned\n",
    "my_modelXG3 = XGBRegressor(n_estimators=500, learning_rate=0.05, n_jobs=3)\n",
    "my_modelXG3.fit(train_X3, train_y3, \n",
    "             early_stopping_rounds=5, \n",
    "             eval_set=[(val_X3, val_y3)],\n",
    "             verbose=False)\n",
    "predictionsXG3 = my_modelXG3.predict(val_X3)\n",
    "print(\"Mean Absolute Error: \" + str(mean_absolute_error(predictionsXG3, val_y3)))"
   ]
  },
  {
   "attachments": {
    "image-4.png": {
     "image/png": "[encoded data removed]"
    }
   },
   "cell_type": "markdown",
   "metadata": {},
   "source": [
    "### CONCLUSIONS:\n",
    "\t\t\t\t\t\t\t\t\n",
    "![image-4.png](attachment:image-4.png)"
   ]
  },
  {
   "cell_type": "markdown",
   "metadata": {},
   "source": [
    "After building three different models, with three different sets of features, the group X1 and the XGboost provided the best result, a MAE of 19.178 dollar  (around 10.60% of the mean sale prices)."
   ]
  },
  {
   "cell_type": "markdown",
   "metadata": {},
   "source": [
    "![green-divider](https://user-images.githubusercontent.com/7065401/52071924-c003ad80-2562-11e9-8297-1c6595f8a7ff.png)\n",
    "\n",
    "### E- Evaluation of possible ''Data Leakage''."
   ]
  },
  {
   "cell_type": "markdown",
   "metadata": {},
   "source": [
    "<img src=\"http://digital-thinking.de/wp-content/uploads/2020/03/DataLeakage.png\"\n",
    "    style=\"width:600px; float: center; margin: 0 40px 40px 40px;\"></img>"
   ]
  },
  {
   "cell_type": "markdown",
   "metadata": {},
   "source": [
    "Data leakage happens when your training data contains information about the target, but similar data will not be available when the model is used for prediction. This leads to high performance on the training set (and possibly even the validation data), but the model will perform poorly in production. In other words, leakage causes a model to look accurate until you start making decisions with the model, and then the model becomes very inaccurate. There are two main types of leakage: **target leakage** and **train-test contamination**.\n",
    "\n",
    "**Target leakage** occurs when your predictors include data that will not be available at the time you make predictions. It is important to think about target leakage in terms of the timing or chronological order that data becomes available, not merely whether a feature helps make good predictions.\n",
    "\n",
    "A different type of leak occurs when you aren't careful to distinguish training data from validation data. \n",
    "Recall that validation is meant to be a measure of how the model does on data that it hasn't considered before. You can corrupt this process in subtle ways if the validation data affects the preprocessing behavior. This is sometimes called **train-test contamination**."
   ]
  },
  {
   "cell_type": "markdown",
   "metadata": {},
   "source": [
    "All models were fit with train data. In that sense we are sure we wont have problems with train-test contamination. Now, let's bring back the three groups of features we selected to inspect in detail if there is any posibility for Target leakage:"
   ]
  },
  {
   "cell_type": "code",
   "execution_count": 179,
   "metadata": {},
   "outputs": [
    {
     "data": {
      "text/html": [
       "<div>\n",
       "<style scoped>\n",
       "    .dataframe tbody tr th:only-of-type {\n",
       "        vertical-align: middle;\n",
       "    }\n",
       "\n",
       "    .dataframe tbody tr th {\n",
       "        vertical-align: top;\n",
       "    }\n",
       "\n",
       "    .dataframe thead th {\n",
       "        text-align: right;\n",
       "    }\n",
       "</style>\n",
       "<table border=\"1\" class=\"dataframe\">\n",
       "  <thead>\n",
       "    <tr style=\"text-align: right;\">\n",
       "      <th></th>\n",
       "      <th>1stFlrSF</th>\n",
       "      <th>2ndFlrSF</th>\n",
       "      <th>Condition1N</th>\n",
       "      <th>YearBuilt</th>\n",
       "      <th>OverallQual</th>\n",
       "    </tr>\n",
       "  </thead>\n",
       "  <tbody>\n",
       "    <tr>\n",
       "      <th>0</th>\n",
       "      <td>856</td>\n",
       "      <td>854</td>\n",
       "      <td>9</td>\n",
       "      <td>2003</td>\n",
       "      <td>7</td>\n",
       "    </tr>\n",
       "    <tr>\n",
       "      <th>1</th>\n",
       "      <td>1262</td>\n",
       "      <td>0</td>\n",
       "      <td>8</td>\n",
       "      <td>1976</td>\n",
       "      <td>6</td>\n",
       "    </tr>\n",
       "    <tr>\n",
       "      <th>2</th>\n",
       "      <td>920</td>\n",
       "      <td>866</td>\n",
       "      <td>9</td>\n",
       "      <td>2001</td>\n",
       "      <td>7</td>\n",
       "    </tr>\n",
       "    <tr>\n",
       "      <th>3</th>\n",
       "      <td>961</td>\n",
       "      <td>756</td>\n",
       "      <td>9</td>\n",
       "      <td>1915</td>\n",
       "      <td>7</td>\n",
       "    </tr>\n",
       "    <tr>\n",
       "      <th>4</th>\n",
       "      <td>1145</td>\n",
       "      <td>1053</td>\n",
       "      <td>9</td>\n",
       "      <td>2000</td>\n",
       "      <td>8</td>\n",
       "    </tr>\n",
       "    <tr>\n",
       "      <th>...</th>\n",
       "      <td>...</td>\n",
       "      <td>...</td>\n",
       "      <td>...</td>\n",
       "      <td>...</td>\n",
       "      <td>...</td>\n",
       "    </tr>\n",
       "    <tr>\n",
       "      <th>1455</th>\n",
       "      <td>953</td>\n",
       "      <td>694</td>\n",
       "      <td>9</td>\n",
       "      <td>1999</td>\n",
       "      <td>6</td>\n",
       "    </tr>\n",
       "    <tr>\n",
       "      <th>1456</th>\n",
       "      <td>2073</td>\n",
       "      <td>0</td>\n",
       "      <td>9</td>\n",
       "      <td>1978</td>\n",
       "      <td>6</td>\n",
       "    </tr>\n",
       "    <tr>\n",
       "      <th>1457</th>\n",
       "      <td>1188</td>\n",
       "      <td>1152</td>\n",
       "      <td>9</td>\n",
       "      <td>1941</td>\n",
       "      <td>7</td>\n",
       "    </tr>\n",
       "    <tr>\n",
       "      <th>1458</th>\n",
       "      <td>1078</td>\n",
       "      <td>0</td>\n",
       "      <td>9</td>\n",
       "      <td>1950</td>\n",
       "      <td>5</td>\n",
       "    </tr>\n",
       "    <tr>\n",
       "      <th>1459</th>\n",
       "      <td>1256</td>\n",
       "      <td>0</td>\n",
       "      <td>9</td>\n",
       "      <td>1965</td>\n",
       "      <td>5</td>\n",
       "    </tr>\n",
       "  </tbody>\n",
       "</table>\n",
       "<p>1460 rows × 5 columns</p>\n",
       "</div>"
      ],
      "text/plain": [
       "      1stFlrSF  2ndFlrSF  Condition1N  YearBuilt  OverallQual\n",
       "0          856       854            9       2003            7\n",
       "1         1262         0            8       1976            6\n",
       "2          920       866            9       2001            7\n",
       "3          961       756            9       1915            7\n",
       "4         1145      1053            9       2000            8\n",
       "...        ...       ...          ...        ...          ...\n",
       "1455       953       694            9       1999            6\n",
       "1456      2073         0            9       1978            6\n",
       "1457      1188      1152            9       1941            7\n",
       "1458      1078         0            9       1950            5\n",
       "1459      1256         0            9       1965            5\n",
       "\n",
       "[1460 rows x 5 columns]"
      ]
     },
     "execution_count": 179,
     "metadata": {},
     "output_type": "execute_result"
    }
   ],
   "source": [
    "central_features"
   ]
  },
  {
   "cell_type": "code",
   "execution_count": 180,
   "metadata": {},
   "outputs": [
    {
     "data": {
      "text/html": [
       "<div>\n",
       "<style scoped>\n",
       "    .dataframe tbody tr th:only-of-type {\n",
       "        vertical-align: middle;\n",
       "    }\n",
       "\n",
       "    .dataframe tbody tr th {\n",
       "        vertical-align: top;\n",
       "    }\n",
       "\n",
       "    .dataframe thead th {\n",
       "        text-align: right;\n",
       "    }\n",
       "</style>\n",
       "<table border=\"1\" class=\"dataframe\">\n",
       "  <thead>\n",
       "    <tr style=\"text-align: right;\">\n",
       "      <th></th>\n",
       "      <th>1stFlrSF</th>\n",
       "      <th>2ndFlrSF</th>\n",
       "      <th>Condition1N</th>\n",
       "      <th>YearBuilt</th>\n",
       "      <th>OverallQual</th>\n",
       "      <th>LotArea</th>\n",
       "      <th>GarageCars</th>\n",
       "      <th>TotalFullbath</th>\n",
       "    </tr>\n",
       "  </thead>\n",
       "  <tbody>\n",
       "    <tr>\n",
       "      <th>0</th>\n",
       "      <td>856</td>\n",
       "      <td>854</td>\n",
       "      <td>9</td>\n",
       "      <td>2003</td>\n",
       "      <td>7</td>\n",
       "      <td>8450</td>\n",
       "      <td>2</td>\n",
       "      <td>3</td>\n",
       "    </tr>\n",
       "    <tr>\n",
       "      <th>1</th>\n",
       "      <td>1262</td>\n",
       "      <td>0</td>\n",
       "      <td>8</td>\n",
       "      <td>1976</td>\n",
       "      <td>6</td>\n",
       "      <td>9600</td>\n",
       "      <td>2</td>\n",
       "      <td>2</td>\n",
       "    </tr>\n",
       "    <tr>\n",
       "      <th>2</th>\n",
       "      <td>920</td>\n",
       "      <td>866</td>\n",
       "      <td>9</td>\n",
       "      <td>2001</td>\n",
       "      <td>7</td>\n",
       "      <td>11250</td>\n",
       "      <td>2</td>\n",
       "      <td>3</td>\n",
       "    </tr>\n",
       "    <tr>\n",
       "      <th>3</th>\n",
       "      <td>961</td>\n",
       "      <td>756</td>\n",
       "      <td>9</td>\n",
       "      <td>1915</td>\n",
       "      <td>7</td>\n",
       "      <td>9550</td>\n",
       "      <td>3</td>\n",
       "      <td>2</td>\n",
       "    </tr>\n",
       "    <tr>\n",
       "      <th>4</th>\n",
       "      <td>1145</td>\n",
       "      <td>1053</td>\n",
       "      <td>9</td>\n",
       "      <td>2000</td>\n",
       "      <td>8</td>\n",
       "      <td>14260</td>\n",
       "      <td>3</td>\n",
       "      <td>3</td>\n",
       "    </tr>\n",
       "    <tr>\n",
       "      <th>...</th>\n",
       "      <td>...</td>\n",
       "      <td>...</td>\n",
       "      <td>...</td>\n",
       "      <td>...</td>\n",
       "      <td>...</td>\n",
       "      <td>...</td>\n",
       "      <td>...</td>\n",
       "      <td>...</td>\n",
       "    </tr>\n",
       "    <tr>\n",
       "      <th>1455</th>\n",
       "      <td>953</td>\n",
       "      <td>694</td>\n",
       "      <td>9</td>\n",
       "      <td>1999</td>\n",
       "      <td>6</td>\n",
       "      <td>7917</td>\n",
       "      <td>2</td>\n",
       "      <td>2</td>\n",
       "    </tr>\n",
       "    <tr>\n",
       "      <th>1456</th>\n",
       "      <td>2073</td>\n",
       "      <td>0</td>\n",
       "      <td>9</td>\n",
       "      <td>1978</td>\n",
       "      <td>6</td>\n",
       "      <td>13175</td>\n",
       "      <td>2</td>\n",
       "      <td>3</td>\n",
       "    </tr>\n",
       "    <tr>\n",
       "      <th>1457</th>\n",
       "      <td>1188</td>\n",
       "      <td>1152</td>\n",
       "      <td>9</td>\n",
       "      <td>1941</td>\n",
       "      <td>7</td>\n",
       "      <td>9042</td>\n",
       "      <td>1</td>\n",
       "      <td>2</td>\n",
       "    </tr>\n",
       "    <tr>\n",
       "      <th>1458</th>\n",
       "      <td>1078</td>\n",
       "      <td>0</td>\n",
       "      <td>9</td>\n",
       "      <td>1950</td>\n",
       "      <td>5</td>\n",
       "      <td>9717</td>\n",
       "      <td>1</td>\n",
       "      <td>2</td>\n",
       "    </tr>\n",
       "    <tr>\n",
       "      <th>1459</th>\n",
       "      <td>1256</td>\n",
       "      <td>0</td>\n",
       "      <td>9</td>\n",
       "      <td>1965</td>\n",
       "      <td>5</td>\n",
       "      <td>9937</td>\n",
       "      <td>1</td>\n",
       "      <td>2</td>\n",
       "    </tr>\n",
       "  </tbody>\n",
       "</table>\n",
       "<p>1460 rows × 8 columns</p>\n",
       "</div>"
      ],
      "text/plain": [
       "      1stFlrSF  2ndFlrSF  Condition1N  YearBuilt  OverallQual  LotArea  \\\n",
       "0          856       854            9       2003            7     8450   \n",
       "1         1262         0            8       1976            6     9600   \n",
       "2          920       866            9       2001            7    11250   \n",
       "3          961       756            9       1915            7     9550   \n",
       "4         1145      1053            9       2000            8    14260   \n",
       "...        ...       ...          ...        ...          ...      ...   \n",
       "1455       953       694            9       1999            6     7917   \n",
       "1456      2073         0            9       1978            6    13175   \n",
       "1457      1188      1152            9       1941            7     9042   \n",
       "1458      1078         0            9       1950            5     9717   \n",
       "1459      1256         0            9       1965            5     9937   \n",
       "\n",
       "      GarageCars  TotalFullbath  \n",
       "0              2              3  \n",
       "1              2              2  \n",
       "2              2              3  \n",
       "3              3              2  \n",
       "4              3              3  \n",
       "...          ...            ...  \n",
       "1455           2              2  \n",
       "1456           2              3  \n",
       "1457           1              2  \n",
       "1458           1              2  \n",
       "1459           1              2  \n",
       "\n",
       "[1460 rows x 8 columns]"
      ]
     },
     "execution_count": 180,
     "metadata": {},
     "output_type": "execute_result"
    }
   ],
   "source": [
    "combined_features"
   ]
  },
  {
   "cell_type": "code",
   "execution_count": 181,
   "metadata": {},
   "outputs": [
    {
     "data": {
      "text/html": [
       "<div>\n",
       "<style scoped>\n",
       "    .dataframe tbody tr th:only-of-type {\n",
       "        vertical-align: middle;\n",
       "    }\n",
       "\n",
       "    .dataframe tbody tr th {\n",
       "        vertical-align: top;\n",
       "    }\n",
       "\n",
       "    .dataframe thead th {\n",
       "        text-align: right;\n",
       "    }\n",
       "</style>\n",
       "<table border=\"1\" class=\"dataframe\">\n",
       "  <thead>\n",
       "    <tr style=\"text-align: right;\">\n",
       "      <th></th>\n",
       "      <th>1stFlrSF</th>\n",
       "      <th>YearBuilt</th>\n",
       "      <th>OverallQual</th>\n",
       "      <th>TotalFullbath</th>\n",
       "      <th>GarageCars</th>\n",
       "    </tr>\n",
       "  </thead>\n",
       "  <tbody>\n",
       "    <tr>\n",
       "      <th>0</th>\n",
       "      <td>856</td>\n",
       "      <td>2003</td>\n",
       "      <td>7</td>\n",
       "      <td>3</td>\n",
       "      <td>2</td>\n",
       "    </tr>\n",
       "    <tr>\n",
       "      <th>1</th>\n",
       "      <td>1262</td>\n",
       "      <td>1976</td>\n",
       "      <td>6</td>\n",
       "      <td>2</td>\n",
       "      <td>2</td>\n",
       "    </tr>\n",
       "    <tr>\n",
       "      <th>2</th>\n",
       "      <td>920</td>\n",
       "      <td>2001</td>\n",
       "      <td>7</td>\n",
       "      <td>3</td>\n",
       "      <td>2</td>\n",
       "    </tr>\n",
       "    <tr>\n",
       "      <th>3</th>\n",
       "      <td>961</td>\n",
       "      <td>1915</td>\n",
       "      <td>7</td>\n",
       "      <td>2</td>\n",
       "      <td>3</td>\n",
       "    </tr>\n",
       "    <tr>\n",
       "      <th>4</th>\n",
       "      <td>1145</td>\n",
       "      <td>2000</td>\n",
       "      <td>8</td>\n",
       "      <td>3</td>\n",
       "      <td>3</td>\n",
       "    </tr>\n",
       "    <tr>\n",
       "      <th>...</th>\n",
       "      <td>...</td>\n",
       "      <td>...</td>\n",
       "      <td>...</td>\n",
       "      <td>...</td>\n",
       "      <td>...</td>\n",
       "    </tr>\n",
       "    <tr>\n",
       "      <th>1455</th>\n",
       "      <td>953</td>\n",
       "      <td>1999</td>\n",
       "      <td>6</td>\n",
       "      <td>2</td>\n",
       "      <td>2</td>\n",
       "    </tr>\n",
       "    <tr>\n",
       "      <th>1456</th>\n",
       "      <td>2073</td>\n",
       "      <td>1978</td>\n",
       "      <td>6</td>\n",
       "      <td>3</td>\n",
       "      <td>2</td>\n",
       "    </tr>\n",
       "    <tr>\n",
       "      <th>1457</th>\n",
       "      <td>1188</td>\n",
       "      <td>1941</td>\n",
       "      <td>7</td>\n",
       "      <td>2</td>\n",
       "      <td>1</td>\n",
       "    </tr>\n",
       "    <tr>\n",
       "      <th>1458</th>\n",
       "      <td>1078</td>\n",
       "      <td>1950</td>\n",
       "      <td>5</td>\n",
       "      <td>2</td>\n",
       "      <td>1</td>\n",
       "    </tr>\n",
       "    <tr>\n",
       "      <th>1459</th>\n",
       "      <td>1256</td>\n",
       "      <td>1965</td>\n",
       "      <td>5</td>\n",
       "      <td>2</td>\n",
       "      <td>1</td>\n",
       "    </tr>\n",
       "  </tbody>\n",
       "</table>\n",
       "<p>1460 rows × 5 columns</p>\n",
       "</div>"
      ],
      "text/plain": [
       "      1stFlrSF  YearBuilt  OverallQual  TotalFullbath  GarageCars\n",
       "0          856       2003            7              3           2\n",
       "1         1262       1976            6              2           2\n",
       "2          920       2001            7              3           2\n",
       "3          961       1915            7              2           3\n",
       "4         1145       2000            8              3           3\n",
       "...        ...        ...          ...            ...         ...\n",
       "1455       953       1999            6              2           2\n",
       "1456      2073       1978            6              3           2\n",
       "1457      1188       1941            7              2           1\n",
       "1458      1078       1950            5              2           1\n",
       "1459      1256       1965            5              2           1\n",
       "\n",
       "[1460 rows x 5 columns]"
      ]
     },
     "execution_count": 181,
     "metadata": {},
     "output_type": "execute_result"
    }
   ],
   "source": [
    "corr_features"
   ]
  },
  {
   "cell_type": "markdown",
   "metadata": {},
   "source": [
    "As we can see, none of the features in the tables are susceptible to **Target leakage**."
   ]
  },
  {
   "cell_type": "code",
   "execution_count": null,
   "metadata": {},
   "outputs": [],
   "source": []
  }
 ],
 "metadata": {
  "kernelspec": {
   "display_name": "Python 3",
   "language": "python",
   "name": "python3"
  },
  "language_info": {
   "codemirror_mode": {
    "name": "ipython",
    "version": 3
   },
   "file_extension": ".py",
   "mimetype": "text/x-python",
   "name": "python",
   "nbconvert_exporter": "python",
   "pygments_lexer": "ipython3",
   "version": "3.8.5"
  }
 },
 "nbformat": 4,
 "nbformat_minor": 4
}
